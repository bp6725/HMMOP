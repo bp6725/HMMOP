{
 "cells": [
  {
   "cell_type": "markdown",
   "metadata": {},
   "source": [
    "# INIT"
   ]
  },
  {
   "cell_type": "markdown",
   "metadata": {},
   "source": [
    "## load pack"
   ]
  },
  {
   "cell_type": "code",
   "execution_count": 1,
   "metadata": {},
   "outputs": [],
   "source": [
    "import sys\n",
    "sys.path.append(\"../POS_tagging/\")\n",
    "sys.path.append(\"../../../pomegranate/\")\n",
    "sys.path.append(r\"../../../WhoCell\\pomegranate\")\n",
    "sys.path.append(r\"../../../WhoCell\")\n",
    "sys.path.append(r\"../../../WhoCell/\")\n",
    "sys.path.append(r\"../../../WhoCell/who_cell/\")\n",
    "sys.path.append(r\"../../../WhoCell/who_cell/models/\")\n",
    "sys.path.append(r\"../../../WhoCell/who_cell/simulation/\")\n",
    "sys.path.append(r\"../../../WhoCell/who_cell/experiments/\")"
   ]
  },
  {
   "cell_type": "code",
   "execution_count": 2,
   "metadata": {},
   "outputs": [],
   "source": [
    "import matplotlib.pyplot as plt\n",
    "import numpy as np\n",
    "import string\n",
    "\n",
    "from collections import Counter\n",
    "from IPython.core.display import HTML\n",
    "from itertools import chain\n",
    "from collections import Counter, defaultdict\n",
    "from helpers import show_model, Dataset\n",
    "import pandas as pd\n",
    "import seaborn as sns\n",
    "import itertools\n",
    "from functools import reduce\n",
    "\n",
    "from pomegranate import State, HiddenMarkovModel, DiscreteDistribution\n",
    "\n",
    "from simulation_for_gibbs import Simulator_for_Gibbs\n",
    "from gibbs_sampler import GibbsSampler\n",
    "from experiment_report import ExperimentReport \n",
    "from gibbs_experiments import GibbsExperiment\n",
    "from pos_data_builder import PosDataBuilder\n",
    "from pos_code_base import PosCodeBase\n"
   ]
  },
  {
   "cell_type": "code",
   "execution_count": 3,
   "metadata": {},
   "outputs": [
    {
     "name": "stdout",
     "output_type": "stream",
     "text": [
      "{\n",
      "  \"shell_port\": 62812,\n",
      "  \"iopub_port\": 62813,\n",
      "  \"stdin_port\": 62814,\n",
      "  \"control_port\": 62815,\n",
      "  \"hb_port\": 62816,\n",
      "  \"ip\": \"127.0.0.1\",\n",
      "  \"key\": \"4a140f0c-2b72fa585984d59780284f81\",\n",
      "  \"transport\": \"tcp\",\n",
      "  \"signature_scheme\": \"hmac-sha256\",\n",
      "  \"kernel_name\": \"\"\n",
      "}\n",
      "\n",
      "Paste the above JSON into a file, and connect with:\n",
      "    $> jupyter <app> --existing <file>\n",
      "or, if you are local, you can connect with just:\n",
      "    $> jupyter <app> --existing kernel-b54df91c-f3bb-4337-8d9a-e69472ff1ffa.json\n",
      "or even just:\n",
      "    $> jupyter <app> --existing\n",
      "if this is the most recent Jupyter kernel you have started.\n"
     ]
    }
   ],
   "source": [
    "%connect_info\n",
    "%load_ext autoreload\n",
    "import snakeviz\n",
    "import warnings\n",
    "%load_ext snakeviz\n",
    "warnings.filterwarnings('ignore')"
   ]
  },
  {
   "cell_type": "markdown",
   "metadata": {},
   "source": [
    "## load experiments sets"
   ]
  },
  {
   "cell_type": "code",
   "execution_count": 4,
   "metadata": {},
   "outputs": [],
   "source": [
    "data_builder = PosDataBuilder()\n",
    "code_base = PosCodeBase()"
   ]
  },
  {
   "cell_type": "markdown",
   "metadata": {},
   "source": [
    "# Build experiment "
   ]
  },
  {
   "cell_type": "markdown",
   "metadata": {},
   "source": [
    "The experiment details -   \n",
    "\n",
    "Our data :   \n",
    "1)Training data : labeled sentences\n",
    "2)Test set - the same\n",
    "\n",
    "Experiment :  \n",
    "1)We will use the training set labels for few observations Markov chain - not hidden! by using the states labels as emissions.  \n",
    "2)Then we learn the emissions from the training set  \n",
    "3)We will predict the labels on the test set   \n",
    "\n"
   ]
  },
  {
   "cell_type": "code",
   "execution_count": 5,
   "metadata": {},
   "outputs": [],
   "source": [
    "pc = 0.5\n",
    "\n",
    "test_set_words, test_set_tags = data_builder.get_experiment_sets_from_real_data(pc,False)\n",
    "all_states = data_builder._build_emissions_probabilites().keys()"
   ]
  },
  {
   "cell_type": "code",
   "execution_count": 6,
   "metadata": {},
   "outputs": [],
   "source": [
    "transitions_probs,transitions_probs_df = data_builder.get_known_transitions()"
   ]
  },
  {
   "cell_type": "code",
   "execution_count": 7,
   "metadata": {},
   "outputs": [],
   "source": [
    "i=0\n",
    "training_tags = [] \n",
    "for _,sen in data_builder.row_data.sentences.items() : \n",
    "    training_tags.append(list(sen.tags))\n",
    "    i += 1\n",
    "    if i > 20000 : \n",
    "        break"
   ]
  },
  {
   "cell_type": "code",
   "execution_count": 8,
   "metadata": {},
   "outputs": [
    {
     "data": {
      "text/plain": [
       "20001"
      ]
     },
     "execution_count": 8,
     "metadata": {},
     "output_type": "execute_result"
    }
   ],
   "source": [
    "len(training_tags)"
   ]
  },
  {
   "cell_type": "markdown",
   "metadata": {},
   "source": [
    "## Learning without \"few observations\" "
   ]
  },
  {
   "cell_type": "code",
   "execution_count": 9,
   "metadata": {},
   "outputs": [],
   "source": [
    "emm_probs = {state:{state:1} for state in all_states}\n"
   ]
  },
  {
   "cell_type": "code",
   "execution_count": null,
   "metadata": {},
   "outputs": [],
   "source": []
  },
  {
   "cell_type": "code",
   "execution_count": 10,
   "metadata": {},
   "outputs": [
    {
     "name": "stdout",
     "output_type": "stream",
     "text": [
      "start M-H sampling\n"
     ]
    },
    {
     "name": "stderr",
     "output_type": "stream",
     "text": [
      "100%|███████████████████████████████████████████████████████████████████████████████████| 2/2 [09:08<00:00, 274.23s/it]\n"
     ]
    },
    {
     "name": "stdout",
     "output_type": "stream",
     "text": [
      " \n",
      "*** Profile stats marshalled to file 'c:\\\\Temp\\\\tmp3u4soib3'. \n",
      "Embedding SnakeViz in this document...\n"
     ]
    },
    {
     "data": {
      "text/html": [
       "\n",
       "<iframe id='snakeviz-cea8bb14-10da-11ec-941f-0c5415630195' frameborder=0 seamless width='100%' height='1000'></iframe>\n",
       "<script>document.getElementById(\"snakeviz-cea8bb14-10da-11ec-941f-0c5415630195\").setAttribute(\"src\", \"http://\" + document.location.hostname + \":8080/snakeviz/c%3A%5CTemp%5Ctmp3u4soib3\")</script>\n"
      ],
      "text/plain": [
       "<IPython.core.display.HTML object>"
      ]
     },
     "metadata": {},
     "output_type": "display_data"
    }
   ],
   "source": [
    "%%snakeviz\n",
    "first_experiment_args = {\"test_set_words\":training_tags,\n",
    "\"start_probs\":data_builder._build_starting_probabilites(),\n",
    "\"emms_probs\":emm_probs,\n",
    "\"number_of_iters\":2,\n",
    "\"N\":50,\n",
    "\"is_only_observed\":False,\n",
    "\"description\":\"P(C) = 1\",\n",
    "\"known_transitions\":transitions_probs_df,\n",
    "\"comper_transitions\":None,\n",
    "\"comper_transitions_title\" :None,\n",
    "\"state_order_for_plot\":data_builder.STATE_ORDER_TO_PLOT,\n",
    "\"title\":\"P(C) = 1\"}\n",
    "first_experiment_results = code_base.run_pos_experiment(**first_experiment_args)"
   ]
  },
  {
   "cell_type": "code",
   "execution_count": 11,
   "metadata": {},
   "outputs": [
    {
     "ename": "RuntimeError",
     "evalue": "No active exception to reraise",
     "output_type": "error",
     "traceback": [
      "\u001b[1;31m---------------------------------------------------------------------------\u001b[0m",
      "\u001b[1;31mRuntimeError\u001b[0m                              Traceback (most recent call last)",
      "\u001b[1;32m<ipython-input-11-9c9a2cba73bf>\u001b[0m in \u001b[0;36m<module>\u001b[1;34m()\u001b[0m\n\u001b[1;32m----> 1\u001b[1;33m \u001b[1;32mraise\u001b[0m\u001b[1;33m\u001b[0m\u001b[0m\n\u001b[0m",
      "\u001b[1;31mRuntimeError\u001b[0m: No active exception to reraise"
     ]
    }
   ],
   "source": [
    "raise"
   ]
  },
  {
   "cell_type": "markdown",
   "metadata": {},
   "source": [
    "## second experiment"
   ]
  },
  {
   "cell_type": "code",
   "execution_count": null,
   "metadata": {},
   "outputs": [],
   "source": [
    "_known_N = [len(seq) for seq in test_set_words]"
   ]
  },
  {
   "cell_type": "code",
   "execution_count": null,
   "metadata": {},
   "outputs": [],
   "source": [
    "second_experiment_args = {\"test_set_words\":few_obs_test_set_words,\n",
    "\"start_probs\":data_builder._build_starting_probabilites(),\n",
    "\"emms_probs\":data_builder._build_emissions_probabilites(),\n",
    "\"number_of_iters\":100,\n",
    "\"N\":_known_N,\n",
    "\"is_only_observed\":False,\n",
    "\"description\":\"train naive over P(C) = 0.5 with known N \",\n",
    "\"known_transitions\":transitions_probs_df,\n",
    "\"comper_transitions\":None,\n",
    "\"comper_transitions_title\" :None,\n",
    "\"state_order_for_plot\":data_builder.STATE_ORDER_TO_PLOT,\n",
    "\"title\":\"P(C) = 0.5,known N\"}\n",
    "second_experiment_results = code_base.run_pos_experiment(**second_experiment_args)"
   ]
  },
  {
   "cell_type": "markdown",
   "metadata": {},
   "source": [
    "## third experiment"
   ]
  },
  {
   "cell_type": "code",
   "execution_count": null,
   "metadata": {},
   "outputs": [],
   "source": [
    "third_experiment_args = {\"test_set_words\":few_obs_test_set_words,\n",
    "\"start_probs\":data_builder._build_starting_probabilites(),\n",
    "\"emms_probs\":data_builder._build_emissions_probabilites(),\n",
    "\"number_of_iters\":100,\n",
    "\"N\":2,\n",
    "\"is_only_observed\":False,\n",
    "\"description\":\"train naive over P(C) = 0.5 with known N \",\n",
    "\"known_transitions\":transitions_probs_df,\n",
    "\"comper_transitions\":None,\n",
    "\"comper_transitions_title\" :None,\n",
    "\"state_order_for_plot\":data_builder.STATE_ORDER_TO_PLOT,\n",
    "\"title\":\"Naive P(C) = 0.5\"}\n",
    "third_experiment_results = code_base.run_pos_experiment(**third_experiment_args)"
   ]
  },
  {
   "cell_type": "markdown",
   "metadata": {},
   "source": [
    "## fourth experiment"
   ]
  },
  {
   "cell_type": "code",
   "execution_count": null,
   "metadata": {},
   "outputs": [],
   "source": [
    "fourth_experiment_args = {\"test_set_words\":few_obs_test_set_words,\n",
    "\"start_probs\":data_builder._build_starting_probabilites(),\n",
    "\"emms_probs\":data_builder._build_emissions_probabilites(),\n",
    "\"number_of_iters\":100,\n",
    "\"N\":_known_N,\n",
    "\"is_only_observed\":True,\n",
    "\"description\":\"train naive over P(C) = 0.5 with known N \",\n",
    "\"known_transitions\":transitions_probs_df,\n",
    "\"comper_transitions\":None,\n",
    "\"comper_transitions_title\" :None,\n",
    "\"state_order_for_plot\":data_builder.STATE_ORDER_TO_PLOT,\n",
    "\"title\":\"only observed,P(C) = 0.5\"}\n",
    "fourth_experiment_results = code_base.run_pos_experiment(**fourth_experiment_args)"
   ]
  },
  {
   "cell_type": "markdown",
   "metadata": {},
   "source": [
    "# plots"
   ]
  },
  {
   "cell_type": "code",
   "execution_count": null,
   "metadata": {},
   "outputs": [],
   "source": [
    "def build_pome_for_pos_exp(trnasitions,start_probs,emms_probs) : \n",
    "\n",
    "    states_track = {}\n",
    "\n",
    "    pome_model = HiddenMarkovModel()\n",
    "\n",
    "    for pos,trans in emms_probs.items() : \n",
    "        dist = DiscreteDistribution(trans)\n",
    "        state = State(dist,pos)\n",
    "\n",
    "        pome_model.add_state(state)\n",
    "        states_track[pos] = state\n",
    "\n",
    "    n_states = len(states_track)\n",
    "    for _from_pos,_from_s in states_track.items():\n",
    "        for _to_pos,_to_s in states_track.items():\n",
    "            if _to_pos in trnasitions[_from_pos].keys():\n",
    "                pome_model.add_transition(_from_s,_to_s,trnasitions[_from_pos][_to_pos])\n",
    "\n",
    "    for _pos,_s in states_track.items():\n",
    "        pome_model.add_transition(pome_model.start,_s,start_probs[_pos])\n",
    "\n",
    "    pome_model.bake()\n",
    "    return pome_model"
   ]
  },
  {
   "cell_type": "code",
   "execution_count": null,
   "metadata": {},
   "outputs": [],
   "source": [
    "er = ExperimentReport()\n",
    "\n",
    "transitions_results_list = [first_experiment_results['transitions'],second_experiment_results['transitions'],third_experiment_results['transitions'],fourth_experiment_results['transitions']]\n",
    "w_results_list = [first_experiment_results['ws'],second_experiment_results['ws'],third_experiment_results['ws'],fourth_experiment_results['ws']]\n",
    "experiments_name_list = [first_experiment_args['title'],second_experiment_args['title'],third_experiment_args['title'],fourth_experiment_args['title']]\n",
    "\n",
    "__l1_distance = lambda dist,state,known : abs(dist[state]-known) if state in dist.keys() else known\n",
    "__cross_entropy_distance = lambda dist,state,known : -1*known*np.log(dist[state]) if state in dist.keys() else (-1*known*np.log(0.0001))\n",
    "\n",
    "_l1_distance = lambda known_dist,comp_dist:sum(([__l1_distance(comp_dist,state,prob) for state,prob in known_dist.items()]))\n",
    "_cross_entropy_distance = lambda known_dist,comp_dist:sum([__cross_entropy_distance(comp_dist,state,prob) for state,prob in known_dist.items()])\n",
    "\n",
    "l1_distance = lambda known_trns,comp_trans : np.mean([_l1_distance(dist,comp_trans[state]) for state,dist in known_trns.items()])\n",
    "cross_entropy_distance = lambda known_trns,comp_trans : np.mean([_cross_entropy_distance(dist,comp_trans[state]) for state,dist in known_trns.items()])\n",
    "\n",
    "_trajectory_prob = lambda traj,model_trans:reduce(lambda x,y:x*y,[(model_trans[_f][_t] if _t in model_trans[_f].keys() else 0) for _f,_t in zip(traj,traj[1:])])\n",
    "\n",
    "\n",
    "all_l1_results = {}\n",
    "all_ce_results = {}\n",
    "for _trans_list,exp_name in zip(transitions_results_list,experiments_name_list) : \n",
    "    l1_dist = [l1_distance(transitions_probs,_t) for _t in _trans_list]\n",
    "    ce_dist = [cross_entropy_distance(transitions_probs,_t) for _t in _trans_list]\n",
    "    \n",
    "    all_l1_results[exp_name] = l1_dist\n",
    "    all_ce_results[exp_name] = ce_dist\n",
    "\n"
   ]
  },
  {
   "cell_type": "code",
   "execution_count": null,
   "metadata": {},
   "outputs": [],
   "source": [
    "\n",
    "\n",
    "for all_results,name in zip([all_l1_results,all_ce_results],['l1','crossEntropy']) : \n",
    "    fig, sub = plt.subplots(1,1,figsize=(8, 8))\n",
    "    model_results_df = pd.DataFrame(all_results)\n",
    "\n",
    "    sns.lineplot(data=model_results_df, ax=sub, legend='full', dashes=False)\n",
    "    sub.legend(bbox_to_anchor=(1.05, 1), loc=2, borderaxespad=0.)\n",
    "    sub.set_title(f\"{name}\")\n",
    "    sub.set_xlabel(\"iter\")\n",
    "    sub.set_ylabel(f\"{name}\")\n",
    "\n",
    "    plt.subplots_adjust(hspace=0.8)\n",
    "    plt.subplots_adjust(wspace=0.8)\n",
    "\n",
    "    plt.show()"
   ]
  },
  {
   "cell_type": "code",
   "execution_count": null,
   "metadata": {},
   "outputs": [],
   "source": [
    "transitions_results_list = [first_experiment_results['transitions'],second_experiment_results['transitions'],third_experiment_results['transitions'],fourth_experiment_results['transitions']]"
   ]
  },
  {
   "cell_type": "code",
   "execution_count": null,
   "metadata": {},
   "outputs": [],
   "source": [
    "alphas_results_list = [first_experiment_results['all_alphas'],second_experiment_results['all_alphas'],third_experiment_results['all_alphas'],fourth_experiment_results['all_alphas']]\n",
    "experiments_name_list = [first_experiment_args['title'],second_experiment_args['title'],third_experiment_args['title'],fourth_experiment_args['title']]\n"
   ]
  },
  {
   "cell_type": "code",
   "execution_count": null,
   "metadata": {},
   "outputs": [],
   "source": [
    "alphas_df = pd.DataFrame({k:v for k,v in zip(experiments_name_list,alphas_results_list)})\n",
    "\n",
    "fig,sub = plt.subplots(1,figsize=(12,12))\n",
    "alphas_df.plot(ax=sub)"
   ]
  }
 ],
 "metadata": {
  "hide_input": false,
  "kernelspec": {
   "display_name": "Python 3",
   "language": "python",
   "name": "python3"
  },
  "language_info": {
   "codemirror_mode": {
    "name": "ipython",
    "version": 3
   },
   "file_extension": ".py",
   "mimetype": "text/x-python",
   "name": "python",
   "nbconvert_exporter": "python",
   "pygments_lexer": "ipython3",
   "version": "3.6.5"
  },
  "toc": {
   "base_numbering": 1,
   "nav_menu": {},
   "number_sections": true,
   "sideBar": true,
   "skip_h1_title": false,
   "title_cell": "Table of Contents",
   "title_sidebar": "Contents",
   "toc_cell": false,
   "toc_position": {},
   "toc_section_display": true,
   "toc_window_display": false
  }
 },
 "nbformat": 4,
 "nbformat_minor": 2
}
