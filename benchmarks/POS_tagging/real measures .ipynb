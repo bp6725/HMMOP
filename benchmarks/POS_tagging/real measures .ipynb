{
 "cells": [
  {
   "cell_type": "markdown",
   "metadata": {},
   "source": [
    "# INIT"
   ]
  },
  {
   "cell_type": "markdown",
   "metadata": {},
   "source": [
    "## load pack"
   ]
  },
  {
   "cell_type": "code",
   "execution_count": 1,
   "metadata": {},
   "outputs": [],
   "source": [
    "import sys\n",
    "sys.path.append(\"../POS_tagging/\")\n",
    "sys.path.append(\"../../../pomegranate/\")\n",
    "sys.path.append(r\"../../../WhoCell\\pomegranate\")\n",
    "sys.path.append(r\"../../../WhoCell\")\n",
    "sys.path.append(r\"../../../WhoCell/\")\n",
    "sys.path.append(r\"../../../WhoCell/who_cell/\")\n",
    "sys.path.append(r\"../../../WhoCell/who_cell/models/\")\n",
    "sys.path.append(r\"../../../WhoCell/who_cell/simulation/\")\n",
    "sys.path.append(r\"../../../WhoCell/who_cell/experiments/\")"
   ]
  },
  {
   "cell_type": "code",
   "execution_count": 2,
   "metadata": {},
   "outputs": [],
   "source": [
    "import matplotlib.pyplot as plt\n",
    "import numpy as np\n",
    "import string\n",
    "\n",
    "from collections import Counter\n",
    "from IPython.core.display import HTML\n",
    "from itertools import chain\n",
    "from collections import Counter, defaultdict\n",
    "from helpers import show_model, Dataset\n",
    "import pandas as pd\n",
    "import seaborn as sns\n",
    "import itertools\n",
    "from functools import reduce\n",
    "\n",
    "from pomegranate import State, HiddenMarkovModel, DiscreteDistribution\n",
    "\n",
    "from simulation_for_gibbs import Simulator_for_Gibbs\n",
    "from gibbs_sampler import GibbsSampler\n",
    "from experiment_report import ExperimentReport \n",
    "from gibbs_experiments import GibbsExperiment\n",
    "from pos_data_builder import PosDataBuilder\n",
    "from pos_code_base import PosCodeBase\n"
   ]
  },
  {
   "cell_type": "code",
   "execution_count": 3,
   "metadata": {},
   "outputs": [
    {
     "name": "stdout",
     "output_type": "stream",
     "text": [
      "{\n",
      "  \"shell_port\": 58869,\n",
      "  \"iopub_port\": 56901,\n",
      "  \"stdin_port\": 48109,\n",
      "  \"control_port\": 59431,\n",
      "  \"hb_port\": 40177,\n",
      "  \"ip\": \"127.0.0.1\",\n",
      "  \"key\": \"103b3683-04b8ee7faee19b95c4c0bd2d\",\n",
      "  \"transport\": \"tcp\",\n",
      "  \"signature_scheme\": \"hmac-sha256\",\n",
      "  \"kernel_name\": \"\"\n",
      "}\n",
      "\n",
      "Paste the above JSON into a file, and connect with:\n",
      "    $> jupyter <app> --existing <file>\n",
      "or, if you are local, you can connect with just:\n",
      "    $> jupyter <app> --existing kernel-a1a68387-8c76-44a8-b230-39f27618d081.json\n",
      "or even just:\n",
      "    $> jupyter <app> --existing\n",
      "if this is the most recent Jupyter kernel you have started.\n"
     ]
    }
   ],
   "source": [
    "%connect_info\n",
    "%load_ext autoreload\n",
    "\n",
    "import warnings\n",
    "warnings.filterwarnings('ignore')"
   ]
  },
  {
   "cell_type": "markdown",
   "metadata": {},
   "source": [
    "## load experiments sets"
   ]
  },
  {
   "cell_type": "code",
   "execution_count": 4,
   "metadata": {},
   "outputs": [],
   "source": [
    "data_builder = PosDataBuilder()\n",
    "code_base = PosCodeBase()"
   ]
  },
  {
   "cell_type": "markdown",
   "metadata": {},
   "source": [
    "# Build experiment "
   ]
  },
  {
   "cell_type": "markdown",
   "metadata": {},
   "source": [
    "The experiment details -   \n",
    "\n",
    "Our data :   \n",
    "1)Training data : labeled sentences\n",
    "2)Test set - the same\n",
    "\n",
    "Experiment :  \n",
    "1)We will use the training set labels for few observations Markov chain - not hidden! by using the states labels as emissions.  \n",
    "2)Then we learn the emissions from the training set  \n",
    "3)We will predict the labels on the test set   \n",
    "\n"
   ]
  },
  {
   "cell_type": "code",
   "execution_count": 5,
   "metadata": {},
   "outputs": [],
   "source": [
    "pc = 0.5\n",
    "\n",
    "test_set_words, test_set_tags = data_builder.get_experiment_sets_from_real_data(pc,False)\n",
    "all_states = data_builder._build_emissions_probabilites().keys()"
   ]
  },
  {
   "cell_type": "code",
   "execution_count": 6,
   "metadata": {},
   "outputs": [],
   "source": [
    "transitions_probs,transitions_probs_df = data_builder.get_known_transitions()"
   ]
  },
  {
   "cell_type": "code",
   "execution_count": 7,
   "metadata": {},
   "outputs": [],
   "source": [
    "i=0\n",
    "training_tags = [] \n",
    "for _,sen in data_builder.row_data.sentences.items() : \n",
    "    training_tags.append(list(sen.tags))\n",
    "    i += 1\n",
    "    if i > 20000 : \n",
    "        break"
   ]
  },
  {
   "cell_type": "markdown",
   "metadata": {},
   "source": [
    "## Learning without \"few observations\" "
   ]
  },
  {
   "cell_type": "code",
   "execution_count": 8,
   "metadata": {},
   "outputs": [],
   "source": [
    "emm_probs = {state:{state:1} for state in all_states}\n"
   ]
  },
  {
   "cell_type": "code",
   "execution_count": 9,
   "metadata": {},
   "outputs": [
    {
     "name": "stdout",
     "output_type": "stream",
     "text": [
      "start M-H sampling\n"
     ]
    },
    {
     "name": "stderr",
     "output_type": "stream",
     "text": [
      "100%|████████████████████████████████████████| 35/35 [1:09:58<00:00, 119.96s/it]\n"
     ]
    }
   ],
   "source": [
    "first_experiment_args = {\"test_set_words\":training_tags,\n",
    "\"start_probs\":data_builder._build_starting_probabilites(),\n",
    "\"emms_probs\":emm_probs,\n",
    "\"number_of_iters\":35,\n",
    "\"N\":2,\n",
    "\"is_only_observed\":False,\n",
    "\"description\":\"P(C) = 1\",\n",
    "\"known_transitions\":None,\n",
    "\"comper_transitions\":None,\n",
    "\"comper_transitions_title\" :None,\n",
    "\"state_order_for_plot\":data_builder.STATE_ORDER_TO_PLOT,\n",
    "\"title\":\"Naive MM\"}\n",
    "first_experiment_results = code_base.run_pos_experiment(**first_experiment_args)"
   ]
  },
  {
   "cell_type": "markdown",
   "metadata": {},
   "source": [
    "## learning when the expected trajectory is twice the length"
   ]
  },
  {
   "cell_type": "code",
   "execution_count": 10,
   "metadata": {},
   "outputs": [],
   "source": [
    "_known_N = [2*len(seq) for seq in training_tags]"
   ]
  },
  {
   "cell_type": "code",
   "execution_count": 11,
   "metadata": {},
   "outputs": [
    {
     "name": "stdout",
     "output_type": "stream",
     "text": [
      "start M-H sampling\n"
     ]
    },
    {
     "name": "stderr",
     "output_type": "stream",
     "text": [
      "100%|████████████████████████████████████████| 35/35 [1:17:20<00:00, 132.60s/it]\n"
     ]
    }
   ],
   "source": [
    "second_experiment_args = {\"test_set_words\":training_tags,\n",
    "\"start_probs\":data_builder._build_starting_probabilites(),\n",
    "\"emms_probs\":emm_probs,\n",
    "\"number_of_iters\":35,\n",
    "\"N\":_known_N,\n",
    "\"is_only_observed\":False,\n",
    "\"description\":\"P(C) = 1\",\n",
    "\"known_transitions\":None,\n",
    "\"comper_transitions\":None,\n",
    "\"comper_transitions_title\" :None,\n",
    "\"state_order_for_plot\":data_builder.STATE_ORDER_TO_PLOT,\n",
    "\"title\":\"few obs\"}\n",
    "second_experiment_results = code_base.run_pos_experiment(**second_experiment_args)"
   ]
  },
  {
   "cell_type": "markdown",
   "metadata": {},
   "source": [
    "## learning when the expected trajectory is twice the length only observed"
   ]
  },
  {
   "cell_type": "code",
   "execution_count": 12,
   "metadata": {},
   "outputs": [
    {
     "name": "stdout",
     "output_type": "stream",
     "text": [
      "start M-H sampling\n"
     ]
    },
    {
     "name": "stderr",
     "output_type": "stream",
     "text": [
      "100%|████████████████████████████████████████| 35/35 [1:17:16<00:00, 132.48s/it]\n"
     ]
    }
   ],
   "source": [
    "third_experiment_args = {\"test_set_words\":training_tags,\n",
    "\"start_probs\":data_builder._build_starting_probabilites(),\n",
    "\"emms_probs\":emm_probs,\n",
    "\"number_of_iters\":35,\n",
    "\"N\":_known_N,\n",
    "\"is_only_observed\":True,\n",
    "\"description\":\"P(C) = 1\",\n",
    "\"known_transitions\":None,\n",
    "\"comper_transitions\":None,\n",
    "\"comper_transitions_title\" :None,\n",
    "\"state_order_for_plot\":data_builder.STATE_ORDER_TO_PLOT,\n",
    "\"title\":\"few obs only seen\"}\n",
    "third_experiment_results = code_base.run_pos_experiment(**third_experiment_args)"
   ]
  },
  {
   "cell_type": "markdown",
   "metadata": {},
   "source": [
    "# measures and plots"
   ]
  },
  {
   "cell_type": "code",
   "execution_count": 13,
   "metadata": {},
   "outputs": [],
   "source": [
    "def build_pome_model_from_trnaisiotns(predicted_transitions,words_emms_probs,start_probs,all_states):\n",
    "    states_name_to_state_mapping = {state:State(DiscreteDistribution(words_emms_probs[state]),state) for state in all_states}\n",
    "\n",
    "    _model = HiddenMarkovModel()\n",
    "    for _from,_tos in predicted_transitions.items() : \n",
    "        if _from == \"start\" : \n",
    "            for state in all_states : \n",
    "                _to_state = states_name_to_state_mapping[state]\n",
    "                _model.add_transition(_model.start,_to_state,start_probs[_to])\n",
    "            continue\n",
    "        for _to,val in _tos.items() :\n",
    "            if _to == 'end' : continue\n",
    "            _to_state = states_name_to_state_mapping[_to]\n",
    "            \n",
    "            _from_state = states_name_to_state_mapping[_from]\n",
    "            _model.add_transition(_from_state,_to_state,val)\n",
    "\n",
    "    _model.bake()\n",
    "    return _model\n",
    "\n",
    "def calculate_error(predicted_transitions,test_set_words,test_set_tags,words_emms_probs,start_probs,all_states,unknown_words):\n",
    "    pome_model = build_pome_model_from_trnaisiotns(predicted_transitions,words_emms_probs,start_probs,all_states)\n",
    "    states_name_list = [state.name for state in pome_model.states]\n",
    "\n",
    "    errors = []\n",
    "    for sent_words,sent_tags in zip(test_set_words,test_set_tags) :\n",
    "        sent_words = [(word if word not in unknown_words else None) for word in sent_words]\n",
    "        _predicted = pome_model.predict(sent_words)\n",
    "        predicted_tags = [states_name_list[i] for i in _predicted]\n",
    "        error = sum([i!=j for i,j in zip(sent_tags,predicted_tags)])\n",
    "        errors.append(error)\n",
    "    return np.mean(errors)\n",
    "\n"
   ]
  },
  {
   "cell_type": "code",
   "execution_count": 14,
   "metadata": {},
   "outputs": [],
   "source": [
    "words_emms_probs = data_builder._build_emissions_probabilites()\n",
    "\n",
    "all_words_in_test_set = data_builder.row_data.vocab\n",
    "all_known_words = frozenset(chain(*[val for val in words_emms_probs.values()]))\n",
    "unknown_words = (all_words_in_test_set - all_known_words)"
   ]
  },
  {
   "cell_type": "code",
   "execution_count": 15,
   "metadata": {},
   "outputs": [],
   "source": [
    "start_probs = data_builder._build_starting_probabilites()"
   ]
  },
  {
   "cell_type": "code",
   "execution_count": 16,
   "metadata": {},
   "outputs": [],
   "source": [
    "transitions_results_list = [first_experiment_results['transitions'],second_experiment_results['transitions'],third_experiment_results['transitions']]\n",
    "w_results_list = [first_experiment_results['ws']]\n",
    "experiments_name_list = [first_experiment_args['title'],second_experiment_args['title'],third_experiment_args['title']]\n",
    "\n",
    "\n",
    "all_results = {}\n",
    "for _trans_list,exp_name in zip(transitions_results_list,experiments_name_list) : \n",
    "    _dist = [calculate_error(_t,test_set_words,test_set_tags,words_emms_probs,start_probs,all_states,unknown_words) for _t in _trans_list]\n",
    "    \n",
    "    all_results[exp_name] = _dist\n",
    "\n"
   ]
  },
  {
   "cell_type": "code",
   "execution_count": 20,
   "metadata": {},
   "outputs": [
    {
     "data": {
      "image/png": "[encoded data removed]",
      "text/plain": [
       "<Figure size 576x576 with 1 Axes>"
      ]
     },
     "metadata": {
      "needs_background": "light"
     },
     "output_type": "display_data"
    }
   ],
   "source": [
    "fig, sub = plt.subplots(1,1,figsize=(8, 8))\n",
    "model_results_df = pd.DataFrame(all_results)\n",
    "\n",
    "sns.lineplot(data=model_results_df, ax=sub, legend='full', dashes=False)\n",
    "sub.legend(bbox_to_anchor=(1.05, 1), loc=2, borderaxespad=0.)\n",
    "sub.set_title(f\"mean Hamming distance over test set \")\n",
    "sub.set_xlabel(\"iter\")\n",
    "sub.set_ylabel(f\"mean Hamming distance over test set\")\n",
    "\n",
    "plt.subplots_adjust(hspace=0.8)\n",
    "plt.subplots_adjust(wspace=0.8)\n",
    "\n",
    "plt.show()"
   ]
  },
  {
   "cell_type": "code",
   "execution_count": null,
   "metadata": {},
   "outputs": [],
   "source": []
  },
  {
   "cell_type": "code",
   "execution_count": null,
   "metadata": {},
   "outputs": [],
   "source": []
  },
  {
   "cell_type": "code",
   "execution_count": null,
   "metadata": {},
   "outputs": [],
   "source": []
  }
 ],
 "metadata": {
  "hide_input": false,
  "kernelspec": {
   "display_name": "Python 3",
   "language": "python",
   "name": "python3"
  },
  "language_info": {
   "codemirror_mode": {
    "name": "ipython",
    "version": 3
   },
   "file_extension": ".py",
   "mimetype": "text/x-python",
   "name": "python",
   "nbconvert_exporter": "python",
   "pygments_lexer": "ipython3",
   "version": "3.6.5"
  },
  "toc": {
   "base_numbering": 1,
   "nav_menu": {},
   "number_sections": true,
   "sideBar": true,
   "skip_h1_title": false,
   "title_cell": "Table of Contents",
   "title_sidebar": "Contents",
   "toc_cell": false,
   "toc_position": {},
   "toc_section_display": true,
   "toc_window_display": false
  }
 },
 "nbformat": 4,
 "nbformat_minor": 2
}
