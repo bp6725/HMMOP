{
 "cells": [
  {
   "cell_type": "markdown",
   "metadata": {},
   "source": [
    "# INIT"
   ]
  },
  {
   "cell_type": "markdown",
   "metadata": {},
   "source": [
    "## load pack"
   ]
  },
  {
   "cell_type": "code",
   "execution_count": 1,
   "metadata": {},
   "outputs": [],
   "source": [
    "import sys\n",
    "sys.path.append(\"../POS_tagging/\")\n",
    "sys.path.append(\"../../../pomegranate/\")\n",
    "sys.path.append(r\"../../../WhoCell\\pomegranate\")\n",
    "sys.path.append(r\"../../../WhoCell\")\n",
    "sys.path.append(r\"../../../WhoCell/\")\n",
    "sys.path.append(r\"../../../WhoCell/who_cell/\")\n",
    "sys.path.append(r\"../../../WhoCell/who_cell/models/\")\n",
    "sys.path.append(r\"../../../WhoCell/who_cell/simulation/\")\n",
    "sys.path.append(r\"../../../WhoCell/who_cell/experiments/\")"
   ]
  },
  {
   "cell_type": "code",
   "execution_count": 48,
   "metadata": {},
   "outputs": [],
   "source": [
    "import matplotlib.pyplot as plt\n",
    "import numpy as np\n",
    "import string\n",
    "\n",
    "from collections import Counter\n",
    "from IPython.core.display import HTML\n",
    "from itertools import chain\n",
    "from collections import Counter, defaultdict\n",
    "from helpers import show_model, Dataset\n",
    "import pandas as pd\n",
    "import seaborn as sns\n",
    "import itertools\n",
    "from functools import reduce\n",
    "import pickle\n",
    "\n",
    "from pomegranate import State, HiddenMarkovModel, DiscreteDistribution\n",
    "\n",
    "from simulation_for_gibbs import Simulator_for_Gibbs\n",
    "from gibbs_sampler import GibbsSampler\n",
    "from experiment_report import ExperimentReport \n",
    "from gibbs_experiments import GibbsExperiment\n",
    "from pos_data_builder import PosDataBuilder\n",
    "from pos_code_base import PosCodeBase\n",
    "from em_sequence_labeling import EmSequenceLabeling\n"
   ]
  },
  {
   "cell_type": "code",
   "execution_count": 3,
   "metadata": {},
   "outputs": [
    {
     "name": "stdout",
     "output_type": "stream",
     "text": [
      "{\n",
      "  \"shell_port\": 47989,\n",
      "  \"iopub_port\": 44511,\n",
      "  \"stdin_port\": 58733,\n",
      "  \"control_port\": 41295,\n",
      "  \"hb_port\": 53153,\n",
      "  \"ip\": \"127.0.0.1\",\n",
      "  \"key\": \"0021a642-77e59cf4fc41e21573b74c5d\",\n",
      "  \"transport\": \"tcp\",\n",
      "  \"signature_scheme\": \"hmac-sha256\",\n",
      "  \"kernel_name\": \"\"\n",
      "}\n",
      "\n",
      "Paste the above JSON into a file, and connect with:\n",
      "    $> jupyter <app> --existing <file>\n",
      "or, if you are local, you can connect with just:\n",
      "    $> jupyter <app> --existing kernel-c8e328d9-b876-49c2-9833-86b43208dba4.json\n",
      "or even just:\n",
      "    $> jupyter <app> --existing\n",
      "if this is the most recent Jupyter kernel you have started.\n"
     ]
    }
   ],
   "source": [
    "%connect_info\n",
    "%load_ext autoreload\n",
    "\n",
    "import warnings\n",
    "warnings.filterwarnings('ignore')"
   ]
  },
  {
   "cell_type": "markdown",
   "metadata": {},
   "source": [
    "## load experiments sets"
   ]
  },
  {
   "cell_type": "code",
   "execution_count": 4,
   "metadata": {},
   "outputs": [],
   "source": [
    "data_builder = PosDataBuilder()\n",
    "code_base = PosCodeBase()"
   ]
  },
  {
   "cell_type": "markdown",
   "metadata": {},
   "source": [
    "# Build experiment "
   ]
  },
  {
   "cell_type": "markdown",
   "metadata": {},
   "source": [
    "The experiment details -   \n",
    "\n",
    "Our data :   \n",
    "1)Training data : labeled sentences\n",
    "2)Test set - the same\n",
    "\n",
    "Experiment :  \n",
    "1)We will use the training set labels for few observations Markov chain - not hidden! by using the states labels as emissions.  \n",
    "2)Then we learn the emissions from the training set  \n",
    "3)We will predict the labels on the test set   \n",
    "\n"
   ]
  },
  {
   "cell_type": "code",
   "execution_count": 5,
   "metadata": {
    "scrolled": true
   },
   "outputs": [],
   "source": [
    "pc = 0.5\n",
    "\n",
    "test_set_words, test_set_tags,train_set_words, train_set_tags = data_builder.get_experiment_sets_from_real_data(pc,False)\n",
    "all_states = data_builder._build_emissions_probabilites().keys()"
   ]
  },
  {
   "cell_type": "code",
   "execution_count": 6,
   "metadata": {},
   "outputs": [],
   "source": [
    "transitions_probs,transitions_probs_df = data_builder.get_known_transitions()"
   ]
  },
  {
   "cell_type": "code",
   "execution_count": 7,
   "metadata": {},
   "outputs": [],
   "source": [
    "number_of_iters = 20"
   ]
  },
  {
   "cell_type": "markdown",
   "metadata": {},
   "source": [
    "## Learning without \"few observations\" "
   ]
  },
  {
   "cell_type": "code",
   "execution_count": 8,
   "metadata": {},
   "outputs": [],
   "source": [
    "emm_probs = {state:{state:1} for state in all_states}\n"
   ]
  },
  {
   "cell_type": "code",
   "execution_count": 9,
   "metadata": {},
   "outputs": [
    {
     "name": "stderr",
     "output_type": "stream",
     "text": [
      "100%|███████████████████████████████████████████| 20/20 [05:52<00:00, 17.60s/it]\n"
     ]
    }
   ],
   "source": [
    "first_experiment_args = {\"test_set_words\":train_set_tags,\n",
    "\"start_probs\":data_builder._build_starting_probabilites(),\n",
    "\"emms_probs\":emm_probs,\n",
    "\"number_of_iters\":number_of_iters,\n",
    "\"N\":2,\n",
    "\"is_only_observed\":\"observed\",\n",
    "\"description\":\"P(C) = 1\",\n",
    "\"known_transitions\":None,\n",
    "\"comper_transitions\":None,\n",
    "\"comper_transitions_title\" :None,\n",
    "\"state_order_for_plot\":data_builder.STATE_ORDER_TO_PLOT,\n",
    "\"title\":\"Naive MM\"}\n",
    "first_experiment_results = code_base.run_pos_experiment(**first_experiment_args)"
   ]
  },
  {
   "cell_type": "markdown",
   "metadata": {},
   "source": [
    "## learning when the expected trajectory is twice the length"
   ]
  },
  {
   "cell_type": "code",
   "execution_count": 10,
   "metadata": {},
   "outputs": [],
   "source": [
    "_known_N = [2*len(seq) for seq in train_set_tags]"
   ]
  },
  {
   "cell_type": "code",
   "execution_count": 11,
   "metadata": {},
   "outputs": [],
   "source": [
    "# second_experiment_args = {\"test_set_words\":train_set_tags,\n",
    "# \"start_probs\":data_builder._build_starting_probabilites(),\n",
    "# \"emms_probs\":emm_probs,\n",
    "# \"number_of_iters\":number_of_iters,\n",
    "# \"N\":_known_N,\n",
    "# \"is_only_observed\":\"all\",\n",
    "# \"description\":\"P(C) = 1\",\n",
    "# \"known_transitions\":None,\n",
    "# \"comper_transitions\":None,\n",
    "# \"comper_transitions_title\" :None,\n",
    "# \"state_order_for_plot\":data_builder.STATE_ORDER_TO_PLOT,\n",
    "# \"title\":\"few obs\"}\n",
    "# second_experiment_results = code_base.run_pos_experiment(**second_experiment_args)"
   ]
  },
  {
   "cell_type": "markdown",
   "metadata": {},
   "source": [
    "## learning when the expected trajectory is twice the length only observed"
   ]
  },
  {
   "cell_type": "code",
   "execution_count": 12,
   "metadata": {},
   "outputs": [
    {
     "name": "stderr",
     "output_type": "stream",
     "text": [
      "100%|██████████████████████████████████████████| 20/20 [41:49<00:00, 125.49s/it]\n"
     ]
    }
   ],
   "source": [
    "third_experiment_args = {\"test_set_words\":train_set_tags,\n",
    "\"start_probs\":data_builder._build_starting_probabilites(),\n",
    "\"emms_probs\":emm_probs,\n",
    "\"number_of_iters\":number_of_iters,\n",
    "\"N\":_known_N,\n",
    "\"is_only_observed\":\"extended\",\n",
    "\"description\":\"P(C) = 1\",\n",
    "\"known_transitions\":None,\n",
    "\"comper_transitions\":None,\n",
    "\"comper_transitions_title\" :None,\n",
    "\"state_order_for_plot\":data_builder.STATE_ORDER_TO_PLOT,\n",
    "\"title\":\"few obs only seen\"}\n",
    "third_experiment_results = code_base.run_pos_experiment(**third_experiment_args)"
   ]
  },
  {
   "cell_type": "markdown",
   "metadata": {},
   "source": [
    "# measures and plots"
   ]
  },
  {
   "cell_type": "code",
   "execution_count": 43,
   "metadata": {},
   "outputs": [],
   "source": [
    "def build_pome_model_from_trnaisiotns(predicted_transitions,words_emms_probs,start_probs,all_states):\n",
    "    states_name_to_state_mapping = {state:State(DiscreteDistribution(words_emms_probs[state]),state) for state in all_states}\n",
    "\n",
    "    _model = HiddenMarkovModel()\n",
    "    for _from,_tos in predicted_transitions.items() : \n",
    "        if _from == \"start\" : \n",
    "            for state in all_states : \n",
    "                _to_state = states_name_to_state_mapping[state]\n",
    "                _model.add_transition(_model.start,_to_state,start_probs[state])\n",
    "            continue\n",
    "        for _to,val in _tos.items() :\n",
    "            if _to == 'end' : continue\n",
    "            _to_state = states_name_to_state_mapping[_to]\n",
    "            \n",
    "            _from_state = states_name_to_state_mapping[_from]\n",
    "            _model.add_transition(_from_state,_to_state,val)\n",
    "\n",
    "    _model.bake()\n",
    "    return _model\n",
    "\n",
    "def calculate_error_pome(predicted_transitions,test_set_words,test_set_tags,words_emms_probs,start_probs,all_states,unknown_words):\n",
    "    pome_model = build_pome_model_from_trnaisiotns(predicted_transitions,words_emms_probs,start_probs,all_states)\n",
    "    states_name_list = [state.name for state in pome_model.states]\n",
    "\n",
    "    errors = []\n",
    "    for sent_words,sent_tags in zip(test_set_words,test_set_tags) :\n",
    "        sent_words = [(word if word not in unknown_words else None) for word in sent_words]\n",
    "        _predicted = pome_model.predict(sent_words)\n",
    "        predicted_tags = [states_name_list[i] for i in _predicted]\n",
    "        error = sum([i!=j for i,j in zip(sent_tags,predicted_tags)])\n",
    "        errors.append(error)\n",
    "    \n",
    "    amount_of_tags = sum(list(map(len,test_set_tags)))\n",
    "    return np.sum(errors)/amount_of_tags\n",
    "\n",
    "def calculate_error_gibbs(N,predicted_transitions,test_set_words,\n",
    "                          test_set_tags,words_emms_probs,start_probs,\n",
    "                          all_states):    \n",
    "    \n",
    "    _test_set_words = list(filter(lambda x:len(x)<60,test_set_words))\n",
    "    _test_set_tags = list(filter(lambda x:len(x)<60,test_set_tags))\n",
    "    gibbs_sampler = GibbsSampler(N,multi_process=True)\n",
    "    all_states_picked_by_w = EmSequenceLabeling.sequence_labeling_known_emissions(_test_set_words,\n",
    "                                                                                   predicted_transitions,\n",
    "                                                                                   start_probs,\n",
    "                               words_emms_probs, 5, N = N)\n",
    "    \n",
    "    errors = []\n",
    "    for known_tags,predicted_tags in zip(_test_set_tags,all_states_picked_by_w[-1]) :\n",
    "        error = sum([i!=j for i,j in zip(known_tags,predicted_tags)])\n",
    "        errors.append(error)\n",
    "    \n",
    "    amount_of_tags = sum(list(map(len,_test_set_tags)))\n",
    "    return np.sum(errors)/amount_of_tags\n"
   ]
  },
  {
   "cell_type": "code",
   "execution_count": null,
   "metadata": {},
   "outputs": [],
   "source": []
  },
  {
   "cell_type": "code",
   "execution_count": 50,
   "metadata": {},
   "outputs": [],
   "source": [
    "def plot_df_results(model_results_df,title):\n",
    "    \n",
    "    fig, sub = plt.subplots(1,1,figsize=(8, 8))\n",
    "    \n",
    "\n",
    "    sns.lineplot(data=model_results_df, ax=sub, legend='full', dashes=False)\n",
    "    sub.legend(bbox_to_anchor=(1.05, 1), loc=2, borderaxespad=0.)\n",
    "    sub.set_title(title)\n",
    "    sub.set_xlabel(\"iter\")\n",
    "    sub.set_ylabel(f\"Hamming distance over test set\")\n",
    "\n",
    "    plt.subplots_adjust(hspace=0.8)\n",
    "    plt.subplots_adjust(wspace=0.8)\n",
    "\n",
    "    plt.show()\n",
    "\n",
    "def build_and_plot_results(experiments_results,experiments_params,test_set_words,test_set_tags,data_builder,all_states): \n",
    "    words_emms_probs = data_builder._build_emissions_probabilites()\n",
    "\n",
    "    all_words_in_test_set = data_builder.row_data.vocab\n",
    "    all_known_words = frozenset(chain(*[val for val in words_emms_probs.values()]))\n",
    "    unknown_words = (all_words_in_test_set - all_known_words)\n",
    "    \n",
    "    words_emms_probs = data_builder._build_emissions_probabilites()\n",
    "    start_probs = data_builder._build_starting_probabilites()\n",
    "    \n",
    "    sentences_length = list(map(len,test_set_tags))\n",
    "    \n",
    "#     with open(\"build_and_plot_data.pkl\",'wb') as f : \n",
    "#         pickle.dump((experiments_results,experiments_params,test_set_words,test_set_tags,list(all_states),words_emms_probs,all_words_in_test_set,words_emms_probs,start_probs),f)\n",
    "\n",
    "    \n",
    "    pomegranate_errors = {}\n",
    "    missing_obs_errors = {}\n",
    "    gibbs_no_missing_errors = {}\n",
    "    \n",
    "    n_iter_exp = len(experiments_results[0]['transitions'])\n",
    "    transitions_to_pick = sorted(list(set(list(range(0,n_iter_exp,15)) + [n_iter_exp-1])))\n",
    "    print(transitions_to_pick)\n",
    "    for i,(exp_res,exp_args) in enumerate(zip(experiments_results,experiments_params)) :\n",
    "        transitions = exp_res['transitions']\n",
    "        fewer_transitions = [transitions[i] for i in transitions_to_pick]\n",
    "        \n",
    "        title = exp_args['title']\n",
    "#         pomegranate_error_per_experiment = [calculate_error_pome(_trans,\n",
    "#                                                                  test_set_words,test_set_tags,\n",
    "#                                                                  words_emms_probs,\n",
    "#                                                                  start_probs,\n",
    "#                                                                  all_states,\n",
    "#                                                                  unknown_words) for _trans in fewer_transitions]\n",
    "        \n",
    "#         pomegranate_errors[title] = pomegranate_error_per_experiment\n",
    "        \n",
    "        gibbs_missing_error_per_experiment = [calculate_error_gibbs(exp_args[\"N\"],\n",
    "                                                                    _trans,\n",
    "                                                                    test_set_words,test_set_tags,\n",
    "                                                                    words_emms_probs,start_probs,\n",
    "                                                                    all_states) for _trans in fewer_transitions]\n",
    "        missing_obs_errors[title] = gibbs_missing_error_per_experiment\n",
    "        \n",
    "        gibbs_full_error_per_experiment = [calculate_error_gibbs(2,_trans,test_set_words,test_set_tags,\n",
    "                                                                    words_emms_probs,start_probs,all_states) \n",
    "                                           for _trans in fewer_transitions]\n",
    "        gibbs_no_missing_errors[title] = gibbs_full_error_per_experiment\n",
    "        \n",
    "        \n",
    "#     pome_results_df = pd.DataFrame(pomegranate_errors)\n",
    "    gibbs_mising_results_df = pd.DataFrame(missing_obs_errors)\n",
    "    gibbs_full_results_df = pd.DataFrame(gibbs_no_missing_errors)\n",
    "    \n",
    "#     plot_df_results(pome_results_df,\"inference pomegranate using viterbi\")\n",
    "    plot_df_results(gibbs_mising_results_df,\"inference Gibbs counting for missing observations \")\n",
    "    plot_df_results(gibbs_full_results_df,\"inference Gibbs not counting for missing observations\")\n",
    "    \n",
    "    \n",
    "        \n",
    "        \n",
    "    \n",
    "    \n",
    "        \n",
    "        \n",
    "    \n",
    "    "
   ]
  },
  {
   "cell_type": "code",
   "execution_count": 51,
   "metadata": {},
   "outputs": [
    {
     "name": "stdout",
     "output_type": "stream",
     "text": [
      "[0, 15, 20]\n"
     ]
    },
    {
     "name": "stderr",
     "output_type": "stream",
     "text": [
      "100%|█████████████████████████████████████████████| 5/5 [00:10<00:00,  2.20s/it]\n",
      "100%|█████████████████████████████████████████████| 5/5 [00:10<00:00,  2.18s/it]\n",
      "100%|█████████████████████████████████████████████| 5/5 [00:10<00:00,  2.20s/it]\n",
      "100%|█████████████████████████████████████████████| 5/5 [00:11<00:00,  2.22s/it]\n",
      "100%|█████████████████████████████████████████████| 5/5 [00:10<00:00,  2.17s/it]\n",
      "100%|█████████████████████████████████████████████| 5/5 [00:11<00:00,  2.21s/it]\n",
      " 20%|█████████                                    | 1/5 [01:03<04:15, 63.82s/it]\n"
     ]
    },
    {
     "ename": "KeyError",
     "evalue": "None",
     "output_type": "error",
     "traceback": [
      "\u001b[0;31m---------------------------------------------------------------------------\u001b[0m",
      "\u001b[0;31mKeyError\u001b[0m                                  Traceback (most recent call last)",
      "\u001b[0;32m/tmp/ipykernel_12560/3334709545.py\u001b[0m in \u001b[0;36m<module>\u001b[0;34m\u001b[0m\n\u001b[1;32m      2\u001b[0m \u001b[0mexperiments_params\u001b[0m \u001b[0;34m=\u001b[0m \u001b[0;34m[\u001b[0m\u001b[0mfirst_experiment_args\u001b[0m\u001b[0;34m,\u001b[0m\u001b[0mthird_experiment_args\u001b[0m\u001b[0;34m]\u001b[0m\u001b[0;34m\u001b[0m\u001b[0;34m\u001b[0m\u001b[0m\n\u001b[1;32m      3\u001b[0m \u001b[0;34m\u001b[0m\u001b[0m\n\u001b[0;32m----> 4\u001b[0;31m build_and_plot_results(experiments_results,experiments_params,\n\u001b[0m\u001b[1;32m      5\u001b[0m                        \u001b[0mtest_set_words\u001b[0m\u001b[0;34m,\u001b[0m\u001b[0mtest_set_tags\u001b[0m\u001b[0;34m,\u001b[0m\u001b[0mdata_builder\u001b[0m\u001b[0;34m,\u001b[0m\u001b[0;34m\u001b[0m\u001b[0;34m\u001b[0m\u001b[0m\n\u001b[1;32m      6\u001b[0m                        all_states)\n",
      "\u001b[0;32m/tmp/ipykernel_12560/2460398710.py\u001b[0m in \u001b[0;36mbuild_and_plot_results\u001b[0;34m(experiments_results, experiments_params, test_set_words, test_set_tags, data_builder, all_states)\u001b[0m\n\u001b[1;32m     52\u001b[0m \u001b[0;31m#         pomegranate_errors[title] = pomegranate_error_per_experiment\u001b[0m\u001b[0;34m\u001b[0m\u001b[0;34m\u001b[0m\u001b[0;34m\u001b[0m\u001b[0m\n\u001b[1;32m     53\u001b[0m \u001b[0;34m\u001b[0m\u001b[0m\n\u001b[0;32m---> 54\u001b[0;31m         gibbs_missing_error_per_experiment = [calculate_error_gibbs(exp_args[\"N\"],\n\u001b[0m\u001b[1;32m     55\u001b[0m                                                                     \u001b[0m_trans\u001b[0m\u001b[0;34m,\u001b[0m\u001b[0;34m\u001b[0m\u001b[0;34m\u001b[0m\u001b[0m\n\u001b[1;32m     56\u001b[0m                                                                     \u001b[0mtest_set_words\u001b[0m\u001b[0;34m,\u001b[0m\u001b[0mtest_set_tags\u001b[0m\u001b[0;34m,\u001b[0m\u001b[0;34m\u001b[0m\u001b[0;34m\u001b[0m\u001b[0m\n",
      "\u001b[0;32m/tmp/ipykernel_12560/2460398710.py\u001b[0m in \u001b[0;36m<listcomp>\u001b[0;34m(.0)\u001b[0m\n\u001b[1;32m     52\u001b[0m \u001b[0;31m#         pomegranate_errors[title] = pomegranate_error_per_experiment\u001b[0m\u001b[0;34m\u001b[0m\u001b[0;34m\u001b[0m\u001b[0;34m\u001b[0m\u001b[0m\n\u001b[1;32m     53\u001b[0m \u001b[0;34m\u001b[0m\u001b[0m\n\u001b[0;32m---> 54\u001b[0;31m         gibbs_missing_error_per_experiment = [calculate_error_gibbs(exp_args[\"N\"],\n\u001b[0m\u001b[1;32m     55\u001b[0m                                                                     \u001b[0m_trans\u001b[0m\u001b[0;34m,\u001b[0m\u001b[0;34m\u001b[0m\u001b[0;34m\u001b[0m\u001b[0m\n\u001b[1;32m     56\u001b[0m                                                                     \u001b[0mtest_set_words\u001b[0m\u001b[0;34m,\u001b[0m\u001b[0mtest_set_tags\u001b[0m\u001b[0;34m,\u001b[0m\u001b[0;34m\u001b[0m\u001b[0;34m\u001b[0m\u001b[0m\n",
      "\u001b[0;32m/tmp/ipykernel_12560/527363080.py\u001b[0m in \u001b[0;36mcalculate_error_gibbs\u001b[0;34m(N, predicted_transitions, test_set_words, test_set_tags, words_emms_probs, start_probs, all_states)\u001b[0m\n\u001b[1;32m     41\u001b[0m     \u001b[0m_test_set_tags\u001b[0m \u001b[0;34m=\u001b[0m \u001b[0mlist\u001b[0m\u001b[0;34m(\u001b[0m\u001b[0mfilter\u001b[0m\u001b[0;34m(\u001b[0m\u001b[0;32mlambda\u001b[0m \u001b[0mx\u001b[0m\u001b[0;34m:\u001b[0m\u001b[0mlen\u001b[0m\u001b[0;34m(\u001b[0m\u001b[0mx\u001b[0m\u001b[0;34m)\u001b[0m\u001b[0;34m<\u001b[0m\u001b[0;36m60\u001b[0m\u001b[0;34m,\u001b[0m\u001b[0mtest_set_tags\u001b[0m\u001b[0;34m)\u001b[0m\u001b[0;34m)\u001b[0m\u001b[0;34m\u001b[0m\u001b[0;34m\u001b[0m\u001b[0m\n\u001b[1;32m     42\u001b[0m     \u001b[0mgibbs_sampler\u001b[0m \u001b[0;34m=\u001b[0m \u001b[0mGibbsSampler\u001b[0m\u001b[0;34m(\u001b[0m\u001b[0mN\u001b[0m\u001b[0;34m,\u001b[0m\u001b[0mmulti_process\u001b[0m\u001b[0;34m=\u001b[0m\u001b[0;32mTrue\u001b[0m\u001b[0;34m)\u001b[0m\u001b[0;34m\u001b[0m\u001b[0;34m\u001b[0m\u001b[0m\n\u001b[0;32m---> 43\u001b[0;31m     all_states_picked_by_w = EmSequenceLabeling.sequence_labeling_known_emissions(_test_set_words,\n\u001b[0m\u001b[1;32m     44\u001b[0m                                                                                    \u001b[0mpredicted_transitions\u001b[0m\u001b[0;34m,\u001b[0m\u001b[0;34m\u001b[0m\u001b[0;34m\u001b[0m\u001b[0m\n\u001b[1;32m     45\u001b[0m                                                                                    \u001b[0mstart_probs\u001b[0m\u001b[0;34m,\u001b[0m\u001b[0;34m\u001b[0m\u001b[0;34m\u001b[0m\u001b[0m\n",
      "\u001b[0;32m~/Repos/Few_observations_hmm/WhoCell/benchmarks/POS_tagging/../../../WhoCell/who_cell/models/em_sequence_labeling.py\u001b[0m in \u001b[0;36msequence_labeling_known_emissions\u001b[0;34m(all_relvent_observations, transitions_probs, start_probs, emissions_table, Ng_iters, N)\u001b[0m\n\u001b[1;32m     33\u001b[0m         \u001b[0;32mwith\u001b[0m \u001b[0mtqdm\u001b[0m\u001b[0;34m(\u001b[0m\u001b[0mtotal\u001b[0m\u001b[0;34m=\u001b[0m\u001b[0mNg_iters\u001b[0m\u001b[0;34m)\u001b[0m \u001b[0;32mas\u001b[0m \u001b[0mpbar\u001b[0m\u001b[0;34m:\u001b[0m\u001b[0;34m\u001b[0m\u001b[0;34m\u001b[0m\u001b[0m\n\u001b[1;32m     34\u001b[0m             \u001b[0;32mfor\u001b[0m \u001b[0mi\u001b[0m \u001b[0;32min\u001b[0m \u001b[0mrange\u001b[0m\u001b[0;34m(\u001b[0m\u001b[0mNg_iters\u001b[0m\u001b[0;34m)\u001b[0m\u001b[0;34m:\u001b[0m\u001b[0;34m\u001b[0m\u001b[0;34m\u001b[0m\u001b[0m\n\u001b[0;32m---> 35\u001b[0;31m                 optimal_Ws = EmSequenceLabeling.calculate_optimal_Ws(optimal_states_seqs,all_relvent_observations,\n\u001b[0m\u001b[1;32m     36\u001b[0m                                                                    emissions_table)\n\u001b[1;32m     37\u001b[0m                 optimal_states_seqs = EmSequenceLabeling.calculate_optimal_states_seqs(optimal_Ws, all_relvent_observations,N,\n",
      "\u001b[0;32m~/Repos/Few_observations_hmm/WhoCell/benchmarks/POS_tagging/../../../WhoCell/who_cell/models/em_sequence_labeling.py\u001b[0m in \u001b[0;36mcalculate_optimal_Ws\u001b[0;34m(optimal_states_seqs, all_relvent_observations, emissions_table)\u001b[0m\n\u001b[1;32m    207\u001b[0m                 \u001b[0m_optimal_W\u001b[0m \u001b[0;34m=\u001b[0m \u001b[0mlist\u001b[0m\u001b[0;34m(\u001b[0m\u001b[0mrange\u001b[0m\u001b[0;34m(\u001b[0m\u001b[0mlen\u001b[0m\u001b[0;34m(\u001b[0m\u001b[0moptimal_states_seq\u001b[0m\u001b[0;34m)\u001b[0m\u001b[0;34m)\u001b[0m\u001b[0;34m)\u001b[0m\u001b[0;34m\u001b[0m\u001b[0;34m\u001b[0m\u001b[0m\n\u001b[1;32m    208\u001b[0m             \u001b[0;32melse\u001b[0m \u001b[0;34m:\u001b[0m\u001b[0;34m\u001b[0m\u001b[0;34m\u001b[0m\u001b[0m\n\u001b[0;32m--> 209\u001b[0;31m                 _optimal_W = EmSequenceLabeling.calculate_optimal_W(optimal_states_seq, relvent_observations,\n\u001b[0m\u001b[1;32m    210\u001b[0m                                                                 emissions_table)\n\u001b[1;32m    211\u001b[0m             \u001b[0moptimal_Ws\u001b[0m\u001b[0;34m.\u001b[0m\u001b[0mappend\u001b[0m\u001b[0;34m(\u001b[0m\u001b[0m_optimal_W\u001b[0m\u001b[0;34m)\u001b[0m\u001b[0;34m\u001b[0m\u001b[0;34m\u001b[0m\u001b[0m\n",
      "\u001b[0;32m~/Repos/Few_observations_hmm/WhoCell/benchmarks/POS_tagging/../../../WhoCell/who_cell/models/em_sequence_labeling.py\u001b[0m in \u001b[0;36mcalculate_optimal_W\u001b[0;34m(states_seq, relvent_observations, emissions_table)\u001b[0m\n\u001b[1;32m    219\u001b[0m         \u001b[0mstart_p\u001b[0m \u001b[0;34m=\u001b[0m \u001b[0;34m{\u001b[0m\u001b[0mi\u001b[0m\u001b[0;34m:\u001b[0m\u001b[0;36m1\u001b[0m\u001b[0;34m/\u001b[0m\u001b[0mlen\u001b[0m\u001b[0;34m(\u001b[0m\u001b[0mstates_ind\u001b[0m\u001b[0;34m)\u001b[0m \u001b[0;32mfor\u001b[0m \u001b[0mi\u001b[0m \u001b[0;32min\u001b[0m \u001b[0mstates_ind\u001b[0m\u001b[0;34m}\u001b[0m\u001b[0;34m\u001b[0m\u001b[0;34m\u001b[0m\u001b[0m\n\u001b[1;32m    220\u001b[0m \u001b[0;34m\u001b[0m\u001b[0m\n\u001b[0;32m--> 221\u001b[0;31m         optimal_path = EmSequenceLabeling.viterbi(observations_ind, states_ind, start_p,\n\u001b[0m\u001b[1;32m    222\u001b[0m                                                   transitions_probs, emm_probs_for_ind)\n\u001b[1;32m    223\u001b[0m \u001b[0;34m\u001b[0m\u001b[0m\n",
      "\u001b[0;32m~/Repos/Few_observations_hmm/WhoCell/benchmarks/POS_tagging/../../../WhoCell/who_cell/models/em_sequence_labeling.py\u001b[0m in \u001b[0;36mviterbi\u001b[0;34m(obs, states, start_p, trans_p, emit_p)\u001b[0m\n\u001b[1;32m    155\u001b[0m         \u001b[0;31m# Follow the backtrack till the first observation\u001b[0m\u001b[0;34m\u001b[0m\u001b[0;34m\u001b[0m\u001b[0;34m\u001b[0m\u001b[0m\n\u001b[1;32m    156\u001b[0m         \u001b[0;32mfor\u001b[0m \u001b[0mt\u001b[0m \u001b[0;32min\u001b[0m \u001b[0mrange\u001b[0m\u001b[0;34m(\u001b[0m\u001b[0mlen\u001b[0m\u001b[0;34m(\u001b[0m\u001b[0mV\u001b[0m\u001b[0;34m)\u001b[0m \u001b[0;34m-\u001b[0m \u001b[0;36m2\u001b[0m\u001b[0;34m,\u001b[0m \u001b[0;34m-\u001b[0m\u001b[0;36m1\u001b[0m\u001b[0;34m,\u001b[0m \u001b[0;34m-\u001b[0m\u001b[0;36m1\u001b[0m\u001b[0;34m)\u001b[0m\u001b[0;34m:\u001b[0m\u001b[0;34m\u001b[0m\u001b[0;34m\u001b[0m\u001b[0m\n\u001b[0;32m--> 157\u001b[0;31m             \u001b[0mopt\u001b[0m\u001b[0;34m.\u001b[0m\u001b[0minsert\u001b[0m\u001b[0;34m(\u001b[0m\u001b[0;36m0\u001b[0m\u001b[0;34m,\u001b[0m \u001b[0mV\u001b[0m\u001b[0;34m[\u001b[0m\u001b[0mt\u001b[0m \u001b[0;34m+\u001b[0m \u001b[0;36m1\u001b[0m\u001b[0;34m]\u001b[0m\u001b[0;34m[\u001b[0m\u001b[0mprevious\u001b[0m\u001b[0;34m]\u001b[0m\u001b[0;34m[\u001b[0m\u001b[0;34m\"prev\"\u001b[0m\u001b[0;34m]\u001b[0m\u001b[0;34m)\u001b[0m\u001b[0;34m\u001b[0m\u001b[0;34m\u001b[0m\u001b[0m\n\u001b[0m\u001b[1;32m    158\u001b[0m             \u001b[0mprevious\u001b[0m \u001b[0;34m=\u001b[0m \u001b[0mV\u001b[0m\u001b[0;34m[\u001b[0m\u001b[0mt\u001b[0m \u001b[0;34m+\u001b[0m \u001b[0;36m1\u001b[0m\u001b[0;34m]\u001b[0m\u001b[0;34m[\u001b[0m\u001b[0mprevious\u001b[0m\u001b[0;34m]\u001b[0m\u001b[0;34m[\u001b[0m\u001b[0;34m\"prev\"\u001b[0m\u001b[0;34m]\u001b[0m\u001b[0;34m\u001b[0m\u001b[0;34m\u001b[0m\u001b[0m\n\u001b[1;32m    159\u001b[0m \u001b[0;34m\u001b[0m\u001b[0m\n",
      "\u001b[0;31mKeyError\u001b[0m: None"
     ]
    }
   ],
   "source": [
    "experiments_results = [first_experiment_results,third_experiment_results]\n",
    "experiments_params = [first_experiment_args,third_experiment_args]\n",
    "\n",
    "build_and_plot_results(experiments_results,experiments_params,\n",
    "                       test_set_words,test_set_tags,data_builder,\n",
    "                       all_states)\n"
   ]
  },
  {
   "cell_type": "code",
   "execution_count": null,
   "metadata": {},
   "outputs": [],
   "source": [
    "experiments_results[0]['transitions'][-1]"
   ]
  },
  {
   "cell_type": "code",
   "execution_count": null,
   "metadata": {},
   "outputs": [],
   "source": [
    "experiments_results = [first_experiment_results,second_experiment_results]\n",
    "experiments_params = [first_experiment_args,second_experiment_args]\n",
    "\n",
    "build_and_plot_results(experiments_results,experiments_params,\n",
    "                       test_set_words,test_set_tags,data_builder,\n",
    "                       all_states)\n"
   ]
  },
  {
   "cell_type": "code",
   "execution_count": null,
   "metadata": {},
   "outputs": [],
   "source": [
    "n_iter_exp = 100\n"
   ]
  },
  {
   "cell_type": "code",
   "execution_count": null,
   "metadata": {},
   "outputs": [],
   "source": []
  }
 ],
 "metadata": {
  "hide_input": false,
  "kernelspec": {
   "display_name": "Python 3 (ipykernel)",
   "language": "python",
   "name": "python3"
  },
  "language_info": {
   "codemirror_mode": {
    "name": "ipython",
    "version": 3
   },
   "file_extension": ".py",
   "mimetype": "text/x-python",
   "name": "python",
   "nbconvert_exporter": "python",
   "pygments_lexer": "ipython3",
   "version": "3.9.6"
  },
  "toc": {
   "base_numbering": 1,
   "nav_menu": {},
   "number_sections": true,
   "sideBar": true,
   "skip_h1_title": false,
   "title_cell": "Table of Contents",
   "title_sidebar": "Contents",
   "toc_cell": false,
   "toc_position": {},
   "toc_section_display": true,
   "toc_window_display": false
  }
 },
 "nbformat": 4,
 "nbformat_minor": 2
}
