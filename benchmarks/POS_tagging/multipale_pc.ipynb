{
 "cells": [
  {
   "cell_type": "markdown",
   "metadata": {},
   "source": [
    "# INIT"
   ]
  },
  {
   "cell_type": "markdown",
   "metadata": {},
   "source": [
    "## load pack"
   ]
  },
  {
   "cell_type": "code",
   "execution_count": 1,
   "metadata": {},
   "outputs": [],
   "source": [
    "import sys\n",
    "sys.path.append(\"../POS_tagging/\")\n",
    "sys.path.append(\"../../../pomegranate/\")\n",
    "sys.path.append(r\"../../../WhoCell\\pomegranate\")\n",
    "sys.path.append(r\"../../../WhoCell\")\n",
    "sys.path.append(r\"../../../WhoCell/\")\n",
    "sys.path.append(r\"../../../WhoCell/who_cell/\")\n",
    "sys.path.append(r\"../../../WhoCell/who_cell/models/\")\n",
    "sys.path.append(r\"../../../WhoCell/who_cell/simulation/\")\n",
    "sys.path.append(r\"../../../WhoCell/who_cell/experiments/\")"
   ]
  },
  {
   "cell_type": "code",
   "execution_count": 2,
   "metadata": {},
   "outputs": [],
   "source": [
    "import matplotlib.pyplot as plt\n",
    "import numpy as np\n",
    "import string\n",
    "\n",
    "from collections import Counter\n",
    "from IPython.core.display import HTML\n",
    "from itertools import chain\n",
    "from collections import Counter, defaultdict\n",
    "from helpers import show_model, Dataset\n",
    "import pandas as pd\n",
    "import seaborn as sns\n",
    "import itertools\n",
    "from functools import reduce\n",
    "\n",
    "from pomegranate import State, HiddenMarkovModel, DiscreteDistribution\n",
    "\n",
    "from simulation_for_gibbs import Simulator_for_Gibbs\n",
    "from gibbs_sampler import GibbsSampler\n",
    "from experiment_report import ExperimentReport \n",
    "from gibbs_experiments import GibbsExperiment\n",
    "from pos_data_builder import PosDataBuilder\n",
    "from pos_code_base import PosCodeBase\n"
   ]
  },
  {
   "cell_type": "code",
   "execution_count": 3,
   "metadata": {},
   "outputs": [],
   "source": [
    "# %connect_info\n",
    "%load_ext autoreload\n",
    "\n",
    "import warnings\n",
    "warnings.filterwarnings('ignore')"
   ]
  },
  {
   "cell_type": "markdown",
   "metadata": {},
   "source": [
    "# real problem"
   ]
  },
  {
   "cell_type": "code",
   "execution_count": 4,
   "metadata": {},
   "outputs": [],
   "source": [
    "data_builder = PosDataBuilder()\n",
    "code_base = PosCodeBase()"
   ]
  },
  {
   "cell_type": "markdown",
   "metadata": {},
   "source": [
    "# Markovien problem - not only observed"
   ]
  },
  {
   "cell_type": "code",
   "execution_count": 5,
   "metadata": {
    "scrolled": true
   },
   "outputs": [
    {
     "name": "stdout",
     "output_type": "stream",
     "text": [
      "start M-H sampling\n"
     ]
    },
    {
     "name": "stderr",
     "output_type": "stream",
     "text": [
      "100%|███████████████████████████████████████████| 50/50 [09:46<00:00, 11.73s/it]\n"
     ]
    },
    {
     "name": "stdout",
     "output_type": "stream",
     "text": [
      "start M-H sampling\n"
     ]
    },
    {
     "name": "stderr",
     "output_type": "stream",
     "text": [
      "100%|███████████████████████████████████████████| 50/50 [06:20<00:00,  7.61s/it]\n"
     ]
    }
   ],
   "source": [
    "all_pc_results = {}\n",
    "for pc in [0.2,0.05] : \n",
    "    data_builder = PosDataBuilder()\n",
    "    code_base = PosCodeBase()\n",
    "\n",
    "    few_obs_test_set_words,few_obs_test_set_tags = data_builder.get_experiment_sets_from_markovien_sets(pc,30,True)\n",
    "\n",
    "    transitions_probs,transitions_probs_df = data_builder.get_known_transitions()\n",
    "\n",
    "    _args = {\"test_set_words\":few_obs_test_set_words,\n",
    "    \"start_probs\":data_builder._build_starting_probabilites(),\n",
    "    \"emms_probs\":data_builder._build_emissions_probabilites(),\n",
    "    \"number_of_iters\":50,\n",
    "    \"N\":30,\n",
    "    \"is_only_observed\":False,\n",
    "    \"description\":f\" {pc}\",\n",
    "    \"known_transitions\":transitions_probs_df,\n",
    "    \"comper_transitions\":None,\n",
    "    \"comper_transitions_title\" :None,\n",
    "    \"state_order_for_plot\":data_builder.STATE_ORDER_TO_PLOT,\n",
    "    \"title\":f\"P(C) = {pc},markov\"}\n",
    "    _experiment_results = code_base.run_pos_experiment(**_args)\n",
    "    \n",
    "    all_pc_results[f'P(C) = {pc}'] ={'transitions_probs':transitions_probs,\n",
    "                                     '_known_N':30,\n",
    "                                     '_experiment_results':_experiment_results}"
   ]
  },
  {
   "cell_type": "code",
   "execution_count": 7,
   "metadata": {},
   "outputs": [],
   "source": [
    "er = ExperimentReport()\n",
    "\n",
    "experiments_name_list = list(all_pc_results.keys())\n",
    "transitions_results_list = [all_pc_results[experiments_name_list[0]]['_experiment_results']['transitions'],\n",
    "                            all_pc_results[experiments_name_list[1]]['_experiment_results']['transitions']]\n",
    "#                             all_pc_results[experiments_name_list[2]]['_experiment_results']['transitions'],\n",
    "#                             all_pc_results[experiments_name_list[3]]['_experiment_results']['transitions']]\n",
    "known_probs_list = [all_pc_results[experiments_name_list[0]]['transitions_probs'],\n",
    "                    all_pc_results[experiments_name_list[1]]['transitions_probs']]\n",
    "#                     all_pc_results[experiments_name_list[2]]['transitions_probs'],\n",
    "#                     all_pc_results[experiments_name_list[3]]['transitions_probs']]\n",
    "\n",
    "\n",
    "\n",
    "__l1_distance = lambda dist,state,known : abs(dist[state]-known) if state in dist.keys() else known\n",
    "__cross_entropy_distance = lambda dist,state,known : -1*known*np.log(dist[state]) if state in dist.keys() else (-1*known*np.log(0.0001))\n",
    "\n",
    "_l1_distance = lambda known_dist,comp_dist:sum(([__l1_distance(comp_dist,state,prob) for state,prob in known_dist.items()]))\n",
    "_cross_entropy_distance = lambda known_dist,comp_dist:sum([__cross_entropy_distance(comp_dist,state,prob) for state,prob in known_dist.items()])\n",
    "\n",
    "l1_distance = lambda known_trns,comp_trans : np.mean([_l1_distance(dist,comp_trans[state]) for state,dist in known_trns.items()])\n",
    "cross_entropy_distance = lambda known_trns,comp_trans : np.mean([_cross_entropy_distance(dist,comp_trans[state]) for state,dist in known_trns.items()])\n",
    "\n",
    "_trajectory_prob = lambda traj,model_trans:reduce(lambda x,y:x*y,[(model_trans[_f][_t] if _t in model_trans[_f].keys() else 0) for _f,_t in zip(traj,traj[1:])])\n",
    "\n",
    "\n",
    "all_l1_results = {}\n",
    "all_ce_results = {}\n",
    "for _trans_list,exp_name,transitions_probs in zip(transitions_results_list,experiments_name_list,known_probs_list) : \n",
    "    l1_dist = [l1_distance(transitions_probs,_t) for _t in _trans_list]\n",
    "    ce_dist = [cross_entropy_distance(transitions_probs,_t) for _t in _trans_list]\n",
    "    \n",
    "    all_l1_results[exp_name] = l1_dist\n",
    "    all_ce_results[exp_name] = ce_dist\n",
    "\n"
   ]
  },
  {
   "cell_type": "markdown",
   "metadata": {},
   "source": [
    "# this time with M-H"
   ]
  },
  {
   "cell_type": "code",
   "execution_count": 8,
   "metadata": {},
   "outputs": [
    {
     "data": {
      "image/png": "[encoded data removed]",
      "text/plain": [
       "<Figure size 576x576 with 1 Axes>"
      ]
     },
     "metadata": {
      "needs_background": "light"
     },
     "output_type": "display_data"
    },
    {
     "data": {
      "image/png": "[encoded data removed]",
      "text/plain": [
       "<Figure size 576x576 with 1 Axes>"
      ]
     },
     "metadata": {
      "needs_background": "light"
     },
     "output_type": "display_data"
    }
   ],
   "source": [
    "\n",
    "\n",
    "for all_results,name in zip([all_l1_results,all_ce_results],['l1','crossEntropy']) : \n",
    "    fig, sub = plt.subplots(1,1,figsize=(8, 8))\n",
    "    model_results_df = pd.DataFrame(all_results)\n",
    "\n",
    "    sns.lineplot(data=model_results_df, ax=sub, legend='full', dashes=False)\n",
    "    sub.legend(bbox_to_anchor=(1.05, 1), loc=2, borderaxespad=0.)\n",
    "    sub.set_title(f\"{name}\")\n",
    "    sub.set_xlabel(\"iter\")\n",
    "    sub.set_ylabel(f\"{name}\")\n",
    "\n",
    "    plt.subplots_adjust(hspace=0.8)\n",
    "    plt.subplots_adjust(wspace=0.8)\n",
    "\n",
    "    plt.show()"
   ]
  },
  {
   "cell_type": "code",
   "execution_count": null,
   "metadata": {},
   "outputs": [],
   "source": []
  },
  {
   "cell_type": "code",
   "execution_count": null,
   "metadata": {},
   "outputs": [],
   "source": [
    "def extrect_only_observed(ws,states_of_w) : \n",
    "    transition_normalization = lambda dic: {k:{kk:vv/sum(v.values()) for kk,vv in v.items()} for k,v in dic.items()}\n",
    "    _all_obsarved_transitions = []\n",
    "    for w,states in zip(ws,states_of_w) : \n",
    "        _all_obsarved_transitions.append([(states[idx],states[idx+1]) for idx,(_fw,_tw) in enumerate(zip(w,w[1:])) if (_tw - _fw) == 1])\n",
    "    all_obsarved_transitions = Counter(chain(*_all_obsarved_transitions))\n",
    "\n",
    "    transition_matrix = {}\n",
    "    for (_f,_t),count in all_obsarved_transitions.items() : \n",
    "        if _f not in transition_matrix.keys() :\n",
    "            transition_matrix[_f] = {_t:count}\n",
    "        else : \n",
    "            transition_matrix[_f][_t] = count\n",
    "    norm_transition_matrix = transition_normalization(transition_matrix)\n",
    "    return norm_transition_matrix"
   ]
  },
  {
   "cell_type": "code",
   "execution_count": null,
   "metadata": {},
   "outputs": [],
   "source": []
  },
  {
   "cell_type": "code",
   "execution_count": null,
   "metadata": {},
   "outputs": [],
   "source": [
    "er = ExperimentReport()\n",
    "\n",
    "experiments_name_list = list(all_pc_results.keys())\n",
    "transitions_results_list = [list(map(lambda x:extrect_only_observed(x[0],x[1]),zip(all_pc_results[experiments_name_list[0]]['_experiment_results']['ws'],all_pc_results[experiments_name_list[0]]['_experiment_results']['states_picked_by_w']))),\n",
    "                            list(map(lambda x:extrect_only_observed(x[0],x[1]),zip(all_pc_results[experiments_name_list[1]]['_experiment_results']['ws'],all_pc_results[experiments_name_list[1]]['_experiment_results']['states_picked_by_w']))),\n",
    "                            list(map(lambda x:extrect_only_observed(x[0],x[1]),zip(all_pc_results[experiments_name_list[2]]['_experiment_results']['ws'],all_pc_results[experiments_name_list[2]]['_experiment_results']['states_picked_by_w']))),\n",
    "                            list(map(lambda x:extrect_only_observed(x[0],x[1]),zip(all_pc_results[experiments_name_list[3]]['_experiment_results']['ws'],all_pc_results[experiments_name_list[3]]['_experiment_results']['states_picked_by_w'])))]\n",
    "known_probs_list = [all_pc_results[experiments_name_list[0]]['transitions_probs'],\n",
    "                    all_pc_results[experiments_name_list[1]]['transitions_probs'],\n",
    "                    all_pc_results[experiments_name_list[2]]['transitions_probs'],\n",
    "                    all_pc_results[experiments_name_list[3]]['transitions_probs']]\n",
    "\n",
    "\n",
    "\n",
    "__l1_distance = lambda dist,state,known : abs(dist[state]-known) if state in dist.keys() else known\n",
    "__cross_entropy_distance = lambda dist,state,known : -1*known*np.log(dist[state]) if state in dist.keys() else (-1*known*np.log(0.0001))\n",
    "\n",
    "_l1_distance = lambda known_dist,comp_dist:sum(([__l1_distance(comp_dist,state,prob) for state,prob in known_dist.items()]))\n",
    "_cross_entropy_distance = lambda known_dist,comp_dist:sum([__cross_entropy_distance(comp_dist,state,prob) for state,prob in known_dist.items()])\n",
    "\n",
    "l1_distance = lambda known_trns,comp_trans : np.mean([_l1_distance(dist,comp_trans[state]) for state,dist in known_trns.items()])\n",
    "cross_entropy_distance = lambda known_trns,comp_trans : np.mean([_cross_entropy_distance(dist,comp_trans[state]) for state,dist in known_trns.items()])\n",
    "\n",
    "_trajectory_prob = lambda traj,model_trans:reduce(lambda x,y:x*y,[(model_trans[_f][_t] if _t in model_trans[_f].keys() else 0) for _f,_t in zip(traj,traj[1:])])\n",
    "\n",
    "\n",
    "all_l1_results = {}\n",
    "all_ce_results = {}\n",
    "for _trans_list,exp_name,transitions_probs in zip(transitions_results_list,experiments_name_list,known_probs_list) : \n",
    "    l1_dist = [l1_distance(transitions_probs,_t) for _t in _trans_list]\n",
    "    ce_dist = [cross_entropy_distance(transitions_probs,_t) for _t in _trans_list]\n",
    "    \n",
    "    all_l1_results[exp_name] = l1_dist\n",
    "    all_ce_results[exp_name] = ce_dist\n",
    "\n"
   ]
  },
  {
   "cell_type": "code",
   "execution_count": null,
   "metadata": {},
   "outputs": [],
   "source": [
    "\n",
    "\n",
    "for all_results,name in zip([all_l1_results,all_ce_results],['l1','crossEntropy']) : \n",
    "    fig, sub = plt.subplots(1,1,figsize=(8, 8))\n",
    "    model_results_df = pd.DataFrame(all_results)\n",
    "\n",
    "    sns.lineplot(data=model_results_df, ax=sub, legend='full', dashes=False)\n",
    "    sub.legend(bbox_to_anchor=(1.05, 1), loc=2, borderaxespad=0.)\n",
    "    sub.set_title(f\"{name}\")\n",
    "    sub.set_xlabel(\"iter\")\n",
    "    sub.set_ylabel(f\"{name}\")\n",
    "\n",
    "    plt.subplots_adjust(hspace=0.8)\n",
    "    plt.subplots_adjust(wspace=0.8)\n",
    "\n",
    "    plt.show()"
   ]
  }
 ],
 "metadata": {
  "hide_input": false,
  "kernelspec": {
   "display_name": "Python 3 (ipykernel)",
   "language": "python",
   "name": "python3"
  },
  "language_info": {
   "codemirror_mode": {
    "name": "ipython",
    "version": 3
   },
   "file_extension": ".py",
   "mimetype": "text/x-python",
   "name": "python",
   "nbconvert_exporter": "python",
   "pygments_lexer": "ipython3",
   "version": "3.9.6"
  },
  "toc": {
   "base_numbering": 1,
   "nav_menu": {},
   "number_sections": true,
   "sideBar": true,
   "skip_h1_title": false,
   "title_cell": "Table of Contents",
   "title_sidebar": "Contents",
   "toc_cell": false,
   "toc_position": {},
   "toc_section_display": true,
   "toc_window_display": false
  }
 },
 "nbformat": 4,
 "nbformat_minor": 2
}
