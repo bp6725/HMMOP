{
 "cells": [
  {
   "cell_type": "markdown",
   "metadata": {},
   "source": [
    "# Init"
   ]
  },
  {
   "cell_type": "code",
   "execution_count": 1,
   "metadata": {},
   "outputs": [],
   "source": [
    "import sys\n",
    "sys.path.append(r\"../../../pomegranate\")\n",
    "sys.path.append(r\"../../../WhoCell/\")\n",
    "sys.path.append(r\"../../../WhoCell/who_cell/\")\n",
    "sys.path.append(r\"../../../WhoCell/who_cell/models/\")\n",
    "sys.path.append(r\"../../../WhoCell/who_cell/simulation/\")"
   ]
  },
  {
   "cell_type": "code",
   "execution_count": 2,
   "metadata": {},
   "outputs": [],
   "source": [
    "from functools import reduce\n",
    "from collections import Counter\n",
    "import seaborn as sns"
   ]
  },
  {
   "cell_type": "code",
   "execution_count": 3,
   "metadata": {},
   "outputs": [],
   "source": [
    "import pomegranate\n",
    "from pomegranate import *\n",
    "from pomegranate import HiddenMarkovModel\n",
    "import numpy as np\n",
    "import math \n",
    "import matplotlib.pyplot as plt\n",
    "from functools import partial \n",
    "import itertools\n",
    "import random\n",
    "import copy\n",
    "import pandas as pd\n",
    "import itertools\n",
    "import networkx as nx\n",
    "import holoviews as hv\n",
    "from IPython.display import display, HTML,clear_output\n",
    "from scipy.stats import binom\n",
    "from ast import literal_eval as make_tuple\n",
    "\n",
    "\n",
    "from numba import jit\n",
    "import numba\n",
    "\n",
    "from gibbs_sampler import GibbsSampler\n",
    "from simulation_for_gibbs import Simulator_for_Gibbs\n",
    "from who_cell.experiments.experiment_report import ExperimentReport\n",
    "from who_cell.experiments.gibbs_experiments import GibbsExperiment\n",
    "\n",
    "\n",
    "\n",
    "from tqdm import tqdm\n",
    "import snakeviz\n",
    "%load_ext snakeviz\n",
    "%load_ext autoreload\n"
   ]
  },
  {
   "cell_type": "code",
   "execution_count": 4,
   "metadata": {},
   "outputs": [
    {
     "name": "stdout",
     "output_type": "stream",
     "text": [
      "{\n",
      "  \"shell_port\": 45971,\n",
      "  \"iopub_port\": 39055,\n",
      "  \"stdin_port\": 44663,\n",
      "  \"control_port\": 51457,\n",
      "  \"hb_port\": 47283,\n",
      "  \"ip\": \"127.0.0.1\",\n",
      "  \"key\": \"0fb21d50-aa5ab25fc7db99f252518925\",\n",
      "  \"transport\": \"tcp\",\n",
      "  \"signature_scheme\": \"hmac-sha256\",\n",
      "  \"kernel_name\": \"\"\n",
      "}\n",
      "\n",
      "Paste the above JSON into a file, and connect with:\n",
      "    $> jupyter <app> --existing <file>\n",
      "or, if you are local, you can connect with just:\n",
      "    $> jupyter <app> --existing kernel-d1720709-7bb1-41ba-baab-e45696eadb83.json\n",
      "or even just:\n",
      "    $> jupyter <app> --existing\n",
      "if this is the most recent Jupyter kernel you have started.\n"
     ]
    }
   ],
   "source": [
    "%connect_info"
   ]
  },
  {
   "cell_type": "markdown",
   "metadata": {},
   "source": [
    "# experiments"
   ]
  },
  {
   "cell_type": "code",
   "execution_count": 5,
   "metadata": {},
   "outputs": [],
   "source": [
    "all_models_results = {}\n",
    "er = ExperimentReport()"
   ]
  },
  {
   "cell_type": "markdown",
   "metadata": {},
   "source": [
    "## simulate data "
   ]
  },
  {
   "cell_type": "markdown",
   "metadata": {},
   "source": [
    "### using known simulator for T"
   ]
  },
  {
   "cell_type": "code",
   "execution_count": 6,
   "metadata": {},
   "outputs": [],
   "source": [
    "mutual_model_params_dict = {\n",
    "            'is_acyclic': True,\n",
    "            'known_mues': True,\n",
    "            \"is_few_observation_model\": False,\n",
    "            \"is_only_seen\": 'all',\n",
    "            'N': 50,\n",
    "            'd': 9,\n",
    "            \"bipartite\": False,\n",
    "            \"inner_outer_trans_probs_ratio\": 50,\n",
    "            'n_states': 10,\n",
    "            'sigma': 0.1,\n",
    "            'number_of_smapled_traj': 1000,\n",
    "            'p_prob_of_observation': 0.5,\n",
    "            'N_itres': 10,\n",
    "            'is_mh': False,\n",
    "            'w_smapler_n_iter': 100}\n"
   ]
  },
  {
   "cell_type": "code",
   "execution_count": 7,
   "metadata": {
    "code_folding": [
     0
    ]
   },
   "outputs": [],
   "source": [
    "def plot_results(transitions_results_list,experiments_name_list,transitions_probs,title):\n",
    "    er = ExperimentReport()\n",
    "\n",
    "    __l1_distance = lambda dist,state,known : abs(dist[state]-known) if state in dist.keys() else known\n",
    "    __cross_entropy_distance = lambda dist,state,known : -1*known*np.log(dist[state]) if state in dist.keys() else (-1*known*np.log(0.0001))\n",
    "\n",
    "    _l1_distance = lambda known_dist,comp_dist:sum(([__l1_distance(comp_dist,state,prob) for state,prob in known_dist.items()]))\n",
    "    _cross_entropy_distance = lambda known_dist,comp_dist:sum([__cross_entropy_distance(comp_dist,state,prob) for state,prob in known_dist.items()])\n",
    "\n",
    "    l1_distance = lambda known_trns,comp_trans : np.mean([_l1_distance(dist,comp_trans[state]) for state,dist in known_trns.items()])\n",
    "    cross_entropy_distance = lambda known_trns,comp_trans : np.mean([_cross_entropy_distance(dist,comp_trans[state]) for state,dist in known_trns.items()])\n",
    "\n",
    "    _trajectory_prob = lambda traj,model_trans:reduce(lambda x,y:x*y,[(model_trans[_f][_t] if _t in model_trans[_f].keys() else 0) for _f,_t in zip(traj,traj[1:])])\n",
    "\n",
    "\n",
    "    all_l1_results = {}\n",
    "    all_ce_results = {}\n",
    "    for _trans_list,exp_name in zip(transitions_results_list,experiments_name_list) : \n",
    "        l1_dist = [l1_distance(transitions_probs,_t) for _t in _trans_list]\n",
    "        ce_dist = [cross_entropy_distance(transitions_probs,_t) for _t in _trans_list]\n",
    "\n",
    "        all_l1_results[exp_name] = l1_dist\n",
    "        all_ce_results[exp_name] = ce_dist\n",
    "\n",
    "\n",
    "\n",
    "#     for all_results,name in zip([all_l1_results,all_ce_results],['l1','crossEntropy']) : \n",
    "    for all_results,name in zip([all_l1_results],['l1']) : \n",
    "        fig, sub = plt.subplots(1,1,figsize=(8, 8))\n",
    "        fig.suptitle(title)\n",
    "        model_results_df = pd.DataFrame(all_results)\n",
    "\n",
    "        sns.lineplot(data=model_results_df, ax=sub, legend='full', dashes=False)\n",
    "        sub.legend(bbox_to_anchor=(1.05, 1), loc=2, borderaxespad=0.)\n",
    "        sub.set_title(f\"{name}\")\n",
    "        sub.set_xlabel(\"iter\")\n",
    "        sub.set_ylabel(f\"{name}\")\n",
    "\n",
    "        plt.subplots_adjust(hspace=0.8)\n",
    "        plt.subplots_adjust(wspace=0.8)\n",
    "\n",
    "        plt.show()"
   ]
  },
  {
   "cell_type": "markdown",
   "metadata": {},
   "source": [
    "#### build T"
   ]
  },
  {
   "cell_type": "code",
   "execution_count": 8,
   "metadata": {},
   "outputs": [
    {
     "ename": "ValueError",
     "evalue": "too many values to unpack (expected 2)",
     "output_type": "error",
     "traceback": [
      "\u001b[0;31m---------------------------------------------------------------------------\u001b[0m",
      "\u001b[0;31mValueError\u001b[0m                                Traceback (most recent call last)",
      "\u001b[0;32m/tmp/ipykernel_28693/4107262695.py\u001b[0m in \u001b[0;36m<module>\u001b[0;34m\u001b[0m\n\u001b[1;32m      4\u001b[0m                                 sigma=mutual_model_params_dict['sigma']) # we need max_number_of_sampled_traj to know how much traj to pre sample so the traj will be mutual\n\u001b[1;32m      5\u001b[0m \u001b[0;34m\u001b[0m\u001b[0m\n\u001b[0;32m----> 6\u001b[0;31m pome_results_1 = simulator.build_pome_model(mutual_model_params_dict['N'], mutual_model_params_dict['d'],\n\u001b[0m\u001b[1;32m      7\u001b[0m                                simulator.mues, simulator.sigmas)\n\u001b[1;32m      8\u001b[0m \u001b[0msimulator\u001b[0m\u001b[0;34m.\u001b[0m\u001b[0mupdate_known_mues_and_sigmes_to_state_mapping\u001b[0m\u001b[0;34m(\u001b[0m\u001b[0mpome_results_1\u001b[0m\u001b[0;34m[\u001b[0m\u001b[0;34m\"state_to_distrbution_param_mapping\"\u001b[0m\u001b[0;34m]\u001b[0m\u001b[0;34m)\u001b[0m\u001b[0;34m\u001b[0m\u001b[0;34m\u001b[0m\u001b[0m\n",
      "\u001b[0;32m~/Repos/Few_observations_hmm/WhoCell/benchmarks/paper figures/../../../WhoCell/who_cell/simulation/simulation_for_gibbs.py\u001b[0m in \u001b[0;36mbuild_pome_model\u001b[0;34m(self, N, d, mues, sigmas, is_bipartite, inner_outer_trans_probs_ratio)\u001b[0m\n\u001b[1;32m    386\u001b[0m \u001b[0;34m\u001b[0m\u001b[0m\n\u001b[1;32m    387\u001b[0m         \u001b[0;32mif\u001b[0m \u001b[0;32mnot\u001b[0m \u001b[0mis_bipartite\u001b[0m\u001b[0;34m:\u001b[0m\u001b[0;34m\u001b[0m\u001b[0;34m\u001b[0m\u001b[0m\n\u001b[0;32m--> 388\u001b[0;31m             \u001b[0;34m(\u001b[0m\u001b[0mstate_to_distrbution_param_mapping\u001b[0m\u001b[0;34m,\u001b[0m \u001b[0mtransition_matrix_sparse\u001b[0m\u001b[0;34m,\u001b[0m \u001b[0mstart_probabilites\u001b[0m\u001b[0;34m)\u001b[0m\u001b[0;34m,\u001b[0m\u001b[0;31m\\\u001b[0m\u001b[0;34m\u001b[0m\u001b[0;34m\u001b[0m\u001b[0m\n\u001b[0m\u001b[1;32m    389\u001b[0m                 \u001b[0mparams_signature\u001b[0m \u001b[0;34m=\u001b[0m\u001b[0;31m \u001b[0m\u001b[0;31m\\\u001b[0m\u001b[0;34m\u001b[0m\u001b[0;34m\u001b[0m\u001b[0m\n\u001b[1;32m    390\u001b[0m                 \u001b[0mself\u001b[0m\u001b[0;34m.\u001b[0m\u001b[0mbuild_acyclic_template_model_parameters\u001b[0m\u001b[0;34m(\u001b[0m\u001b[0mN\u001b[0m\u001b[0;34m,\u001b[0m \u001b[0md\u001b[0m\u001b[0;34m,\u001b[0m \u001b[0mmues\u001b[0m\u001b[0;34m,\u001b[0m \u001b[0msigmas\u001b[0m\u001b[0;34m)\u001b[0m\u001b[0;34m\u001b[0m\u001b[0;34m\u001b[0m\u001b[0m\n",
      "\u001b[0;31mValueError\u001b[0m: too many values to unpack (expected 2)"
     ]
    }
   ],
   "source": [
    "simulator = Simulator_for_Gibbs(mutual_model_params_dict['N'], mutual_model_params_dict['d'],\n",
    "                                mutual_model_params_dict['n_states'], easy_mode=True,\n",
    "                                max_number_of_sampled_traj =mutual_model_params_dict[\"number_of_smapled_traj\"],\n",
    "                                sigma=mutual_model_params_dict['sigma']) # we need max_number_of_sampled_traj to know how much traj to pre sample so the traj will be mutual\n",
    "\n",
    "pome_results_1 = simulator.build_pome_model(mutual_model_params_dict['N'], mutual_model_params_dict['d'],\n",
    "                               simulator.mues, simulator.sigmas)\n",
    "simulator.update_known_mues_and_sigmes_to_state_mapping(pome_results_1[\"state_to_distrbution_param_mapping\"])\n"
   ]
  },
  {
   "cell_type": "code",
   "execution_count": null,
   "metadata": {},
   "outputs": [],
   "source": []
  },
  {
   "cell_type": "code",
   "execution_count": null,
   "metadata": {},
   "outputs": [],
   "source": [
    "def power_matrix_np(matrix,power):\n",
    "    final = matrix\n",
    "    for i in range(1,power):\n",
    "        final = final.dot(matrix)\n",
    "    return final"
   ]
  },
  {
   "cell_type": "code",
   "execution_count": null,
   "metadata": {},
   "outputs": [],
   "source": [
    "_transition_matrix = pome_results_1['model'].dense_transition_matrix()"
   ]
  },
  {
   "cell_type": "code",
   "execution_count": null,
   "metadata": {},
   "outputs": [],
   "source": [
    "n_states = mutual_model_params_dict['n_states']\n",
    "_transition_matrix[0:n_states,0:n_states] = np.random.rand(n_states,n_states)\n"
   ]
  },
  {
   "cell_type": "code",
   "execution_count": null,
   "metadata": {},
   "outputs": [],
   "source": [
    "_transition_matrix"
   ]
  },
  {
   "cell_type": "code",
   "execution_count": null,
   "metadata": {},
   "outputs": [],
   "source": [
    "states = list(map(lambda s:(s.name if \"-\" not in s.name else s.name.split(\"-\")[1]),pome_results_1['model'].states))\n",
    "transition_matrix_df_1 = pd.DataFrame(data = _transition_matrix,columns = states,index=states)\n",
    "transition_matrix_df_3 = pd.DataFrame(data = power_matrix_np(_transition_matrix,3),columns = states,index=states)\n",
    "transition_matrix_df_10 =pd.DataFrame(data = power_matrix_np(_transition_matrix,10),columns = states,index=states)"
   ]
  },
  {
   "cell_type": "code",
   "execution_count": null,
   "metadata": {},
   "outputs": [],
   "source": [
    "transition_matrix_df_3.loc['start'] = transition_matrix_df_1.loc['start']\n",
    "transition_matrix_df_10.loc['start'] = transition_matrix_df_1.loc['start']"
   ]
  },
  {
   "cell_type": "code",
   "execution_count": null,
   "metadata": {},
   "outputs": [],
   "source": [
    "# transition_matrix_np_1 = transition_matrix_df_1.values\n",
    "# transition_matrix_np_3 = transition_matrix_df_3.values\n",
    "# transition_matrix_np_10 = transition_matrix_df_10.values"
   ]
  },
  {
   "cell_type": "code",
   "execution_count": null,
   "metadata": {},
   "outputs": [],
   "source": [
    "def reconstruction_test(transition_matrix_df,simulator,mutual_model_params_dict) :\n",
    "    states = transition_matrix_df.columns.to_list()\n",
    "    start_probs_dict = {k:v for k,v in transition_matrix_df.loc[\"start\"].to_dict().items() if k not in ['start','end']}\n",
    "    transition_matrix = transition_matrix_df.T.to_dict()\n",
    "    transition_matrix_sparse = {k:{kk:vv for kk,vv in v.items() if vv != 0} for k,v in transition_matrix.items()}\n",
    "    state_to_distrbution_param_mapping = {state:(eval(state) if state not in ['start','end'] else state) for state in states}\n",
    "    \n",
    "    model, all_model_pome_states = simulator._build_pome_model_from_params(state_to_distrbution_param_mapping,\n",
    "                                                                  transition_matrix_sparse)\n",
    "    \n",
    "    (all_relvent_observations, _, _,_,known_w) = \\\n",
    "                simulator.simulate_observations(model,mutual_model_params_dict,'',from_pre_sampled_traj = False)\n",
    "    \n",
    "    sampler = GibbsSampler(mutual_model_params_dict['N'], mutual_model_params_dict['d'],'all')\n",
    "    _, _, _, _, _, all_transitions_known_W = \\\n",
    "        sampler.sample_known_W(all_relvent_observations, start_probs_dict,\n",
    "                       simulator.states_known_mues,simulator.states_known_sigmas,mutual_model_params_dict['N_itres'],known_w, w_smapler_n_iter=100,\n",
    "                       is_mh=True,sample_missing_with_prior = False)\n",
    "    \n",
    "    _, _, _,_,_, all_transitions = \\\n",
    "        sampler.sample(all_relvent_observations, start_probs_dict,\n",
    "                       simulator.states_known_mues,simulator.states_known_sigmas,mutual_model_params_dict['N_itres'], w_smapler_n_iter=100,\n",
    "                       is_mh=True,N=2)\n",
    "\n",
    "    \n",
    "    transitions_results_list = [all_transitions_known_W,all_transitions]\n",
    "    experiments_name_list = [\"Known Gaps\",\"Unknown Gaps\"]\n",
    "    \n",
    "    plot_results(transitions_results_list,experiments_name_list,transition_matrix_sparse,\"\")\n"
   ]
  },
  {
   "cell_type": "code",
   "execution_count": null,
   "metadata": {},
   "outputs": [],
   "source": [
    "# reconstruction_test(transition_matrix_df_1,simulator,mutual_model_params_dict)"
   ]
  },
  {
   "cell_type": "code",
   "execution_count": null,
   "metadata": {},
   "outputs": [],
   "source": [
    "transition_matrix_df_1\n"
   ]
  },
  {
   "cell_type": "code",
   "execution_count": null,
   "metadata": {},
   "outputs": [],
   "source": [
    "transition_matrix_df_3\n"
   ]
  },
  {
   "cell_type": "code",
   "execution_count": null,
   "metadata": {},
   "outputs": [],
   "source": [
    "transition_matrix_df_10"
   ]
  }
 ],
 "metadata": {
  "hide_input": false,
  "kernelspec": {
   "display_name": "Python 3 (ipykernel)",
   "language": "python",
   "name": "python3"
  },
  "language_info": {
   "codemirror_mode": {
    "name": "ipython",
    "version": 3
   },
   "file_extension": ".py",
   "mimetype": "text/x-python",
   "name": "python",
   "nbconvert_exporter": "python",
   "pygments_lexer": "ipython3",
   "version": "3.9.6"
  },
  "toc": {
   "base_numbering": 1,
   "nav_menu": {},
   "number_sections": true,
   "sideBar": true,
   "skip_h1_title": false,
   "title_cell": "Table of Contents",
   "title_sidebar": "Contents",
   "toc_cell": false,
   "toc_position": {},
   "toc_section_display": true,
   "toc_window_display": false
  }
 },
 "nbformat": 4,
 "nbformat_minor": 2
}
