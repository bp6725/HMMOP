{
 "cells": [
  {
   "cell_type": "code",
   "execution_count": 65,
   "metadata": {},
   "outputs": [],
   "source": [
    "import sys\n",
    "import numpy as np\n",
    "import itertools\n",
    "import matplotlib.pyplot as plt"
   ]
  },
  {
   "cell_type": "code",
   "execution_count": 2,
   "metadata": {},
   "outputs": [],
   "source": [
    "sys.path.append('C:\\Repos\\WhoCell\\who_cell')\n",
    "sys.path.append('C:\\Repos\\WhoCell')\n",
    "sys.path.append('C:\\Repos\\WhoCell\\who_cell\\experiments')\n",
    "sys.path.append('C:/Repos/WhoCell/who_cell/models')\n",
    "sys.path.append('C:\\Repos\\pomegranate')\n",
    "\n",
    "from pomegranate import *\n"
   ]
  },
  {
   "cell_type": "markdown",
   "metadata": {},
   "source": [
    "# build test network"
   ]
  },
  {
   "cell_type": "code",
   "execution_count": 6,
   "metadata": {},
   "outputs": [],
   "source": [
    "from who_cell.simulation.simulation_for_gibbs import Simulator_for_Gibbs"
   ]
  },
  {
   "cell_type": "code",
   "execution_count": 59,
   "metadata": {},
   "outputs": [],
   "source": [
    "n_states = 10\n",
    "mutual_model_params_dict = {}\n",
    "mutual_model_params_dict['N'] = 10\n",
    "mutual_model_params_dict['d'] = 5\n",
    "mutual_model_params_dict['n_states'] = n_states\n",
    "max_number_of_sampled_traj = 500\n",
    "is_acyclic = True\n",
    "\n",
    "\n",
    "combined_params = {}\n",
    "combined_params['p_prob_of_observation'] = 1\n",
    "combined_params['number_of_smapled_traj'] = 500\n",
    "combined_params['N'] = mutual_model_params_dict['N']\n",
    "  "
   ]
  },
  {
   "cell_type": "code",
   "execution_count": 60,
   "metadata": {},
   "outputs": [],
   "source": [
    "\n",
    "simulator = Simulator_for_Gibbs(mutual_model_params_dict['N'], mutual_model_params_dict['d'],\n",
    "                                        mutual_model_params_dict['n_states'], easy_mode=True,\n",
    "                                        max_number_of_sampled_traj =max_number_of_sampled_traj ) # we need max_number_of_sampled_traj to know how much traj to pre sample so the traj will be mutual\n",
    "\n",
    "pome_results = simulator.build_pome_model(mutual_model_params_dict['N'], mutual_model_params_dict['d'],\n",
    "                               simulator.mues, simulator.sigmas,is_acyclic)\n",
    "\n",
    "(all_relvent_sampled_trajs_states),_ = simulator.simulate_observations(pome_results[\"model\"],combined_params,pome_results['params_signature'],from_pre_sampled_traj = True)\n"
   ]
  },
  {
   "cell_type": "code",
   "execution_count": 61,
   "metadata": {},
   "outputs": [],
   "source": [
    "all_relvent_traj = all_relvent_sampled_trajs_states[0]\n",
    "all_obs_flat = list(itertools.chain(*all_relvent_traj))"
   ]
  },
  {
   "cell_type": "markdown",
   "metadata": {},
   "source": [
    "# gmm"
   ]
  },
  {
   "cell_type": "code",
   "execution_count": 69,
   "metadata": {},
   "outputs": [],
   "source": [
    "all_obs_flat_arr = np.array(all_obs_flat).reshape(len(all_obs_flat),1)\n",
    "gmm_model = gmm.GeneralMixtureModel.from_samples(distributions  = NormalDistribution,\n",
    "                                                 n_components  = n_states,\n",
    "                                                 X = all_obs_flat_arr,n_init = 5)"
   ]
  },
  {
   "cell_type": "code",
   "execution_count": 76,
   "metadata": {},
   "outputs": [],
   "source": [
    "predictions = gmm_model.predict(all_obs_flat_arr)"
   ]
  },
  {
   "cell_type": "code",
   "execution_count": 84,
   "metadata": {},
   "outputs": [],
   "source": [
    "state_to_params = {}\n",
    "for k in range(n_states) : \n",
    "    y_k = all_obs_flat_arr[predictions == k ]\n",
    "    _max_k = y_k.max()\n",
    "    _min_k = y_k.min()\n",
    "    \n",
    "    chi = (_max_k+_min_k)/2\n",
    "    kapa = 1/(_max_k - _min_k)**2\n",
    "    \n",
    "    state_to_params[k] = (chi,kapa)\n",
    "    "
   ]
  },
  {
   "cell_type": "code",
   "execution_count": 85,
   "metadata": {},
   "outputs": [
    {
     "data": {
      "text/plain": [
       "{0: (3.031549327129866, 3.2730813530192973),\n",
       " 1: (10.006445152867455, 4.724168329233665),\n",
       " 2: (8.046615494392936, 7.5919936308574005),\n",
       " 3: (0.9631421435936807, 3.1041005063305964),\n",
       " 4: (5.5169965909952285, 0.17384853515357163),\n",
       " 5: (9.022864859456458, 4.647499946481179),\n",
       " 6: (7.02829525895432, 5.268683432819331),\n",
       " 7: (2.0366613160868257, 4.058822284921063),\n",
       " 8: (3.984111261691891, 6.472614180120248),\n",
       " 9: (5.008020491848237, 4.335755899361196)}"
      ]
     },
     "execution_count": 85,
     "metadata": {},
     "output_type": "execute_result"
    }
   ],
   "source": [
    "state_to_params"
   ]
  },
  {
   "cell_type": "code",
   "execution_count": null,
   "metadata": {},
   "outputs": [],
   "source": []
  }
 ],
 "metadata": {
  "hide_input": false,
  "kernelspec": {
   "display_name": "Python 3",
   "language": "python",
   "name": "python3"
  },
  "language_info": {
   "codemirror_mode": {
    "name": "ipython",
    "version": 3
   },
   "file_extension": ".py",
   "mimetype": "text/x-python",
   "name": "python",
   "nbconvert_exporter": "python",
   "pygments_lexer": "ipython3",
   "version": "3.6.5"
  },
  "toc": {
   "base_numbering": 1,
   "nav_menu": {},
   "number_sections": true,
   "sideBar": true,
   "skip_h1_title": false,
   "title_cell": "Table of Contents",
   "title_sidebar": "Contents",
   "toc_cell": false,
   "toc_position": {},
   "toc_section_display": true,
   "toc_window_display": false
  }
 },
 "nbformat": 4,
 "nbformat_minor": 2
}
