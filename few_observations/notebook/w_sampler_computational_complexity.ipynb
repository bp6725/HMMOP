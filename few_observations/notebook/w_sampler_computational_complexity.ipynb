{
 "cells": [
  {
   "cell_type": "code",
   "execution_count": 1,
   "metadata": {},
   "outputs": [],
   "source": [
    "import numpy as np\n",
    "import math \n",
    "import matplotlib.pyplot as plt\n",
    "from functools import partial \n",
    "import itertools\n",
    "import random\n",
    "import copy\n",
    "import pandas as pd\n",
    "\n",
    "from numba import jit\n",
    "import numba\n",
    "\n",
    "from tqdm import tqdm\n",
    "import snakeviz\n",
    "%load_ext snakeviz\n"
   ]
  },
  {
   "cell_type": "markdown",
   "metadata": {},
   "source": [
    "# sample posterior of single observation "
   ]
  },
  {
   "cell_type": "code",
   "execution_count": 2,
   "metadata": {},
   "outputs": [
    {
     "name": "stdout",
     "output_type": "stream",
     "text": [
      "entire space size: 252.0\n"
     ]
    }
   ],
   "source": [
    "N = 10 # chain length\n",
    "k = 5 # n# of observations\n",
    "print(f\"entire space size: {math.factorial(N)/(math.factorial(N-k)*math.factorial(k))}\")\n"
   ]
  },
  {
   "cell_type": "code",
   "execution_count": 3,
   "metadata": {},
   "outputs": [],
   "source": [
    "# single observation posterior : P(W|Yi,X)\n",
    "## first we pick N arbitrary P(Xi=Yi) for i in N\n",
    "y_from_x_probs = np.random.rand(N)\n",
    "not_y_from_x_probs = 1- y_from_x_probs"
   ]
  },
  {
   "cell_type": "code",
   "execution_count": 4,
   "metadata": {
    "code_folding": [
     0,
     1,
     9,
     17,
     25
    ]
   },
   "outputs": [],
   "source": [
    "def __rec_prob_from_w(y_from_x_probs,not_y_from_x_probs,wide_w):\n",
    "    if len(y_from_x_probs) == 0 : \n",
    "        return 1\n",
    "    \n",
    "    curr_dim_prob = y_from_x_probs[0] if wide_w[0] == 1 else not_y_from_x_probs[0]\n",
    "    prob = __rec_prob_from_w(y_from_x_probs[1:],not_y_from_x_probs[1:],wide_w[1:])*curr_dim_prob\n",
    "    \n",
    "    return prob\n",
    "\n",
    "def _rec_msf_creator(y_from_x_probs,not_y_from_x_probs,w) :\n",
    "    wide_w = np.zeros(len(y_from_x_probs))\n",
    "    wide_w[w]=1\n",
    "\n",
    "    prob = __rec_prob_from_w(y_from_x_probs,not_y_from_x_probs,wide_w)\n",
    "    return prob\n",
    "\n",
    "@jit\n",
    "def _msf_creator(y_from_x_probs,not_y_from_x_probs,w) : \n",
    "    prob = 1\n",
    "    i = 0 \n",
    "    i_w = 0\n",
    "    while (i < len(y_from_x_probs)) : \n",
    "        if i_w > len(y_from_x_probs) :\n",
    "            raise Exception() \n",
    "        \n",
    "        if i_w >= len(w) : \n",
    "            prob = prob*not_y_from_x_probs[i]\n",
    "        else : \n",
    "            if i < w[i_w] : \n",
    "                prob = prob*not_y_from_x_probs[i]\n",
    "            if i == w[i_w] : \n",
    "                prob = prob*y_from_x_probs[i]\n",
    "                i_w += 1\n",
    "        i+= 1\n",
    "    return prob\n",
    "\n",
    "def msf_creator(y_from_x_probs,not_y_from_x_probs,is_rec = False) : \n",
    "    if not is_rec : \n",
    "        return partial(_msf_creator,y_from_x_probs,not_y_from_x_probs)\n",
    "    else : \n",
    "        return partial(_rec_msf_creator,y_from_x_probs,not_y_from_x_probs)\n",
    "\n",
    "msf = msf_creator(y_from_x_probs,not_y_from_x_probs,True)"
   ]
  },
  {
   "cell_type": "markdown",
   "metadata": {},
   "source": [
    "# build sampler"
   ]
  },
  {
   "cell_type": "code",
   "execution_count": 5,
   "metadata": {
    "code_folding": [
     0,
     17
    ]
   },
   "outputs": [],
   "source": [
    "def sample_cond_prob_single_dim(dims_vector,ind_dim_for_sample,msf) : \n",
    "    _pre_value = dims_vector[(ind_dim_for_sample - 1)] if ind_dim_for_sample !=0 else -1\n",
    "    _post_value = dims_vector[(ind_dim_for_sample + 1)] if (ind_dim_for_sample != (k-1)) else N\n",
    "\n",
    "    possible_options_for_dim = range(_pre_value+1,_post_value)\n",
    "    \n",
    "    _dims_vector = copy.copy(dims_vector)\n",
    "    probs_of_opts = []\n",
    "    for poss_opt in possible_options_for_dim : \n",
    "        _dims_vector[ind_dim_for_sample] = poss_opt\n",
    "        prob_of_opt = msf(np.array(_dims_vector))\n",
    "        probs_of_opts.append(prob_of_opt)\n",
    "    \n",
    "    probs_of_opts = np.array(probs_of_opts)/sum(probs_of_opts)\n",
    "    \n",
    "    return np.random.choice(possible_options_for_dim,p=probs_of_opts)\n",
    "\n",
    "def sample_msf_using_sim(msf,n_iter) : \n",
    "    initial_vector = sorted(random.sample(range(N),k))\n",
    "\n",
    "    res_samples_per_dim = np.zeros((N,k))\n",
    "    _curr_dim_vector = copy.copy(initial_vector)\n",
    "    for _ in range(n_iter):\n",
    "        for dim in range(k) : \n",
    "            _sample = sample_cond_prob_single_dim(_curr_dim_vector,dim,msf)\n",
    "            _curr_dim_vector[dim] = _sample\n",
    "            res_samples_per_dim[_sample,dim] += 1\n",
    "\n",
    "    res_samples_per_dim = res_samples_per_dim/n_iter\n",
    "    return res_samples_per_dim\n",
    "    "
   ]
  },
  {
   "cell_type": "code",
   "execution_count": 6,
   "metadata": {},
   "outputs": [
    {
     "name": "stdout",
     "output_type": "stream",
     "text": [
      "entire space size: 4.322191249463774e+196\n",
      " \n",
      "*** Profile stats marshalled to file 'c:\\\\Temp\\\\tmpf6y2eqsp'. \n",
      "Embedding SnakeViz in this document...\n"
     ]
    },
    {
     "data": {
      "text/html": [
       "\n",
       "<iframe id='snakeviz-c7c9daa8-559d-11eb-8a80-0c5415630195' frameborder=0 seamless width='100%' height='1000'></iframe>\n",
       "<script>document.getElementById(\"snakeviz-c7c9daa8-559d-11eb-8a80-0c5415630195\").setAttribute(\"src\", \"http://\" + document.location.hostname + \":8080/snakeviz/c%3A%5CTemp%5Ctmpf6y2eqsp\")</script>\n"
      ],
      "text/plain": [
       "<IPython.core.display.HTML object>"
      ]
     },
     "metadata": {},
     "output_type": "display_data"
    }
   ],
   "source": [
    "%%snakeviz\n",
    "\n",
    "N = 700 # chain length\n",
    "k = 250 # n# of observations\n",
    "y_from_x_probs = np.random.rand(N)\n",
    "not_y_from_x_probs = 1- y_from_x_probs\n",
    "print(f\"entire space size: {math.factorial(N)/(math.factorial(N-k)*math.factorial(k))}\")\n",
    "\n",
    "msf = msf_creator(y_from_x_probs,not_y_from_x_probs,False)\n",
    "sampled_from_simu = sample_msf_using_sim(msf,10)"
   ]
  },
  {
   "cell_type": "code",
   "execution_count": null,
   "metadata": {},
   "outputs": [],
   "source": []
  }
 ],
 "metadata": {
  "hide_input": false,
  "kernelspec": {
   "display_name": "Python 3",
   "language": "python",
   "name": "python3"
  },
  "language_info": {
   "codemirror_mode": {
    "name": "ipython",
    "version": 3
   },
   "file_extension": ".py",
   "mimetype": "text/x-python",
   "name": "python",
   "nbconvert_exporter": "python",
   "pygments_lexer": "ipython3",
   "version": "3.6.5"
  },
  "toc": {
   "base_numbering": 1,
   "nav_menu": {},
   "number_sections": true,
   "sideBar": true,
   "skip_h1_title": false,
   "title_cell": "Table of Contents",
   "title_sidebar": "Contents",
   "toc_cell": false,
   "toc_position": {},
   "toc_section_display": true,
   "toc_window_display": false
  }
 },
 "nbformat": 4,
 "nbformat_minor": 2
}
