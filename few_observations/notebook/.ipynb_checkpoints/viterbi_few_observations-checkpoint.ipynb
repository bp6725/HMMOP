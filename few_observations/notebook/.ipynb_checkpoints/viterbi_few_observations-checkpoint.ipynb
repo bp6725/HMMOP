{
 "cells": [
  {
   "cell_type": "code",
   "execution_count": 1,
   "metadata": {},
   "outputs": [],
   "source": [
    "import sys\n",
    "import numpy as np\n",
    "import pandas as pd"
   ]
  },
  {
   "cell_type": "code",
   "execution_count": null,
   "metadata": {},
   "outputs": [],
   "source": []
  },
  {
   "cell_type": "code",
   "execution_count": null,
   "metadata": {},
   "outputs": [],
   "source": [
    "#new viterbi alghoritem  : \n",
    "\n",
    "\n",
    "V = [{}]\n",
    "k=0\n",
    "for st in states:\n",
    "    if is_observed(st) : \n",
    "        V[0][st] = {\"prob\": start_p[st] * emit_p[st][obs[k]] * P_C, \"prev\": None,'k'=1}\n",
    "    else : \n",
    "        V[0][st] = {\"prob\": start_p[st]*(1-P_C), \"prev\": None,'k'=0}\n",
    "\n",
    "# Run Viterbi when t > 0\n",
    "for t in range(1,N):\n",
    "    V.append({})\n",
    "    for st in states:\n",
    "        pr_v = V[t - 1][states[0]]\n",
    "        if is_observed(st) : \n",
    "            max_tr_prob = pr_v[\"prob\"] * trans_p[states[0]][st]* emit_p[st][obs[pr_v['k']]]* P_C\n",
    "        else : \n",
    "            max_tr_prob = pr_v[\"prob\"] * trans_p[states[0]][st]* (1-P_C)\n",
    "        \n",
    "        prev_st_selected = states[0]\n",
    "        for prev_st in states[1:]:\n",
    "            pr_v = V[t - 1][prev_st]\n",
    "            if is_observed(st) : \n",
    "                tr_prob = pr_v[\"prob\"] * trans_p[states[0]][st]* emit_p[st][obs[pr_v['k']]]* P_C\n",
    "            else : \n",
    "                tr_prob = pr_v[\"prob\"] * trans_p[states[0]][st]* (1-P_C)\n",
    "            \n",
    "            if tr_prob > max_tr_prob:\n",
    "                max_tr_prob = tr_prob\n",
    "                prev_st_selected = prev_st\n",
    "\n",
    "        new_k = V[t - 1][prev_st_selected]['k'] + (1 if is_observed(st) else 0 )\n",
    "        \n",
    "        if new_k > len(obs) :\n",
    "            V[t][st] = {\"prob\": 0, \"prev\": prev_st_selected}\n",
    "        else : \n",
    "            V[t][st] = {\"prob\": max_prob, \"prev\": prev_st_selected,'k' = new_k}\n",
    "\n",
    "for line in dptable(V):\n",
    "    print(line)\n",
    "\n",
    "opt = []\n",
    "max_prob = 0.0\n",
    "best_st = None\n",
    "# Get most probable state and its backtrack\n",
    "for st, data in V[-1].items():\n",
    "    if data[\"prob\"] > max_prob:\n",
    "        max_prob = data[\"prob\"]\n",
    "        best_st = st\n",
    "opt.append(best_st)\n",
    "previous = best_st\n",
    "\n",
    "# Follow the backtrack till the first observation\n",
    "for t in range(len(V) - 2, -1, -1):\n",
    "    opt.insert(0, V[t + 1][previous][\"prev\"])\n",
    "    previous = V[t + 1][previous][\"prev\"]\n",
    "\n",
    "print (\"The steps of states are \" + \" \".join(opt) + \" with highest probability of %s\" % max_prob)\n",
    "\n"
   ]
  }
 ],
 "metadata": {
  "hide_input": false,
  "kernelspec": {
   "display_name": "Python 3",
   "language": "python",
   "name": "python3"
  },
  "language_info": {
   "codemirror_mode": {
    "name": "ipython",
    "version": 3
   },
   "file_extension": ".py",
   "mimetype": "text/x-python",
   "name": "python",
   "nbconvert_exporter": "python",
   "pygments_lexer": "ipython3",
   "version": "3.6.5"
  },
  "toc": {
   "base_numbering": 1,
   "nav_menu": {},
   "number_sections": true,
   "sideBar": true,
   "skip_h1_title": false,
   "title_cell": "Table of Contents",
   "title_sidebar": "Contents",
   "toc_cell": false,
   "toc_position": {},
   "toc_section_display": true,
   "toc_window_display": false
  }
 },
 "nbformat": 4,
 "nbformat_minor": 2
}
