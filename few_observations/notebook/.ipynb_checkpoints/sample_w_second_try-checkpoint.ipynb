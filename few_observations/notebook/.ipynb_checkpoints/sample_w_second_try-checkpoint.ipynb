{
 "cells": [
  {
   "cell_type": "code",
   "execution_count": 1,
   "metadata": {},
   "outputs": [],
   "source": [
    "import numpy as np\n",
    "import math \n",
    "import matplotlib.pyplot as plt\n",
    "from functools import partial \n",
    "import itertools\n",
    "import random\n",
    "import copy\n",
    "import pandas as pd\n",
    "from numba import jit\n",
    "\n",
    "\n",
    "from tqdm import tqdm\n",
    "import snakeviz\n",
    "%load_ext snakeviz\n"
   ]
  },
  {
   "cell_type": "markdown",
   "metadata": {},
   "source": [
    "# sample posterior of single observation "
   ]
  },
  {
   "cell_type": "code",
   "execution_count": 2,
   "metadata": {
    "code_folding": [
     0,
     9,
     36
    ]
   },
   "outputs": [],
   "source": [
    "def __rec_prob_from_w(y_from_x_probs,not_y_from_x_probs,wide_w):\n",
    "    if len(y_from_x_probs) == 0 : \n",
    "        return 1\n",
    "    \n",
    "    curr_dim_prob = y_from_x_probs[0] if wide_w[0] == 1 else not_y_from_x_probs[0]\n",
    "    prob = __rec_prob_from_w(y_from_x_probs[1:],not_y_from_x_probs[1:],wide_w[1:])*curr_dim_prob\n",
    "    \n",
    "    return prob\n",
    "@jit\n",
    "def _rec_msf_creator(y_from_x_probs,not_y_from_x_probs,w) :\n",
    "    wide_w = np.zeros(len(y_from_x_probs))\n",
    "    wide_w[w]=1\n",
    "\n",
    "    prob = __rec_prob_from_w(y_from_x_probs,not_y_from_x_probs,wide_w)\n",
    "    return prob\n",
    "\n",
    "@jit\n",
    "def _msf_creator(y_from_x_probs,not_y_from_x_probs,w) : \n",
    "    prob = 1\n",
    "    i = 0 \n",
    "    i_w = 0\n",
    "    while (i < y_from_x_probs.shape[1]) : \n",
    "        if i_w > y_from_x_probs.shape[1] :\n",
    "            raise Exception() \n",
    "        \n",
    "        if i_w >= len(w) : \n",
    "            prob = prob*not_y_from_x_probs[i]\n",
    "        else : \n",
    "            if i < w[i_w] : \n",
    "                prob = prob*not_y_from_x_probs[i]\n",
    "            if i == w[i_w] : \n",
    "                prob = prob*y_from_x_probs[i]\n",
    "                i_w += 1\n",
    "        i+= 1\n",
    "    return prob\n",
    "\n",
    "def msf_creator(y_from_x_probs,not_y_from_x_probs,is_rec = False) : \n",
    "    if not is_rec : \n",
    "        return partial(_msf_creator,y_from_x_probs,not_y_from_x_probs)\n",
    "    else : \n",
    "        return partial(_rec_msf_creator,y_from_x_probs,not_y_from_x_probs)"
   ]
  },
  {
   "cell_type": "markdown",
   "metadata": {
    "heading_collapsed": true
   },
   "source": [
    "# build sampler"
   ]
  },
  {
   "cell_type": "code",
   "execution_count": 3,
   "metadata": {
    "code_folding": [],
    "hidden": true
   },
   "outputs": [],
   "source": [
    "def sample_cond_prob_single_dim(dims_vector,ind_dim_for_sample,msf,recursion_msf) : \n",
    "    _pre_value = dims_vector[(ind_dim_for_sample - 1)] if ind_dim_for_sample !=0 else -1\n",
    "    _post_value = dims_vector[(ind_dim_for_sample + 1)] if (ind_dim_for_sample != (k-1)) else N\n",
    "\n",
    "    possible_options_for_dim = range(_pre_value+1,_post_value)\n",
    "    \n",
    "    _dims_vector = copy.copy(dims_vector)\n",
    "    probs_of_opts = []\n",
    "    for poss_opt in possible_options_for_dim : \n",
    "        _dims_vector[ind_dim_for_sample] = poss_opt\n",
    "        if recursion_msf : \n",
    "            prob_of_opt = msf(np.array(_dims_vector))\n",
    "        else : \n",
    "            prob_of_opt = msf(np.array(_dims_vector))\n",
    "        probs_of_opts.append(prob_of_opt)\n",
    "    \n",
    "    probs_of_opts = np.array(probs_of_opts)/sum(probs_of_opts)\n",
    "    \n",
    "    return np.random.choice(possible_options_for_dim,p=probs_of_opts)\n",
    "\n",
    "def sample_msf_using_sim(msf,n_iter,recursion_msf = False) : \n",
    "    initial_vector = sorted(random.sample(range(N),k))\n",
    "\n",
    "    res_samples_per_dim = np.zeros((N,k))\n",
    "    _curr_dim_vector = copy.copy(initial_vector)\n",
    "    with tqdm(total=n_iter) as pbar:\n",
    "        for _ in range(n_iter):\n",
    "            for dim in range(k) : \n",
    "                _sample = sample_cond_prob_single_dim(_curr_dim_vector,dim,msf,recursion_msf)\n",
    "                _curr_dim_vector[dim] = _sample\n",
    "                res_samples_per_dim[_sample,dim] += 1\n",
    "            pbar.update(1)\n",
    "\n",
    "    res_samples_per_dim = res_samples_per_dim/n_iter\n",
    "    return res_samples_per_dim\n",
    "    "
   ]
  },
  {
   "cell_type": "code",
   "execution_count": 4,
   "metadata": {
    "hidden": true
   },
   "outputs": [],
   "source": [
    "# sampled_from_simu = sample_msf_using_sim(msf,1000)"
   ]
  },
  {
   "cell_type": "markdown",
   "metadata": {},
   "source": [
    "# entire space"
   ]
  },
  {
   "cell_type": "code",
   "execution_count": 21,
   "metadata": {},
   "outputs": [
    {
     "name": "stdout",
     "output_type": "stream",
     "text": [
      "entire space size: 45.0\n"
     ]
    }
   ],
   "source": [
    "N = 10 # chain length\n",
    "k = 8 # n# of observations\n",
    "\n",
    "# single observation posterior : P(W|Yi,X)\n",
    "## first we pick N arbitrary P(Xi=Yi) for i in N\n",
    "y_from_x_probs = np.random.rand(k,N)\n",
    "not_y_from_x_probs = 1- y_from_x_probs\n",
    "\n",
    "\n",
    "msf = msf_creator(y_from_x_probs,not_y_from_x_probs)\n",
    "print(f\"entire space size: {math.factorial(N)/(math.factorial(N-k)*math.factorial(k))}\")\n"
   ]
  },
  {
   "cell_type": "code",
   "execution_count": 23,
   "metadata": {},
   "outputs": [
    {
     "data": {
      "text/plain": [
       "array([[0.48950001, 0.18485583, 0.63996976, 0.6297186 , 0.2064114 ,\n",
       "        0.63780147, 0.95648086, 0.9435969 , 0.03948595, 0.74030291],\n",
       "       [0.10186411, 0.59290489, 0.90034696, 0.66034027, 0.99524147,\n",
       "        0.26151758, 0.42037081, 0.95554126, 0.17011817, 0.03621853],\n",
       "       [0.31125562, 0.07140557, 0.97775496, 0.62074587, 0.2332219 ,\n",
       "        0.23552108, 0.0501657 , 0.46225153, 0.58846291, 0.79913056],\n",
       "       [0.41921082, 0.6053113 , 0.01131229, 0.66189432, 0.98307227,\n",
       "        0.17804742, 0.69327555, 0.80017752, 0.38713729, 0.45258424],\n",
       "       [0.79541142, 0.6392624 , 0.70517313, 0.47372729, 0.27508767,\n",
       "        0.13133669, 0.36818627, 0.01058498, 0.39223139, 0.13323554],\n",
       "       [0.80629449, 0.1522641 , 0.00654661, 0.40406196, 0.78993421,\n",
       "        0.82953612, 0.93153582, 0.41463509, 0.01070131, 0.87486186],\n",
       "       [0.20241943, 0.94121265, 0.35843172, 0.92809119, 0.69703964,\n",
       "        0.23860748, 0.24114357, 0.68817051, 0.35785286, 0.08233935],\n",
       "       [0.49234185, 0.38262879, 0.43627572, 0.60573708, 0.1889497 ,\n",
       "        0.25224455, 0.62891502, 0.0845574 , 0.81990075, 0.07084878]])"
      ]
     },
     "execution_count": 23,
     "metadata": {},
     "output_type": "execute_result"
    }
   ],
   "source": [
    "y_from_x_probs"
   ]
  },
  {
   "cell_type": "code",
   "execution_count": null,
   "metadata": {},
   "outputs": [],
   "source": [
    "def _msf_creator(y_from_x_probs,w) : \n",
    "    prob = 1\n",
    "    i = 0 \n",
    "    i_w = 0\n",
    "    while (i < y_from_x_probs.shape[1]) : \n",
    "        if i_w > y_from_x_probs.shape[1] :\n",
    "            raise Exception() \n",
    "        \n",
    "        _prob_section_sum = 0 \n",
    "        while(i < w[i_w]):\n",
    "            _prob_section_sum +=  y_from_x_probs[i_w][i]\n",
    "            i += 1\n",
    "        prob = prob* (y_from_x_probs[i_w][i]/(_prob_section_sum + y_from_x_probs[i_w][i]))\n",
    "            \n",
    "            \n",
    "            \n",
    "            \n",
    "    return prob\n",
    "\n",
    "_msf_creator(y_from_x_probs,not_y_from_x_probs,[2,3,6])"
   ]
  },
  {
   "cell_type": "code",
   "execution_count": 53,
   "metadata": {
    "code_folding": [
     2
    ]
   },
   "outputs": [
    {
     "name": "stdout",
     "output_type": "stream",
     "text": [
      "[-1, 0, 2, 3, 8, 9, 10]\n",
      "i_w = 0\n",
      "window = (0, 2)\n",
      "window = (0, 2)\n",
      "0.7258779108540485\n",
      "i_w = 1\n",
      "window = (1, 3)\n",
      "window = (1, 3)\n",
      "0.602943812807705\n",
      "i_w = 2\n",
      "window = (3, 8)\n",
      "window = (3, 8)\n",
      "window = (3, 8)\n",
      "window = (3, 8)\n",
      "window = (3, 8)\n",
      "0.38750453487063274\n",
      "i_w = 3\n",
      "window = (4, 9)\n",
      "window = (4, 9)\n",
      "window = (4, 9)\n",
      "window = (4, 9)\n",
      "window = (4, 9)\n",
      "0.12727619647187213\n",
      "i_w = 4\n",
      "window = (9, 10)\n",
      "1.0\n"
     ]
    },
    {
     "data": {
      "text/plain": [
       "0.021585613732172073"
      ]
     },
     "execution_count": 53,
     "metadata": {},
     "output_type": "execute_result"
    }
   ],
   "source": [
    "w = [0,2,3,8,9]\n",
    "\n",
    "def _msf_creator(y_from_x_probs,w) : \n",
    "    _w = [-1] + w + [y_from_x_probs.shape[1]]\n",
    "    prob = 1\n",
    "    print(_w)\n",
    "\n",
    "    i_w =0 \n",
    "    while (i_w<len(w)) :\n",
    "        print(f\"i_w = {i_w}\")\n",
    "        _prob_sum = 0 \n",
    "        for i in range(_w[i_w]+1,_w[i_w+2]) : \n",
    "            _prob_sum += y_from_x_probs[i_w][i]\n",
    "            print(f\"window = {(_w[i_w]+1,_w[i_w+2])}\")\n",
    "        prob = prob * (y_from_x_probs[i_w][w[i_w]]/_prob_sum)  \n",
    "        print(y_from_x_probs[i_w][w[i_w]]/_prob_sum)\n",
    "        i_w += 1\n",
    "\n",
    "    return prob\n",
    "\n",
    "_msf_creator(y_from_x_probs,w)"
   ]
  },
  {
   "cell_type": "code",
   "execution_count": null,
   "metadata": {},
   "outputs": [],
   "source": [
    "a = {\"a\":}"
   ]
  },
  {
   "cell_type": "code",
   "execution_count": 24,
   "metadata": {
    "code_folding": []
   },
   "outputs": [
    {
     "name": "stderr",
     "output_type": "stream",
     "text": [
      "  0%|                                                                                         | 0/45.0 [00:00<?, ?it/s]<ipython-input-2-c800681af2e7>:17: NumbaWarning: \u001b[1m\n",
      "Compilation is falling back to object mode WITH looplifting enabled because Function \"_msf_creator\" failed type inference due to: \u001b[1m\u001b[1mCannot unify Literal[int](1) and array(float64, 1d, C) for 'prob.6', defined at <ipython-input-2-c800681af2e7> (27)\n",
      "\u001b[1m\n",
      "File \"<ipython-input-2-c800681af2e7>\", line 27:\u001b[0m\n",
      "\u001b[1mdef _msf_creator(y_from_x_probs,not_y_from_x_probs,w) : \n",
      "    <source elided>\n",
      "        if i_w >= len(w) : \n",
      "\u001b[1m            prob = prob*not_y_from_x_probs[i]\n",
      "\u001b[0m            \u001b[1m^\u001b[0m\u001b[0m\n",
      "\u001b[0m\n",
      "\u001b[0m\u001b[1mDuring: typing of assignment at <ipython-input-2-c800681af2e7> (27)\u001b[0m\n",
      "\u001b[1m\n",
      "File \"<ipython-input-2-c800681af2e7>\", line 27:\u001b[0m\n",
      "\u001b[1mdef _msf_creator(y_from_x_probs,not_y_from_x_probs,w) : \n",
      "    <source elided>\n",
      "        if i_w >= len(w) : \n",
      "\u001b[1m            prob = prob*not_y_from_x_probs[i]\n",
      "\u001b[0m            \u001b[1m^\u001b[0m\u001b[0m\n",
      "\u001b[0m\n",
      "  @jit\n",
      "C:\\ProgramData\\Anaconda3\\lib\\site-packages\\numba\\core\\object_mode_passes.py:178: NumbaWarning: \u001b[1mFunction \"_msf_creator\" was compiled in object mode without forceobj=True.\n",
      "\u001b[1m\n",
      "File \"<ipython-input-2-c800681af2e7>\", line 18:\u001b[0m\n",
      "\u001b[1m@jit\n",
      "\u001b[1mdef _msf_creator(y_from_x_probs,not_y_from_x_probs,w) : \n",
      "\u001b[0m\u001b[1m^\u001b[0m\u001b[0m\n",
      "\u001b[0m\n",
      "  state.func_ir.loc))\n",
      "C:\\ProgramData\\Anaconda3\\lib\\site-packages\\numba\\core\\object_mode_passes.py:188: NumbaDeprecationWarning: \u001b[1m\n",
      "Fall-back from the nopython compilation path to the object mode compilation path has been detected, this is deprecated behaviour.\n",
      "\n",
      "For more information visit https://numba.pydata.org/numba-doc/latest/reference/deprecation.html#deprecation-of-object-mode-fall-back-behaviour-when-using-jit\n",
      "\u001b[1m\n",
      "File \"<ipython-input-2-c800681af2e7>\", line 18:\u001b[0m\n",
      "\u001b[1m@jit\n",
      "\u001b[1mdef _msf_creator(y_from_x_probs,not_y_from_x_probs,w) : \n",
      "\u001b[0m\u001b[1m^\u001b[0m\u001b[0m\n",
      "\u001b[0m\n",
      "  state.func_ir.loc))\n",
      "  0%|                                                                                         | 0/45.0 [00:00<?, ?it/s]\n"
     ]
    },
    {
     "ename": "ValueError",
     "evalue": "setting an array element with a sequence.",
     "output_type": "error",
     "traceback": [
      "\u001b[1;31m---------------------------------------------------------------------------\u001b[0m",
      "\u001b[1;31mValueError\u001b[0m                                Traceback (most recent call last)",
      "\u001b[1;32m<ipython-input-24-9c41e7abc064>\u001b[0m in \u001b[0;36m<module>\u001b[1;34m()\u001b[0m\n\u001b[0;32m     13\u001b[0m     \u001b[1;32mreturn\u001b[0m \u001b[0mres_per_dim\u001b[0m\u001b[1;33m\u001b[0m\u001b[0m\n\u001b[0;32m     14\u001b[0m \u001b[1;33m\u001b[0m\u001b[0m\n\u001b[1;32m---> 15\u001b[1;33m \u001b[0msampled_from_entire_space\u001b[0m \u001b[1;33m=\u001b[0m \u001b[0msample_from_entire_space\u001b[0m\u001b[1;33m(\u001b[0m\u001b[0mmsf\u001b[0m\u001b[1;33m)\u001b[0m\u001b[1;33m\u001b[0m\u001b[0m\n\u001b[0m",
      "\u001b[1;32m<ipython-input-24-9c41e7abc064>\u001b[0m in \u001b[0;36msample_from_entire_space\u001b[1;34m(msf)\u001b[0m\n\u001b[0;32m      7\u001b[0m             \u001b[0mprob_of_state\u001b[0m \u001b[1;33m=\u001b[0m \u001b[0mmsf\u001b[0m\u001b[1;33m(\u001b[0m\u001b[0mcomb\u001b[0m\u001b[1;33m)\u001b[0m\u001b[1;33m\u001b[0m\u001b[0m\n\u001b[0;32m      8\u001b[0m             \u001b[1;32mfor\u001b[0m \u001b[0mdim\u001b[0m\u001b[1;33m,\u001b[0m\u001b[0mdim_val\u001b[0m \u001b[1;32min\u001b[0m \u001b[0menumerate\u001b[0m\u001b[1;33m(\u001b[0m\u001b[0mcomb\u001b[0m\u001b[1;33m)\u001b[0m \u001b[1;33m:\u001b[0m\u001b[1;33m\u001b[0m\u001b[0m\n\u001b[1;32m----> 9\u001b[1;33m                 \u001b[0mres_per_dim\u001b[0m\u001b[1;33m[\u001b[0m\u001b[0mdim_val\u001b[0m\u001b[1;33m,\u001b[0m\u001b[0mdim\u001b[0m\u001b[1;33m]\u001b[0m \u001b[1;33m+=\u001b[0m \u001b[0mprob_of_state\u001b[0m\u001b[1;33m\u001b[0m\u001b[0m\n\u001b[0m\u001b[0;32m     10\u001b[0m             \u001b[0mpbar\u001b[0m\u001b[1;33m.\u001b[0m\u001b[0mupdate\u001b[0m\u001b[1;33m(\u001b[0m\u001b[1;36m1\u001b[0m\u001b[1;33m)\u001b[0m\u001b[1;33m\u001b[0m\u001b[0m\n\u001b[0;32m     11\u001b[0m \u001b[1;33m\u001b[0m\u001b[0m\n",
      "\u001b[1;31mValueError\u001b[0m: setting an array element with a sequence."
     ]
    }
   ],
   "source": [
    "def sample_from_entire_space(msf) :\n",
    "    all_possible_ws =  filter(lambda x:sorted(x),itertools.combinations(range(N), k))\n",
    "\n",
    "    res_per_dim = np.zeros((N,k))\n",
    "    with tqdm(total=math.factorial(N)/(math.factorial(N-k)*math.factorial(k))) as pbar:\n",
    "        for comb in all_possible_ws : \n",
    "            prob_of_state = msf(comb)\n",
    "            for dim,dim_val in enumerate(comb) : \n",
    "                res_per_dim[dim_val,dim] += prob_of_state\n",
    "            pbar.update(1)\n",
    "            \n",
    "    res_per_dim = np.round(res_per_dim / res_per_dim.sum(axis=0)[0],3)\n",
    "    return res_per_dim\n",
    "\n",
    "sampled_from_entire_space = sample_from_entire_space(msf)"
   ]
  },
  {
   "cell_type": "code",
   "execution_count": 7,
   "metadata": {},
   "outputs": [
    {
     "data": {
      "text/plain": [
       "array([[0.887, 0.   , 0.   , 0.   , 0.   , 0.   , 0.   , 0.   ],\n",
       "       [0.111, 0.698, 0.   , 0.   , 0.   , 0.   , 0.   , 0.   ],\n",
       "       [0.002, 0.299, 0.628, 0.   , 0.   , 0.   , 0.   , 0.   ],\n",
       "       [0.   , 0.003, 0.368, 0.621, 0.   , 0.   , 0.   , 0.   ],\n",
       "       [0.   , 0.   , 0.003, 0.374, 0.577, 0.   , 0.   , 0.   ],\n",
       "       [0.   , 0.   , 0.   , 0.005, 0.417, 0.564, 0.   , 0.   ],\n",
       "       [0.   , 0.   , 0.   , 0.   , 0.005, 0.426, 0.424, 0.   ],\n",
       "       [0.   , 0.   , 0.   , 0.   , 0.   , 0.01 , 0.02 , 0.002],\n",
       "       [0.   , 0.   , 0.   , 0.   , 0.   , 0.   , 0.557, 0.083],\n",
       "       [0.   , 0.   , 0.   , 0.   , 0.   , 0.   , 0.   , 0.914]])"
      ]
     },
     "execution_count": 7,
     "metadata": {},
     "output_type": "execute_result"
    }
   ],
   "source": [
    "sampled_from_entire_space"
   ]
  },
  {
   "cell_type": "markdown",
   "metadata": {},
   "source": [
    "# comparison"
   ]
  },
  {
   "cell_type": "code",
   "execution_count": 8,
   "metadata": {},
   "outputs": [
    {
     "name": "stderr",
     "output_type": "stream",
     "text": [
      "100%|███████████████████████████████████████████████████████████████████████████████| 100/100 [00:00<00:00, 222.11it/s]\n",
      "100%|██████████████████████████████████████████████████████████████████████████████| 166/166 [00:00<00:00, 1969.89it/s]\n",
      " 69%|██████████████████████████████████████████████████████▏                       | 193/278 [00:00<00:00, 1919.12it/s]"
     ]
    },
    {
     "name": "stdout",
     "output_type": "stream",
     "text": [
      "space size: 45.0, simulation size: 100, error mean: 0.29775, error std: 0.2548884151283982 \n",
      "space size: 45.0, simulation size: 166, error mean: 0.19151706827309237, error std: 0.15812687203175124 \n"
     ]
    },
    {
     "name": "stderr",
     "output_type": "stream",
     "text": [
      "100%|██████████████████████████████████████████████████████████████████████████████| 278/278 [00:00<00:00, 1858.38it/s]\n",
      " 84%|█████████████████████████████████████████████████████████████████▋            | 391/464 [00:00<00:00, 1966.19it/s]"
     ]
    },
    {
     "name": "stdout",
     "output_type": "stream",
     "text": [
      "space size: 45.0, simulation size: 278, error mean: 0.0881882494004796, error std: 0.0758932342047826 \n"
     ]
    },
    {
     "name": "stderr",
     "output_type": "stream",
     "text": [
      "100%|██████████████████████████████████████████████████████████████████████████████| 464/464 [00:00<00:00, 1955.57it/s]\n",
      " 49%|██████████████████████████████████████▌                                       | 383/774 [00:00<00:00, 1906.81it/s]"
     ]
    },
    {
     "name": "stdout",
     "output_type": "stream",
     "text": [
      "space size: 45.0, simulation size: 464, error mean: 0.03496551724137931, error std: 0.03099508154952319 \n"
     ]
    },
    {
     "name": "stderr",
     "output_type": "stream",
     "text": [
      "100%|██████████████████████████████████████████████████████████████████████████████| 774/774 [00:00<00:00, 1882.01it/s]\n",
      " 29%|██████████████████████                                                       | 370/1291 [00:00<00:00, 1843.15it/s]"
     ]
    },
    {
     "name": "stdout",
     "output_type": "stream",
     "text": [
      "space size: 45.0, simulation size: 774, error mean: 0.0852293281653747, error std: 0.07023993093209337 \n"
     ]
    },
    {
     "name": "stderr",
     "output_type": "stream",
     "text": [
      "100%|████████████████████████████████████████████████████████████████████████████| 1291/1291 [00:01<00:00, 1000.10it/s]\n",
      "  2%|█▌                                                                             | 42/2154 [00:00<00:05, 380.77it/s]"
     ]
    },
    {
     "name": "stdout",
     "output_type": "stream",
     "text": [
      "space size: 45.0, simulation size: 1291, error mean: 0.06844171185127808, error std: 0.05678297019823321 \n"
     ]
    },
    {
     "name": "stderr",
     "output_type": "stream",
     "text": [
      "100%|█████████████████████████████████████████████████████████████████████████████| 2154/2154 [00:03<00:00, 625.99it/s]\n",
      "  4%|███▎                                                                          | 153/3593 [00:00<00:04, 772.07it/s]"
     ]
    },
    {
     "name": "stdout",
     "output_type": "stream",
     "text": [
      "space size: 45.0, simulation size: 2154, error mean: 0.0038334107087588955, error std: 0.002654007612618999 \n"
     ]
    },
    {
     "name": "stderr",
     "output_type": "stream",
     "text": [
      "100%|█████████████████████████████████████████████████████████████████████████████| 3593/3593 [00:05<00:00, 609.02it/s]\n",
      "  1%|█                                                                              | 84/5994 [00:00<00:13, 422.99it/s]"
     ]
    },
    {
     "name": "stdout",
     "output_type": "stream",
     "text": [
      "space size: 45.0, simulation size: 3593, error mean: 0.018858266072919568, error std: 0.01630708307751018 \n"
     ]
    },
    {
     "name": "stderr",
     "output_type": "stream",
     "text": [
      "100%|█████████████████████████████████████████████████████████████████████████████| 5994/5994 [00:10<00:00, 591.83it/s]\n",
      "  1%|▉                                                                            | 116/10000 [00:00<00:19, 508.47it/s]"
     ]
    },
    {
     "name": "stdout",
     "output_type": "stream",
     "text": [
      "space size: 45.0, simulation size: 5994, error mean: 0.00945298075853631, error std: 0.007463844661661094 \n"
     ]
    },
    {
     "name": "stderr",
     "output_type": "stream",
     "text": [
      "100%|███████████████████████████████████████████████████████████████████████████| 10000/10000 [00:18<00:00, 548.46it/s]\n"
     ]
    },
    {
     "name": "stdout",
     "output_type": "stream",
     "text": [
      "space size: 45.0, simulation size: 10000, error mean: 0.023958333333333328, error std: 0.02036013090713209 \n"
     ]
    },
    {
     "data": {
      "image/png": "[encoded data removed]",
      "text/plain": [
       "<Figure size 432x288 with 1 Axes>"
      ]
     },
     "metadata": {
      "needs_background": "light"
     },
     "output_type": "display_data"
    }
   ],
   "source": [
    "ns_of_iters = np.logspace(2,4,10)\n",
    "\n",
    "ns_iters = []\n",
    "means = [] \n",
    "stds = []\n",
    "for n_iter in ns_of_iters:\n",
    "    sampled_from_simu = sample_msf_using_sim(msf,int(n_iter))\n",
    "    error = abs(sampled_from_entire_space - sampled_from_simu)[sampled_from_entire_space != 0]\n",
    "    \n",
    "    full_space_options = math.factorial(N)/(math.factorial(N-k)*math.factorial(k))\n",
    "    \n",
    "    ns_iters.append(int(n_iter))\n",
    "    means.append(np.mean(error))\n",
    "    stds.append(np.std(error))\n",
    "    \n",
    "    print(f\"space size: {full_space_options}, simulation size: {int(n_iter)}, error mean: {np.mean(error)}, error std: {np.std(error)} \")\n",
    "\n",
    "\n",
    "plt.errorbar(ns_iters,means, stds, linestyle='None', marker='^')\n",
    "plt.show()"
   ]
  },
  {
   "cell_type": "markdown",
   "metadata": {},
   "source": [
    "# estimation of computation time for N,k"
   ]
  },
  {
   "cell_type": "code",
   "execution_count": 9,
   "metadata": {},
   "outputs": [],
   "source": [
    "times = np.zeros([25,25])\n",
    "for i,j in itertools.product(range(15,40),range(15,40)) : \n",
    "    if i>j : \n",
    "        times[i-15,j-15]=math.factorial(i)/(math.factorial(i-j)*math.factorial(j))\n",
    "times = pd.DataFrame(index=range(15,40),columns=range(15,40),data=times)"
   ]
  },
  {
   "cell_type": "code",
   "execution_count": 10,
   "metadata": {},
   "outputs": [
    {
     "data": {
      "text/html": [
       "<div>\n",
       "<style scoped>\n",
       "    .dataframe tbody tr th:only-of-type {\n",
       "        vertical-align: middle;\n",
       "    }\n",
       "\n",
       "    .dataframe tbody tr th {\n",
       "        vertical-align: top;\n",
       "    }\n",
       "\n",
       "    .dataframe thead th {\n",
       "        text-align: right;\n",
       "    }\n",
       "</style>\n",
       "<table border=\"1\" class=\"dataframe\">\n",
       "  <thead>\n",
       "    <tr style=\"text-align: right;\">\n",
       "      <th></th>\n",
       "      <th>15</th>\n",
       "      <th>16</th>\n",
       "      <th>17</th>\n",
       "      <th>18</th>\n",
       "      <th>19</th>\n",
       "      <th>20</th>\n",
       "      <th>21</th>\n",
       "      <th>22</th>\n",
       "      <th>23</th>\n",
       "      <th>24</th>\n",
       "      <th>...</th>\n",
       "      <th>30</th>\n",
       "      <th>31</th>\n",
       "      <th>32</th>\n",
       "      <th>33</th>\n",
       "      <th>34</th>\n",
       "      <th>35</th>\n",
       "      <th>36</th>\n",
       "      <th>37</th>\n",
       "      <th>38</th>\n",
       "      <th>39</th>\n",
       "    </tr>\n",
       "  </thead>\n",
       "  <tbody>\n",
       "    <tr>\n",
       "      <td>15</td>\n",
       "      <td>0.000000e+00</td>\n",
       "      <td>0.000000e+00</td>\n",
       "      <td>0.000000e+00</td>\n",
       "      <td>0.000000e+00</td>\n",
       "      <td>0.000000e+00</td>\n",
       "      <td>0.000000e+00</td>\n",
       "      <td>0.000000e+00</td>\n",
       "      <td>0.000000e+00</td>\n",
       "      <td>0.000000e+00</td>\n",
       "      <td>0.000000e+00</td>\n",
       "      <td>...</td>\n",
       "      <td>0.000000e+00</td>\n",
       "      <td>0.000000e+00</td>\n",
       "      <td>0.000000e+00</td>\n",
       "      <td>0.000000e+00</td>\n",
       "      <td>0.000000e+00</td>\n",
       "      <td>0.000000e+00</td>\n",
       "      <td>0.000000e+00</td>\n",
       "      <td>0.000000e+00</td>\n",
       "      <td>0.000000e+00</td>\n",
       "      <td>0.0</td>\n",
       "    </tr>\n",
       "    <tr>\n",
       "      <td>16</td>\n",
       "      <td>2.662671e-07</td>\n",
       "      <td>0.000000e+00</td>\n",
       "      <td>0.000000e+00</td>\n",
       "      <td>0.000000e+00</td>\n",
       "      <td>0.000000e+00</td>\n",
       "      <td>0.000000e+00</td>\n",
       "      <td>0.000000e+00</td>\n",
       "      <td>0.000000e+00</td>\n",
       "      <td>0.000000e+00</td>\n",
       "      <td>0.000000e+00</td>\n",
       "      <td>...</td>\n",
       "      <td>0.000000e+00</td>\n",
       "      <td>0.000000e+00</td>\n",
       "      <td>0.000000e+00</td>\n",
       "      <td>0.000000e+00</td>\n",
       "      <td>0.000000e+00</td>\n",
       "      <td>0.000000e+00</td>\n",
       "      <td>0.000000e+00</td>\n",
       "      <td>0.000000e+00</td>\n",
       "      <td>0.000000e+00</td>\n",
       "      <td>0.0</td>\n",
       "    </tr>\n",
       "    <tr>\n",
       "      <td>17</td>\n",
       "      <td>2.263270e-06</td>\n",
       "      <td>2.829088e-07</td>\n",
       "      <td>0.000000e+00</td>\n",
       "      <td>0.000000e+00</td>\n",
       "      <td>0.000000e+00</td>\n",
       "      <td>0.000000e+00</td>\n",
       "      <td>0.000000e+00</td>\n",
       "      <td>0.000000e+00</td>\n",
       "      <td>0.000000e+00</td>\n",
       "      <td>0.000000e+00</td>\n",
       "      <td>...</td>\n",
       "      <td>0.000000e+00</td>\n",
       "      <td>0.000000e+00</td>\n",
       "      <td>0.000000e+00</td>\n",
       "      <td>0.000000e+00</td>\n",
       "      <td>0.000000e+00</td>\n",
       "      <td>0.000000e+00</td>\n",
       "      <td>0.000000e+00</td>\n",
       "      <td>0.000000e+00</td>\n",
       "      <td>0.000000e+00</td>\n",
       "      <td>0.0</td>\n",
       "    </tr>\n",
       "    <tr>\n",
       "      <td>18</td>\n",
       "      <td>1.357962e-05</td>\n",
       "      <td>2.546179e-06</td>\n",
       "      <td>2.995505e-07</td>\n",
       "      <td>0.000000e+00</td>\n",
       "      <td>0.000000e+00</td>\n",
       "      <td>0.000000e+00</td>\n",
       "      <td>0.000000e+00</td>\n",
       "      <td>0.000000e+00</td>\n",
       "      <td>0.000000e+00</td>\n",
       "      <td>0.000000e+00</td>\n",
       "      <td>...</td>\n",
       "      <td>0.000000e+00</td>\n",
       "      <td>0.000000e+00</td>\n",
       "      <td>0.000000e+00</td>\n",
       "      <td>0.000000e+00</td>\n",
       "      <td>0.000000e+00</td>\n",
       "      <td>0.000000e+00</td>\n",
       "      <td>0.000000e+00</td>\n",
       "      <td>0.000000e+00</td>\n",
       "      <td>0.000000e+00</td>\n",
       "      <td>0.0</td>\n",
       "    </tr>\n",
       "    <tr>\n",
       "      <td>19</td>\n",
       "      <td>6.450320e-05</td>\n",
       "      <td>1.612580e-05</td>\n",
       "      <td>2.845730e-06</td>\n",
       "      <td>3.161922e-07</td>\n",
       "      <td>0.000000e+00</td>\n",
       "      <td>0.000000e+00</td>\n",
       "      <td>0.000000e+00</td>\n",
       "      <td>0.000000e+00</td>\n",
       "      <td>0.000000e+00</td>\n",
       "      <td>0.000000e+00</td>\n",
       "      <td>...</td>\n",
       "      <td>0.000000e+00</td>\n",
       "      <td>0.000000e+00</td>\n",
       "      <td>0.000000e+00</td>\n",
       "      <td>0.000000e+00</td>\n",
       "      <td>0.000000e+00</td>\n",
       "      <td>0.000000e+00</td>\n",
       "      <td>0.000000e+00</td>\n",
       "      <td>0.000000e+00</td>\n",
       "      <td>0.000000e+00</td>\n",
       "      <td>0.0</td>\n",
       "    </tr>\n",
       "    <tr>\n",
       "      <td>20</td>\n",
       "      <td>2.580128e-04</td>\n",
       "      <td>8.062900e-05</td>\n",
       "      <td>1.897153e-05</td>\n",
       "      <td>3.161922e-06</td>\n",
       "      <td>3.328339e-07</td>\n",
       "      <td>0.000000e+00</td>\n",
       "      <td>0.000000e+00</td>\n",
       "      <td>0.000000e+00</td>\n",
       "      <td>0.000000e+00</td>\n",
       "      <td>0.000000e+00</td>\n",
       "      <td>...</td>\n",
       "      <td>0.000000e+00</td>\n",
       "      <td>0.000000e+00</td>\n",
       "      <td>0.000000e+00</td>\n",
       "      <td>0.000000e+00</td>\n",
       "      <td>0.000000e+00</td>\n",
       "      <td>0.000000e+00</td>\n",
       "      <td>0.000000e+00</td>\n",
       "      <td>0.000000e+00</td>\n",
       "      <td>0.000000e+00</td>\n",
       "      <td>0.0</td>\n",
       "    </tr>\n",
       "    <tr>\n",
       "      <td>21</td>\n",
       "      <td>9.030448e-04</td>\n",
       "      <td>3.386418e-04</td>\n",
       "      <td>9.960053e-05</td>\n",
       "      <td>2.213345e-05</td>\n",
       "      <td>3.494756e-06</td>\n",
       "      <td>3.494756e-07</td>\n",
       "      <td>0.000000e+00</td>\n",
       "      <td>0.000000e+00</td>\n",
       "      <td>0.000000e+00</td>\n",
       "      <td>0.000000e+00</td>\n",
       "      <td>...</td>\n",
       "      <td>0.000000e+00</td>\n",
       "      <td>0.000000e+00</td>\n",
       "      <td>0.000000e+00</td>\n",
       "      <td>0.000000e+00</td>\n",
       "      <td>0.000000e+00</td>\n",
       "      <td>0.000000e+00</td>\n",
       "      <td>0.000000e+00</td>\n",
       "      <td>0.000000e+00</td>\n",
       "      <td>0.000000e+00</td>\n",
       "      <td>0.0</td>\n",
       "    </tr>\n",
       "    <tr>\n",
       "      <td>22</td>\n",
       "      <td>2.838141e-03</td>\n",
       "      <td>1.241687e-03</td>\n",
       "      <td>4.382423e-04</td>\n",
       "      <td>1.217340e-04</td>\n",
       "      <td>2.562821e-05</td>\n",
       "      <td>3.844231e-06</td>\n",
       "      <td>3.661172e-07</td>\n",
       "      <td>0.000000e+00</td>\n",
       "      <td>0.000000e+00</td>\n",
       "      <td>0.000000e+00</td>\n",
       "      <td>...</td>\n",
       "      <td>0.000000e+00</td>\n",
       "      <td>0.000000e+00</td>\n",
       "      <td>0.000000e+00</td>\n",
       "      <td>0.000000e+00</td>\n",
       "      <td>0.000000e+00</td>\n",
       "      <td>0.000000e+00</td>\n",
       "      <td>0.000000e+00</td>\n",
       "      <td>0.000000e+00</td>\n",
       "      <td>0.000000e+00</td>\n",
       "      <td>0.0</td>\n",
       "    </tr>\n",
       "    <tr>\n",
       "      <td>23</td>\n",
       "      <td>8.159655e-03</td>\n",
       "      <td>4.079828e-03</td>\n",
       "      <td>1.679929e-03</td>\n",
       "      <td>5.599763e-04</td>\n",
       "      <td>1.473622e-04</td>\n",
       "      <td>2.947244e-05</td>\n",
       "      <td>4.210348e-06</td>\n",
       "      <td>3.827589e-07</td>\n",
       "      <td>0.000000e+00</td>\n",
       "      <td>0.000000e+00</td>\n",
       "      <td>...</td>\n",
       "      <td>0.000000e+00</td>\n",
       "      <td>0.000000e+00</td>\n",
       "      <td>0.000000e+00</td>\n",
       "      <td>0.000000e+00</td>\n",
       "      <td>0.000000e+00</td>\n",
       "      <td>0.000000e+00</td>\n",
       "      <td>0.000000e+00</td>\n",
       "      <td>0.000000e+00</td>\n",
       "      <td>0.000000e+00</td>\n",
       "      <td>0.0</td>\n",
       "    </tr>\n",
       "    <tr>\n",
       "      <td>24</td>\n",
       "      <td>2.175908e-02</td>\n",
       "      <td>1.223948e-02</td>\n",
       "      <td>5.759757e-03</td>\n",
       "      <td>2.239905e-03</td>\n",
       "      <td>7.073385e-04</td>\n",
       "      <td>1.768346e-04</td>\n",
       "      <td>3.368279e-05</td>\n",
       "      <td>4.593107e-06</td>\n",
       "      <td>3.994006e-07</td>\n",
       "      <td>0.000000e+00</td>\n",
       "      <td>...</td>\n",
       "      <td>0.000000e+00</td>\n",
       "      <td>0.000000e+00</td>\n",
       "      <td>0.000000e+00</td>\n",
       "      <td>0.000000e+00</td>\n",
       "      <td>0.000000e+00</td>\n",
       "      <td>0.000000e+00</td>\n",
       "      <td>0.000000e+00</td>\n",
       "      <td>0.000000e+00</td>\n",
       "      <td>0.000000e+00</td>\n",
       "      <td>0.0</td>\n",
       "    </tr>\n",
       "    <tr>\n",
       "      <td>25</td>\n",
       "      <td>5.439770e-02</td>\n",
       "      <td>3.399856e-02</td>\n",
       "      <td>1.799924e-02</td>\n",
       "      <td>7.999662e-03</td>\n",
       "      <td>2.947244e-03</td>\n",
       "      <td>8.841732e-04</td>\n",
       "      <td>2.105174e-04</td>\n",
       "      <td>3.827589e-05</td>\n",
       "      <td>4.992508e-06</td>\n",
       "      <td>4.160423e-07</td>\n",
       "      <td>...</td>\n",
       "      <td>0.000000e+00</td>\n",
       "      <td>0.000000e+00</td>\n",
       "      <td>0.000000e+00</td>\n",
       "      <td>0.000000e+00</td>\n",
       "      <td>0.000000e+00</td>\n",
       "      <td>0.000000e+00</td>\n",
       "      <td>0.000000e+00</td>\n",
       "      <td>0.000000e+00</td>\n",
       "      <td>0.000000e+00</td>\n",
       "      <td>0.0</td>\n",
       "    </tr>\n",
       "    <tr>\n",
       "      <td>26</td>\n",
       "      <td>1.285764e-01</td>\n",
       "      <td>8.839626e-02</td>\n",
       "      <td>5.199780e-02</td>\n",
       "      <td>2.599890e-02</td>\n",
       "      <td>1.094691e-02</td>\n",
       "      <td>3.831417e-03</td>\n",
       "      <td>1.094691e-03</td>\n",
       "      <td>2.487933e-04</td>\n",
       "      <td>4.326840e-05</td>\n",
       "      <td>5.408550e-06</td>\n",
       "      <td>...</td>\n",
       "      <td>0.000000e+00</td>\n",
       "      <td>0.000000e+00</td>\n",
       "      <td>0.000000e+00</td>\n",
       "      <td>0.000000e+00</td>\n",
       "      <td>0.000000e+00</td>\n",
       "      <td>0.000000e+00</td>\n",
       "      <td>0.000000e+00</td>\n",
       "      <td>0.000000e+00</td>\n",
       "      <td>0.000000e+00</td>\n",
       "      <td>0.0</td>\n",
       "    </tr>\n",
       "    <tr>\n",
       "      <td>27</td>\n",
       "      <td>2.892969e-01</td>\n",
       "      <td>2.169726e-01</td>\n",
       "      <td>1.403941e-01</td>\n",
       "      <td>7.799670e-02</td>\n",
       "      <td>3.694581e-02</td>\n",
       "      <td>1.477832e-02</td>\n",
       "      <td>4.926108e-03</td>\n",
       "      <td>1.343484e-03</td>\n",
       "      <td>2.920617e-04</td>\n",
       "      <td>4.867695e-05</td>\n",
       "      <td>...</td>\n",
       "      <td>0.000000e+00</td>\n",
       "      <td>0.000000e+00</td>\n",
       "      <td>0.000000e+00</td>\n",
       "      <td>0.000000e+00</td>\n",
       "      <td>0.000000e+00</td>\n",
       "      <td>0.000000e+00</td>\n",
       "      <td>0.000000e+00</td>\n",
       "      <td>0.000000e+00</td>\n",
       "      <td>0.000000e+00</td>\n",
       "      <td>0.0</td>\n",
       "    </tr>\n",
       "    <tr>\n",
       "      <td>28</td>\n",
       "      <td>6.231009e-01</td>\n",
       "      <td>5.062695e-01</td>\n",
       "      <td>3.573667e-01</td>\n",
       "      <td>2.183908e-01</td>\n",
       "      <td>1.149425e-01</td>\n",
       "      <td>5.172413e-02</td>\n",
       "      <td>1.970443e-02</td>\n",
       "      <td>6.269591e-03</td>\n",
       "      <td>1.635546e-03</td>\n",
       "      <td>3.407387e-04</td>\n",
       "      <td>...</td>\n",
       "      <td>0.000000e+00</td>\n",
       "      <td>0.000000e+00</td>\n",
       "      <td>0.000000e+00</td>\n",
       "      <td>0.000000e+00</td>\n",
       "      <td>0.000000e+00</td>\n",
       "      <td>0.000000e+00</td>\n",
       "      <td>0.000000e+00</td>\n",
       "      <td>0.000000e+00</td>\n",
       "      <td>0.000000e+00</td>\n",
       "      <td>0.0</td>\n",
       "    </tr>\n",
       "    <tr>\n",
       "      <td>29</td>\n",
       "      <td>1.290709e+00</td>\n",
       "      <td>1.129370e+00</td>\n",
       "      <td>8.636362e-01</td>\n",
       "      <td>5.757575e-01</td>\n",
       "      <td>3.333333e-01</td>\n",
       "      <td>1.666666e-01</td>\n",
       "      <td>7.142856e-02</td>\n",
       "      <td>2.597402e-02</td>\n",
       "      <td>7.905137e-03</td>\n",
       "      <td>1.976284e-03</td>\n",
       "      <td>...</td>\n",
       "      <td>0.000000e+00</td>\n",
       "      <td>0.000000e+00</td>\n",
       "      <td>0.000000e+00</td>\n",
       "      <td>0.000000e+00</td>\n",
       "      <td>0.000000e+00</td>\n",
       "      <td>0.000000e+00</td>\n",
       "      <td>0.000000e+00</td>\n",
       "      <td>0.000000e+00</td>\n",
       "      <td>0.000000e+00</td>\n",
       "      <td>0.0</td>\n",
       "    </tr>\n",
       "    <tr>\n",
       "      <td>30</td>\n",
       "      <td>2.581418e+00</td>\n",
       "      <td>2.420080e+00</td>\n",
       "      <td>1.993007e+00</td>\n",
       "      <td>1.439394e+00</td>\n",
       "      <td>9.090908e-01</td>\n",
       "      <td>4.999999e-01</td>\n",
       "      <td>2.380952e-01</td>\n",
       "      <td>9.740258e-02</td>\n",
       "      <td>3.387916e-02</td>\n",
       "      <td>9.881421e-03</td>\n",
       "      <td>...</td>\n",
       "      <td>0.000000e+00</td>\n",
       "      <td>0.000000e+00</td>\n",
       "      <td>0.000000e+00</td>\n",
       "      <td>0.000000e+00</td>\n",
       "      <td>0.000000e+00</td>\n",
       "      <td>0.000000e+00</td>\n",
       "      <td>0.000000e+00</td>\n",
       "      <td>0.000000e+00</td>\n",
       "      <td>0.000000e+00</td>\n",
       "      <td>0.0</td>\n",
       "    </tr>\n",
       "    <tr>\n",
       "      <td>31</td>\n",
       "      <td>5.001498e+00</td>\n",
       "      <td>5.001498e+00</td>\n",
       "      <td>4.413086e+00</td>\n",
       "      <td>3.432400e+00</td>\n",
       "      <td>2.348484e+00</td>\n",
       "      <td>1.409091e+00</td>\n",
       "      <td>7.380951e-01</td>\n",
       "      <td>3.354978e-01</td>\n",
       "      <td>1.312817e-01</td>\n",
       "      <td>4.376058e-02</td>\n",
       "      <td>...</td>\n",
       "      <td>5.158925e-07</td>\n",
       "      <td>0.000000e+00</td>\n",
       "      <td>0.000000e+00</td>\n",
       "      <td>0.000000e+00</td>\n",
       "      <td>0.000000e+00</td>\n",
       "      <td>0.000000e+00</td>\n",
       "      <td>0.000000e+00</td>\n",
       "      <td>0.000000e+00</td>\n",
       "      <td>0.000000e+00</td>\n",
       "      <td>0.0</td>\n",
       "    </tr>\n",
       "    <tr>\n",
       "      <td>32</td>\n",
       "      <td>9.414584e+00</td>\n",
       "      <td>1.000300e+01</td>\n",
       "      <td>9.414584e+00</td>\n",
       "      <td>7.845487e+00</td>\n",
       "      <td>5.780885e+00</td>\n",
       "      <td>3.757575e+00</td>\n",
       "      <td>2.147186e+00</td>\n",
       "      <td>1.073593e+00</td>\n",
       "      <td>4.667795e-01</td>\n",
       "      <td>1.750423e-01</td>\n",
       "      <td>...</td>\n",
       "      <td>8.254280e-06</td>\n",
       "      <td>5.325342e-07</td>\n",
       "      <td>0.000000e+00</td>\n",
       "      <td>0.000000e+00</td>\n",
       "      <td>0.000000e+00</td>\n",
       "      <td>0.000000e+00</td>\n",
       "      <td>0.000000e+00</td>\n",
       "      <td>0.000000e+00</td>\n",
       "      <td>0.000000e+00</td>\n",
       "      <td>0.0</td>\n",
       "    </tr>\n",
       "    <tr>\n",
       "      <td>33</td>\n",
       "      <td>1.726007e+01</td>\n",
       "      <td>1.941758e+01</td>\n",
       "      <td>1.941758e+01</td>\n",
       "      <td>1.726007e+01</td>\n",
       "      <td>1.362637e+01</td>\n",
       "      <td>9.538460e+00</td>\n",
       "      <td>5.904761e+00</td>\n",
       "      <td>3.220779e+00</td>\n",
       "      <td>1.540372e+00</td>\n",
       "      <td>6.418218e-01</td>\n",
       "      <td>...</td>\n",
       "      <td>9.079708e-05</td>\n",
       "      <td>8.786814e-06</td>\n",
       "      <td>5.491759e-07</td>\n",
       "      <td>0.000000e+00</td>\n",
       "      <td>0.000000e+00</td>\n",
       "      <td>0.000000e+00</td>\n",
       "      <td>0.000000e+00</td>\n",
       "      <td>0.000000e+00</td>\n",
       "      <td>0.000000e+00</td>\n",
       "      <td>0.0</td>\n",
       "    </tr>\n",
       "    <tr>\n",
       "      <td>34</td>\n",
       "      <td>3.088644e+01</td>\n",
       "      <td>3.667765e+01</td>\n",
       "      <td>3.883516e+01</td>\n",
       "      <td>3.667765e+01</td>\n",
       "      <td>3.088644e+01</td>\n",
       "      <td>2.316483e+01</td>\n",
       "      <td>1.544322e+01</td>\n",
       "      <td>9.125540e+00</td>\n",
       "      <td>4.761151e+00</td>\n",
       "      <td>2.182194e+00</td>\n",
       "      <td>...</td>\n",
       "      <td>7.717752e-04</td>\n",
       "      <td>9.958389e-05</td>\n",
       "      <td>9.335990e-06</td>\n",
       "      <td>5.658176e-07</td>\n",
       "      <td>0.000000e+00</td>\n",
       "      <td>0.000000e+00</td>\n",
       "      <td>0.000000e+00</td>\n",
       "      <td>0.000000e+00</td>\n",
       "      <td>0.000000e+00</td>\n",
       "      <td>0.0</td>\n",
       "    </tr>\n",
       "    <tr>\n",
       "      <td>35</td>\n",
       "      <td>5.405127e+01</td>\n",
       "      <td>6.756409e+01</td>\n",
       "      <td>7.551281e+01</td>\n",
       "      <td>7.551281e+01</td>\n",
       "      <td>6.756409e+01</td>\n",
       "      <td>5.405127e+01</td>\n",
       "      <td>3.860805e+01</td>\n",
       "      <td>2.456876e+01</td>\n",
       "      <td>1.388669e+01</td>\n",
       "      <td>6.943345e+00</td>\n",
       "      <td>...</td>\n",
       "      <td>5.402426e-03</td>\n",
       "      <td>8.713590e-04</td>\n",
       "      <td>1.089199e-04</td>\n",
       "      <td>9.901807e-06</td>\n",
       "      <td>5.824593e-07</td>\n",
       "      <td>0.000000e+00</td>\n",
       "      <td>0.000000e+00</td>\n",
       "      <td>0.000000e+00</td>\n",
       "      <td>0.000000e+00</td>\n",
       "      <td>0.0</td>\n",
       "    </tr>\n",
       "    <tr>\n",
       "      <td>36</td>\n",
       "      <td>9.265933e+01</td>\n",
       "      <td>1.216154e+02</td>\n",
       "      <td>1.430769e+02</td>\n",
       "      <td>1.510256e+02</td>\n",
       "      <td>1.430769e+02</td>\n",
       "      <td>1.216154e+02</td>\n",
       "      <td>9.265933e+01</td>\n",
       "      <td>6.317681e+01</td>\n",
       "      <td>3.845545e+01</td>\n",
       "      <td>2.083004e+01</td>\n",
       "      <td>...</td>\n",
       "      <td>3.241456e-02</td>\n",
       "      <td>6.273785e-03</td>\n",
       "      <td>9.802789e-04</td>\n",
       "      <td>1.188217e-04</td>\n",
       "      <td>1.048427e-05</td>\n",
       "      <td>5.991009e-07</td>\n",
       "      <td>0.000000e+00</td>\n",
       "      <td>0.000000e+00</td>\n",
       "      <td>0.000000e+00</td>\n",
       "      <td>0.0</td>\n",
       "    </tr>\n",
       "    <tr>\n",
       "      <td>37</td>\n",
       "      <td>1.558361e+02</td>\n",
       "      <td>2.142747e+02</td>\n",
       "      <td>2.646923e+02</td>\n",
       "      <td>2.941025e+02</td>\n",
       "      <td>2.941025e+02</td>\n",
       "      <td>2.646923e+02</td>\n",
       "      <td>2.142747e+02</td>\n",
       "      <td>1.558361e+02</td>\n",
       "      <td>1.016323e+02</td>\n",
       "      <td>5.928549e+01</td>\n",
       "      <td>...</td>\n",
       "      <td>1.713341e-01</td>\n",
       "      <td>3.868834e-02</td>\n",
       "      <td>7.254064e-03</td>\n",
       "      <td>1.099101e-03</td>\n",
       "      <td>1.293060e-04</td>\n",
       "      <td>1.108337e-05</td>\n",
       "      <td>6.157426e-07</td>\n",
       "      <td>0.000000e+00</td>\n",
       "      <td>0.000000e+00</td>\n",
       "      <td>0.0</td>\n",
       "    </tr>\n",
       "    <tr>\n",
       "      <td>38</td>\n",
       "      <td>2.574684e+02</td>\n",
       "      <td>3.701108e+02</td>\n",
       "      <td>4.789670e+02</td>\n",
       "      <td>5.587948e+02</td>\n",
       "      <td>5.882050e+02</td>\n",
       "      <td>5.587948e+02</td>\n",
       "      <td>4.789670e+02</td>\n",
       "      <td>3.701108e+02</td>\n",
       "      <td>2.574684e+02</td>\n",
       "      <td>1.609178e+02</td>\n",
       "      <td>...</td>\n",
       "      <td>8.138369e-01</td>\n",
       "      <td>2.100224e-01</td>\n",
       "      <td>4.594241e-02</td>\n",
       "      <td>8.353165e-03</td>\n",
       "      <td>1.228407e-03</td>\n",
       "      <td>1.403893e-04</td>\n",
       "      <td>1.169911e-05</td>\n",
       "      <td>6.323843e-07</td>\n",
       "      <td>0.000000e+00</td>\n",
       "      <td>0.0</td>\n",
       "    </tr>\n",
       "    <tr>\n",
       "      <td>39</td>\n",
       "      <td>4.183862e+02</td>\n",
       "      <td>6.275792e+02</td>\n",
       "      <td>8.490778e+02</td>\n",
       "      <td>1.037762e+03</td>\n",
       "      <td>1.147000e+03</td>\n",
       "      <td>1.147000e+03</td>\n",
       "      <td>1.037762e+03</td>\n",
       "      <td>8.490778e+02</td>\n",
       "      <td>6.275792e+02</td>\n",
       "      <td>4.183862e+02</td>\n",
       "      <td>...</td>\n",
       "      <td>3.526627e+00</td>\n",
       "      <td>1.023859e+00</td>\n",
       "      <td>2.559648e-01</td>\n",
       "      <td>5.429557e-02</td>\n",
       "      <td>9.581571e-03</td>\n",
       "      <td>1.368796e-03</td>\n",
       "      <td>1.520884e-04</td>\n",
       "      <td>1.233149e-05</td>\n",
       "      <td>6.490260e-07</td>\n",
       "      <td>0.0</td>\n",
       "    </tr>\n",
       "  </tbody>\n",
       "</table>\n",
       "<p>25 rows × 25 columns</p>\n",
       "</div>"
      ],
      "text/plain": [
       "              15            16            17            18            19  \\\n",
       "15  0.000000e+00  0.000000e+00  0.000000e+00  0.000000e+00  0.000000e+00   \n",
       "16  2.662671e-07  0.000000e+00  0.000000e+00  0.000000e+00  0.000000e+00   \n",
       "17  2.263270e-06  2.829088e-07  0.000000e+00  0.000000e+00  0.000000e+00   \n",
       "18  1.357962e-05  2.546179e-06  2.995505e-07  0.000000e+00  0.000000e+00   \n",
       "19  6.450320e-05  1.612580e-05  2.845730e-06  3.161922e-07  0.000000e+00   \n",
       "20  2.580128e-04  8.062900e-05  1.897153e-05  3.161922e-06  3.328339e-07   \n",
       "21  9.030448e-04  3.386418e-04  9.960053e-05  2.213345e-05  3.494756e-06   \n",
       "22  2.838141e-03  1.241687e-03  4.382423e-04  1.217340e-04  2.562821e-05   \n",
       "23  8.159655e-03  4.079828e-03  1.679929e-03  5.599763e-04  1.473622e-04   \n",
       "24  2.175908e-02  1.223948e-02  5.759757e-03  2.239905e-03  7.073385e-04   \n",
       "25  5.439770e-02  3.399856e-02  1.799924e-02  7.999662e-03  2.947244e-03   \n",
       "26  1.285764e-01  8.839626e-02  5.199780e-02  2.599890e-02  1.094691e-02   \n",
       "27  2.892969e-01  2.169726e-01  1.403941e-01  7.799670e-02  3.694581e-02   \n",
       "28  6.231009e-01  5.062695e-01  3.573667e-01  2.183908e-01  1.149425e-01   \n",
       "29  1.290709e+00  1.129370e+00  8.636362e-01  5.757575e-01  3.333333e-01   \n",
       "30  2.581418e+00  2.420080e+00  1.993007e+00  1.439394e+00  9.090908e-01   \n",
       "31  5.001498e+00  5.001498e+00  4.413086e+00  3.432400e+00  2.348484e+00   \n",
       "32  9.414584e+00  1.000300e+01  9.414584e+00  7.845487e+00  5.780885e+00   \n",
       "33  1.726007e+01  1.941758e+01  1.941758e+01  1.726007e+01  1.362637e+01   \n",
       "34  3.088644e+01  3.667765e+01  3.883516e+01  3.667765e+01  3.088644e+01   \n",
       "35  5.405127e+01  6.756409e+01  7.551281e+01  7.551281e+01  6.756409e+01   \n",
       "36  9.265933e+01  1.216154e+02  1.430769e+02  1.510256e+02  1.430769e+02   \n",
       "37  1.558361e+02  2.142747e+02  2.646923e+02  2.941025e+02  2.941025e+02   \n",
       "38  2.574684e+02  3.701108e+02  4.789670e+02  5.587948e+02  5.882050e+02   \n",
       "39  4.183862e+02  6.275792e+02  8.490778e+02  1.037762e+03  1.147000e+03   \n",
       "\n",
       "              20            21            22            23            24  ...  \\\n",
       "15  0.000000e+00  0.000000e+00  0.000000e+00  0.000000e+00  0.000000e+00  ...   \n",
       "16  0.000000e+00  0.000000e+00  0.000000e+00  0.000000e+00  0.000000e+00  ...   \n",
       "17  0.000000e+00  0.000000e+00  0.000000e+00  0.000000e+00  0.000000e+00  ...   \n",
       "18  0.000000e+00  0.000000e+00  0.000000e+00  0.000000e+00  0.000000e+00  ...   \n",
       "19  0.000000e+00  0.000000e+00  0.000000e+00  0.000000e+00  0.000000e+00  ...   \n",
       "20  0.000000e+00  0.000000e+00  0.000000e+00  0.000000e+00  0.000000e+00  ...   \n",
       "21  3.494756e-07  0.000000e+00  0.000000e+00  0.000000e+00  0.000000e+00  ...   \n",
       "22  3.844231e-06  3.661172e-07  0.000000e+00  0.000000e+00  0.000000e+00  ...   \n",
       "23  2.947244e-05  4.210348e-06  3.827589e-07  0.000000e+00  0.000000e+00  ...   \n",
       "24  1.768346e-04  3.368279e-05  4.593107e-06  3.994006e-07  0.000000e+00  ...   \n",
       "25  8.841732e-04  2.105174e-04  3.827589e-05  4.992508e-06  4.160423e-07  ...   \n",
       "26  3.831417e-03  1.094691e-03  2.487933e-04  4.326840e-05  5.408550e-06  ...   \n",
       "27  1.477832e-02  4.926108e-03  1.343484e-03  2.920617e-04  4.867695e-05  ...   \n",
       "28  5.172413e-02  1.970443e-02  6.269591e-03  1.635546e-03  3.407387e-04  ...   \n",
       "29  1.666666e-01  7.142856e-02  2.597402e-02  7.905137e-03  1.976284e-03  ...   \n",
       "30  4.999999e-01  2.380952e-01  9.740258e-02  3.387916e-02  9.881421e-03  ...   \n",
       "31  1.409091e+00  7.380951e-01  3.354978e-01  1.312817e-01  4.376058e-02  ...   \n",
       "32  3.757575e+00  2.147186e+00  1.073593e+00  4.667795e-01  1.750423e-01  ...   \n",
       "33  9.538460e+00  5.904761e+00  3.220779e+00  1.540372e+00  6.418218e-01  ...   \n",
       "34  2.316483e+01  1.544322e+01  9.125540e+00  4.761151e+00  2.182194e+00  ...   \n",
       "35  5.405127e+01  3.860805e+01  2.456876e+01  1.388669e+01  6.943345e+00  ...   \n",
       "36  1.216154e+02  9.265933e+01  6.317681e+01  3.845545e+01  2.083004e+01  ...   \n",
       "37  2.646923e+02  2.142747e+02  1.558361e+02  1.016323e+02  5.928549e+01  ...   \n",
       "38  5.587948e+02  4.789670e+02  3.701108e+02  2.574684e+02  1.609178e+02  ...   \n",
       "39  1.147000e+03  1.037762e+03  8.490778e+02  6.275792e+02  4.183862e+02  ...   \n",
       "\n",
       "              30            31            32            33            34  \\\n",
       "15  0.000000e+00  0.000000e+00  0.000000e+00  0.000000e+00  0.000000e+00   \n",
       "16  0.000000e+00  0.000000e+00  0.000000e+00  0.000000e+00  0.000000e+00   \n",
       "17  0.000000e+00  0.000000e+00  0.000000e+00  0.000000e+00  0.000000e+00   \n",
       "18  0.000000e+00  0.000000e+00  0.000000e+00  0.000000e+00  0.000000e+00   \n",
       "19  0.000000e+00  0.000000e+00  0.000000e+00  0.000000e+00  0.000000e+00   \n",
       "20  0.000000e+00  0.000000e+00  0.000000e+00  0.000000e+00  0.000000e+00   \n",
       "21  0.000000e+00  0.000000e+00  0.000000e+00  0.000000e+00  0.000000e+00   \n",
       "22  0.000000e+00  0.000000e+00  0.000000e+00  0.000000e+00  0.000000e+00   \n",
       "23  0.000000e+00  0.000000e+00  0.000000e+00  0.000000e+00  0.000000e+00   \n",
       "24  0.000000e+00  0.000000e+00  0.000000e+00  0.000000e+00  0.000000e+00   \n",
       "25  0.000000e+00  0.000000e+00  0.000000e+00  0.000000e+00  0.000000e+00   \n",
       "26  0.000000e+00  0.000000e+00  0.000000e+00  0.000000e+00  0.000000e+00   \n",
       "27  0.000000e+00  0.000000e+00  0.000000e+00  0.000000e+00  0.000000e+00   \n",
       "28  0.000000e+00  0.000000e+00  0.000000e+00  0.000000e+00  0.000000e+00   \n",
       "29  0.000000e+00  0.000000e+00  0.000000e+00  0.000000e+00  0.000000e+00   \n",
       "30  0.000000e+00  0.000000e+00  0.000000e+00  0.000000e+00  0.000000e+00   \n",
       "31  5.158925e-07  0.000000e+00  0.000000e+00  0.000000e+00  0.000000e+00   \n",
       "32  8.254280e-06  5.325342e-07  0.000000e+00  0.000000e+00  0.000000e+00   \n",
       "33  9.079708e-05  8.786814e-06  5.491759e-07  0.000000e+00  0.000000e+00   \n",
       "34  7.717752e-04  9.958389e-05  9.335990e-06  5.658176e-07  0.000000e+00   \n",
       "35  5.402426e-03  8.713590e-04  1.089199e-04  9.901807e-06  5.824593e-07   \n",
       "36  3.241456e-02  6.273785e-03  9.802789e-04  1.188217e-04  1.048427e-05   \n",
       "37  1.713341e-01  3.868834e-02  7.254064e-03  1.099101e-03  1.293060e-04   \n",
       "38  8.138369e-01  2.100224e-01  4.594241e-02  8.353165e-03  1.228407e-03   \n",
       "39  3.526627e+00  1.023859e+00  2.559648e-01  5.429557e-02  9.581571e-03   \n",
       "\n",
       "              35            36            37            38   39  \n",
       "15  0.000000e+00  0.000000e+00  0.000000e+00  0.000000e+00  0.0  \n",
       "16  0.000000e+00  0.000000e+00  0.000000e+00  0.000000e+00  0.0  \n",
       "17  0.000000e+00  0.000000e+00  0.000000e+00  0.000000e+00  0.0  \n",
       "18  0.000000e+00  0.000000e+00  0.000000e+00  0.000000e+00  0.0  \n",
       "19  0.000000e+00  0.000000e+00  0.000000e+00  0.000000e+00  0.0  \n",
       "20  0.000000e+00  0.000000e+00  0.000000e+00  0.000000e+00  0.0  \n",
       "21  0.000000e+00  0.000000e+00  0.000000e+00  0.000000e+00  0.0  \n",
       "22  0.000000e+00  0.000000e+00  0.000000e+00  0.000000e+00  0.0  \n",
       "23  0.000000e+00  0.000000e+00  0.000000e+00  0.000000e+00  0.0  \n",
       "24  0.000000e+00  0.000000e+00  0.000000e+00  0.000000e+00  0.0  \n",
       "25  0.000000e+00  0.000000e+00  0.000000e+00  0.000000e+00  0.0  \n",
       "26  0.000000e+00  0.000000e+00  0.000000e+00  0.000000e+00  0.0  \n",
       "27  0.000000e+00  0.000000e+00  0.000000e+00  0.000000e+00  0.0  \n",
       "28  0.000000e+00  0.000000e+00  0.000000e+00  0.000000e+00  0.0  \n",
       "29  0.000000e+00  0.000000e+00  0.000000e+00  0.000000e+00  0.0  \n",
       "30  0.000000e+00  0.000000e+00  0.000000e+00  0.000000e+00  0.0  \n",
       "31  0.000000e+00  0.000000e+00  0.000000e+00  0.000000e+00  0.0  \n",
       "32  0.000000e+00  0.000000e+00  0.000000e+00  0.000000e+00  0.0  \n",
       "33  0.000000e+00  0.000000e+00  0.000000e+00  0.000000e+00  0.0  \n",
       "34  0.000000e+00  0.000000e+00  0.000000e+00  0.000000e+00  0.0  \n",
       "35  0.000000e+00  0.000000e+00  0.000000e+00  0.000000e+00  0.0  \n",
       "36  5.991009e-07  0.000000e+00  0.000000e+00  0.000000e+00  0.0  \n",
       "37  1.108337e-05  6.157426e-07  0.000000e+00  0.000000e+00  0.0  \n",
       "38  1.403893e-04  1.169911e-05  6.323843e-07  0.000000e+00  0.0  \n",
       "39  1.368796e-03  1.520884e-04  1.233149e-05  6.490260e-07  0.0  \n",
       "\n",
       "[25 rows x 25 columns]"
      ]
     },
     "execution_count": 10,
     "metadata": {},
     "output_type": "execute_result"
    }
   ],
   "source": [
    "#3.004502e+07 - 30 minutes\n",
    "temp = times/(3.004502e+07*2)\n",
    "temp"
   ]
  },
  {
   "cell_type": "code",
   "execution_count": 11,
   "metadata": {},
   "outputs": [
    {
     "data": {
      "text/plain": [
       "<matplotlib.image.AxesImage at 0x207d9460b70>"
      ]
     },
     "execution_count": 11,
     "metadata": {},
     "output_type": "execute_result"
    },
    {
     "data": {
      "image/png": "[encoded data removed]",
      "text/plain": [
       "<Figure size 432x288 with 1 Axes>"
      ]
     },
     "metadata": {
      "needs_background": "light"
     },
     "output_type": "display_data"
    }
   ],
   "source": [
    "plt.imshow(temp)"
   ]
  },
  {
   "cell_type": "markdown",
   "metadata": {},
   "source": [
    "# sampler convergence "
   ]
  },
  {
   "cell_type": "code",
   "execution_count": 12,
   "metadata": {
    "code_folding": []
   },
   "outputs": [],
   "source": [
    "def convergence_single_experiment(N,k,recursion_msf = False) : \n",
    "    y_from_x_probs = np.random.rand(N)\n",
    "    not_y_from_x_probs = 1- y_from_x_probs\n",
    "    msf = msf_creator(y_from_x_probs,not_y_from_x_probs,recursion_msf)\n",
    "    print(f\"entire space size: {math.factorial(N)/(math.factorial(N-k)*math.factorial(k))}\")\n",
    "    \n",
    "    ns_of_iters = np.logspace(4.5,2,15)\n",
    "    ns_iters = []\n",
    "    means = [] \n",
    "    stds = []\n",
    "    first_res = sample_msf_using_sim(msf,int(max(ns_of_iters)),recursion_msf)\n",
    "    for n_iter in ns_of_iters:\n",
    "        sampled_from_simu = sample_msf_using_sim(msf,int(n_iter),recursion_msf)\n",
    "        error = abs(first_res - sampled_from_simu)[first_res != 0]\n",
    "        ns_iters.append(int(n_iter))\n",
    "        means.append(np.mean(error))\n",
    "        stds.append(np.std(error))\n",
    "\n",
    "#         print(f\"simulation size: {int(n_iter)}, error mean: {np.mean(error)}, error std: {np.std(error)} \")\n",
    "    plt.errorbar(ns_iters,means, stds, linestyle='None', marker='^')\n",
    "    plt.show()\n",
    "\n",
    "\n"
   ]
  },
  {
   "cell_type": "code",
   "execution_count": 13,
   "metadata": {},
   "outputs": [
    {
     "name": "stderr",
     "output_type": "stream",
     "text": [
      "  0%|▎                                                                            | 112/31622 [00:00<00:58, 539.70it/s]"
     ]
    },
    {
     "name": "stdout",
     "output_type": "stream",
     "text": [
      "entire space size: 252.0\n"
     ]
    },
    {
     "name": "stderr",
     "output_type": "stream",
     "text": [
      "100%|███████████████████████████████████████████████████████████████████████████| 31622/31622 [00:57<00:00, 550.91it/s]\n",
      "100%|███████████████████████████████████████████████████████████████████████████| 31622/31622 [00:55<00:00, 572.40it/s]\n",
      "100%|███████████████████████████████████████████████████████████████████████████| 20961/20961 [00:38<00:00, 547.13it/s]\n",
      "100%|███████████████████████████████████████████████████████████████████████████| 13894/13894 [00:24<00:00, 564.70it/s]\n",
      "100%|█████████████████████████████████████████████████████████████████████████████| 9210/9210 [00:16<00:00, 551.58it/s]\n",
      "100%|█████████████████████████████████████████████████████████████████████████████| 6105/6105 [00:09<00:00, 634.07it/s]\n",
      "100%|█████████████████████████████████████████████████████████████████████████████| 4047/4047 [00:07<00:00, 539.60it/s]\n",
      "100%|█████████████████████████████████████████████████████████████████████████████| 2682/2682 [00:04<00:00, 554.27it/s]\n",
      "100%|█████████████████████████████████████████████████████████████████████████████| 1778/1778 [00:03<00:00, 531.92it/s]\n",
      "100%|█████████████████████████████████████████████████████████████████████████████| 1178/1178 [00:02<00:00, 535.31it/s]\n",
      "100%|███████████████████████████████████████████████████████████████████████████████| 781/781 [00:01<00:00, 559.99it/s]\n",
      "100%|███████████████████████████████████████████████████████████████████████████████| 517/517 [00:00<00:00, 689.47it/s]\n",
      "100%|███████████████████████████████████████████████████████████████████████████████| 343/343 [00:00<00:00, 437.15it/s]\n",
      "100%|███████████████████████████████████████████████████████████████████████████████| 227/227 [00:00<00:00, 623.81it/s]\n",
      "100%|███████████████████████████████████████████████████████████████████████████████| 150/150 [00:00<00:00, 435.80it/s]\n",
      "100%|███████████████████████████████████████████████████████████████████████████████| 100/100 [00:00<00:00, 427.35it/s]\n"
     ]
    },
    {
     "data": {
      "image/png": "[encoded data removed]",
      "text/plain": [
       "<Figure size 432x288 with 1 Axes>"
      ]
     },
     "metadata": {
      "needs_background": "light"
     },
     "output_type": "display_data"
    }
   ],
   "source": [
    "convergence_single_experiment(10,5)"
   ]
  },
  {
   "cell_type": "code",
   "execution_count": 14,
   "metadata": {},
   "outputs": [
    {
     "name": "stderr",
     "output_type": "stream",
     "text": [
      "  3%|██▎                                                                          | 942/31622 [00:01<01:08, 451.05it/s]"
     ]
    },
    {
     "name": "stdout",
     "output_type": "stream",
     "text": [
      "entire space size: 1.008913445455642e+29\n"
     ]
    },
    {
     "name": "stderr",
     "output_type": "stream",
     "text": [
      "100%|███████████████████████████████████████████████████████████████████████████| 31622/31622 [00:56<00:00, 560.01it/s]\n",
      "100%|███████████████████████████████████████████████████████████████████████████| 31622/31622 [00:57<00:00, 551.35it/s]\n",
      "100%|███████████████████████████████████████████████████████████████████████████| 20961/20961 [00:37<00:00, 562.73it/s]\n",
      "100%|███████████████████████████████████████████████████████████████████████████| 13894/13894 [00:24<00:00, 577.38it/s]\n",
      "100%|█████████████████████████████████████████████████████████████████████████████| 9210/9210 [00:17<00:00, 531.19it/s]\n",
      "100%|█████████████████████████████████████████████████████████████████████████████| 6105/6105 [00:11<00:00, 547.38it/s]\n",
      "100%|█████████████████████████████████████████████████████████████████████████████| 4047/4047 [00:07<00:00, 574.57it/s]\n",
      "100%|█████████████████████████████████████████████████████████████████████████████| 2682/2682 [00:04<00:00, 581.00it/s]\n",
      "100%|█████████████████████████████████████████████████████████████████████████████| 1778/1778 [00:03<00:00, 554.39it/s]\n",
      "100%|█████████████████████████████████████████████████████████████████████████████| 1178/1178 [00:02<00:00, 560.99it/s]\n",
      "100%|███████████████████████████████████████████████████████████████████████████████| 781/781 [00:01<00:00, 545.29it/s]\n",
      "100%|███████████████████████████████████████████████████████████████████████████████| 517/517 [00:00<00:00, 549.03it/s]\n",
      "100%|███████████████████████████████████████████████████████████████████████████████| 343/343 [00:00<00:00, 562.05it/s]\n",
      "100%|███████████████████████████████████████████████████████████████████████████████| 227/227 [00:00<00:00, 504.78it/s]\n",
      "100%|███████████████████████████████████████████████████████████████████████████████| 150/150 [00:00<00:00, 536.47it/s]\n",
      "100%|███████████████████████████████████████████████████████████████████████████████| 100/100 [00:00<00:00, 553.83it/s]\n"
     ]
    },
    {
     "data": {
      "image/png": "[encoded data removed]",
      "text/plain": [
       "<Figure size 432x288 with 1 Axes>"
      ]
     },
     "metadata": {
      "needs_background": "light"
     },
     "output_type": "display_data"
    }
   ],
   "source": [
    "convergence_single_experiment(100,50)"
   ]
  },
  {
   "cell_type": "code",
   "execution_count": 15,
   "metadata": {},
   "outputs": [
    {
     "name": "stderr",
     "output_type": "stream",
     "text": [
      "  0%|▎                                                                           | 108/31622 [00:00<00:29, 1060.14it/s]"
     ]
    },
    {
     "name": "stdout",
     "output_type": "stream",
     "text": [
      "entire space size: 17310309456440.0\n"
     ]
    },
    {
     "name": "stderr",
     "output_type": "stream",
     "text": [
      "100%|███████████████████████████████████████████████████████████████████████████| 31622/31622 [00:46<00:00, 678.11it/s]\n",
      "100%|███████████████████████████████████████████████████████████████████████████| 31622/31622 [01:00<00:00, 521.21it/s]\n",
      "100%|███████████████████████████████████████████████████████████████████████████| 20961/20961 [00:29<00:00, 699.96it/s]\n",
      "100%|███████████████████████████████████████████████████████████████████████████| 13894/13894 [00:14<00:00, 956.72it/s]\n",
      "100%|████████████████████████████████████████████████████████████████████████████| 9210/9210 [00:08<00:00, 1026.33it/s]\n",
      "100%|████████████████████████████████████████████████████████████████████████████| 6105/6105 [00:05<00:00, 1068.02it/s]\n",
      "100%|█████████████████████████████████████████████████████████████████████████████| 4047/4047 [00:04<00:00, 955.09it/s]\n",
      "100%|████████████████████████████████████████████████████████████████████████████| 2682/2682 [00:02<00:00, 1021.71it/s]\n",
      "100%|█████████████████████████████████████████████████████████████████████████████| 1778/1778 [00:02<00:00, 860.03it/s]\n",
      "100%|████████████████████████████████████████████████████████████████████████████| 1178/1178 [00:01<00:00, 1059.74it/s]\n",
      "100%|███████████████████████████████████████████████████████████████████████████████| 781/781 [00:00<00:00, 937.94it/s]\n",
      "100%|██████████████████████████████████████████████████████████████████████████████| 517/517 [00:00<00:00, 1199.75it/s]\n",
      "100%|███████████████████████████████████████████████████████████████████████████████| 343/343 [00:00<00:00, 859.70it/s]\n",
      "100%|██████████████████████████████████████████████████████████████████████████████| 227/227 [00:00<00:00, 1105.59it/s]\n",
      "100%|███████████████████████████████████████████████████████████████████████████████| 150/150 [00:00<00:00, 863.85it/s]\n",
      "100%|██████████████████████████████████████████████████████████████████████████████| 100/100 [00:00<00:00, 1000.60it/s]\n"
     ]
    },
    {
     "data": {
      "image/png": "[encoded data removed]",
      "text/plain": [
       "<Figure size 432x288 with 1 Axes>"
      ]
     },
     "metadata": {
      "needs_background": "light"
     },
     "output_type": "display_data"
    }
   ],
   "source": [
    "convergence_single_experiment(100,90)"
   ]
  },
  {
   "cell_type": "code",
   "execution_count": 16,
   "metadata": {},
   "outputs": [
    {
     "name": "stderr",
     "output_type": "stream",
     "text": [
      "  4%|███▎                                                                       | 1381/31622 [00:01<00:26, 1125.40it/s]"
     ]
    },
    {
     "name": "stdout",
     "output_type": "stream",
     "text": [
      "entire space size: 1.4249049394321366e+45\n"
     ]
    },
    {
     "name": "stderr",
     "output_type": "stream",
     "text": [
      "100%|███████████████████████████████████████████████████████████████████████████| 31622/31622 [00:39<00:00, 800.24it/s]\n",
      "100%|███████████████████████████████████████████████████████████████████████████| 31622/31622 [00:59<00:00, 529.39it/s]\n",
      "100%|███████████████████████████████████████████████████████████████████████████| 20961/20961 [00:35<00:00, 590.21it/s]\n",
      "100%|███████████████████████████████████████████████████████████████████████████| 13894/13894 [00:25<00:00, 535.00it/s]\n",
      "100%|█████████████████████████████████████████████████████████████████████████████| 9210/9210 [00:17<00:00, 520.69it/s]\n",
      "100%|█████████████████████████████████████████████████████████████████████████████| 6105/6105 [00:09<00:00, 623.89it/s]\n",
      "100%|█████████████████████████████████████████████████████████████████████████████| 4047/4047 [00:08<00:00, 478.97it/s]\n",
      "100%|█████████████████████████████████████████████████████████████████████████████| 2682/2682 [00:04<00:00, 560.79it/s]\n",
      "100%|█████████████████████████████████████████████████████████████████████████████| 1778/1778 [00:03<00:00, 447.27it/s]\n",
      "100%|█████████████████████████████████████████████████████████████████████████████| 1178/1178 [00:01<00:00, 761.27it/s]\n",
      "100%|███████████████████████████████████████████████████████████████████████████████| 781/781 [00:01<00:00, 534.54it/s]\n",
      "100%|███████████████████████████████████████████████████████████████████████████████| 517/517 [00:01<00:00, 495.51it/s]\n",
      "100%|███████████████████████████████████████████████████████████████████████████████| 343/343 [00:01<00:00, 291.98it/s]\n",
      "100%|███████████████████████████████████████████████████████████████████████████████| 227/227 [00:00<00:00, 770.36it/s]\n",
      "100%|███████████████████████████████████████████████████████████████████████████████| 150/150 [00:00<00:00, 549.22it/s]\n",
      "100%|███████████████████████████████████████████████████████████████████████████████| 100/100 [00:00<00:00, 256.86it/s]\n"
     ]
    },
    {
     "data": {
      "image/png": "[encoded data removed]",
      "text/plain": [
       "<Figure size 432x288 with 1 Axes>"
      ]
     },
     "metadata": {
      "needs_background": "light"
     },
     "output_type": "display_data"
    }
   ],
   "source": [
    "convergence_single_experiment(400,30)"
   ]
  },
  {
   "cell_type": "code",
   "execution_count": 17,
   "metadata": {},
   "outputs": [
    {
     "name": "stderr",
     "output_type": "stream",
     "text": [
      "  2%|█▌                                                                           | 666/31622 [00:01<02:06, 244.68it/s]"
     ]
    },
    {
     "name": "stdout",
     "output_type": "stream",
     "text": [
      "entire space size: 2.2418547915543375e+96\n"
     ]
    },
    {
     "name": "stderr",
     "output_type": "stream",
     "text": [
      "100%|███████████████████████████████████████████████████████████████████████████| 31622/31622 [00:36<00:00, 872.80it/s]\n",
      "100%|███████████████████████████████████████████████████████████████████████████| 31622/31622 [00:33<00:00, 946.52it/s]\n",
      "100%|███████████████████████████████████████████████████████████████████████████| 20961/20961 [00:22<00:00, 926.66it/s]\n",
      "100%|███████████████████████████████████████████████████████████████████████████| 13894/13894 [00:15<00:00, 874.91it/s]\n",
      "100%|█████████████████████████████████████████████████████████████████████████████| 9210/9210 [00:11<00:00, 835.61it/s]\n",
      "100%|█████████████████████████████████████████████████████████████████████████████| 6105/6105 [00:08<00:00, 708.29it/s]\n",
      "100%|█████████████████████████████████████████████████████████████████████████████| 4047/4047 [00:07<00:00, 575.94it/s]\n",
      "100%|█████████████████████████████████████████████████████████████████████████████| 2682/2682 [00:05<00:00, 523.99it/s]\n",
      "100%|█████████████████████████████████████████████████████████████████████████████| 1778/1778 [00:03<00:00, 509.76it/s]\n",
      "100%|█████████████████████████████████████████████████████████████████████████████| 1178/1178 [00:02<00:00, 564.12it/s]\n",
      "100%|███████████████████████████████████████████████████████████████████████████████| 781/781 [00:01<00:00, 497.92it/s]\n",
      "100%|███████████████████████████████████████████████████████████████████████████████| 517/517 [00:01<00:00, 398.43it/s]\n",
      "100%|███████████████████████████████████████████████████████████████████████████████| 343/343 [00:00<00:00, 485.56it/s]\n",
      "100%|███████████████████████████████████████████████████████████████████████████████| 227/227 [00:00<00:00, 464.58it/s]\n",
      "100%|███████████████████████████████████████████████████████████████████████████████| 150/150 [00:00<00:00, 445.96it/s]\n",
      "100%|███████████████████████████████████████████████████████████████████████████████| 100/100 [00:00<00:00, 431.64it/s]\n"
     ]
    },
    {
     "data": {
      "image/png": "[encoded data removed]",
      "text/plain": [
       "<Figure size 432x288 with 1 Axes>"
      ]
     },
     "metadata": {
      "needs_background": "light"
     },
     "output_type": "display_data"
    }
   ],
   "source": [
    "convergence_single_experiment(400,300)"
   ]
  },
  {
   "cell_type": "code",
   "execution_count": 18,
   "metadata": {},
   "outputs": [
    {
     "name": "stderr",
     "output_type": "stream",
     "text": [
      "  7%|█████▎                                                                      | 2201/31622 [00:04<00:55, 526.02it/s]"
     ]
    },
    {
     "name": "stdout",
     "output_type": "stream",
     "text": [
      "entire space size: 2.0506460821321628e+123\n"
     ]
    },
    {
     "name": "stderr",
     "output_type": "stream",
     "text": [
      "100%|███████████████████████████████████████████████████████████████████████████| 31622/31622 [00:53<00:00, 590.38it/s]\n",
      "100%|███████████████████████████████████████████████████████████████████████████| 31622/31622 [01:00<00:00, 521.99it/s]\n",
      "100%|███████████████████████████████████████████████████████████████████████████| 20961/20961 [00:40<00:00, 518.83it/s]\n",
      "100%|███████████████████████████████████████████████████████████████████████████| 13894/13894 [00:27<00:00, 498.23it/s]\n",
      "100%|█████████████████████████████████████████████████████████████████████████████| 9210/9210 [00:17<00:00, 521.99it/s]\n",
      "100%|█████████████████████████████████████████████████████████████████████████████| 6105/6105 [00:11<00:00, 542.72it/s]\n",
      "100%|█████████████████████████████████████████████████████████████████████████████| 4047/4047 [00:07<00:00, 535.96it/s]\n",
      "100%|█████████████████████████████████████████████████████████████████████████████| 2682/2682 [00:05<00:00, 529.35it/s]\n",
      "100%|█████████████████████████████████████████████████████████████████████████████| 1778/1778 [00:03<00:00, 522.39it/s]\n",
      "100%|█████████████████████████████████████████████████████████████████████████████| 1178/1178 [00:02<00:00, 544.77it/s]\n",
      "100%|███████████████████████████████████████████████████████████████████████████████| 781/781 [00:01<00:00, 520.99it/s]\n",
      "100%|███████████████████████████████████████████████████████████████████████████████| 517/517 [00:01<00:00, 512.79it/s]\n",
      "100%|███████████████████████████████████████████████████████████████████████████████| 343/343 [00:00<00:00, 526.78it/s]\n",
      "100%|███████████████████████████████████████████████████████████████████████████████| 227/227 [00:00<00:00, 533.38it/s]\n",
      "100%|███████████████████████████████████████████████████████████████████████████████| 150/150 [00:00<00:00, 520.41it/s]\n",
      "100%|███████████████████████████████████████████████████████████████████████████████| 100/100 [00:00<00:00, 618.89it/s]\n"
     ]
    },
    {
     "data": {
      "image/png": "[encoded data removed]",
      "text/plain": [
       "<Figure size 432x288 with 1 Axes>"
      ]
     },
     "metadata": {
      "needs_background": "light"
     },
     "output_type": "display_data"
    }
   ],
   "source": [
    "convergence_single_experiment(700,100)"
   ]
  },
  {
   "cell_type": "code",
   "execution_count": 19,
   "metadata": {},
   "outputs": [
    {
     "name": "stderr",
     "output_type": "stream",
     "text": [
      "  8%|██████▍                                                                     | 2653/31622 [00:04<00:54, 536.24it/s]"
     ]
    },
    {
     "name": "stdout",
     "output_type": "stream",
     "text": [
      "entire space size: 2.5170054646083406e+180\n"
     ]
    },
    {
     "name": "stderr",
     "output_type": "stream",
     "text": [
      "100%|███████████████████████████████████████████████████████████████████████████| 31622/31622 [00:58<00:00, 544.61it/s]\n",
      "100%|███████████████████████████████████████████████████████████████████████████| 31622/31622 [00:58<00:00, 539.85it/s]\n",
      "100%|███████████████████████████████████████████████████████████████████████████| 20961/20961 [00:38<00:00, 542.46it/s]\n",
      "100%|███████████████████████████████████████████████████████████████████████████| 13894/13894 [00:26<00:00, 523.38it/s]\n",
      "100%|█████████████████████████████████████████████████████████████████████████████| 9210/9210 [00:17<00:00, 518.89it/s]\n",
      "100%|█████████████████████████████████████████████████████████████████████████████| 6105/6105 [00:11<00:00, 510.60it/s]\n",
      "100%|█████████████████████████████████████████████████████████████████████████████| 4047/4047 [00:07<00:00, 515.17it/s]\n",
      "100%|█████████████████████████████████████████████████████████████████████████████| 2682/2682 [00:05<00:00, 515.82it/s]\n",
      "100%|█████████████████████████████████████████████████████████████████████████████| 1778/1778 [00:03<00:00, 513.15it/s]\n",
      "100%|█████████████████████████████████████████████████████████████████████████████| 1178/1178 [00:02<00:00, 508.24it/s]\n",
      "100%|███████████████████████████████████████████████████████████████████████████████| 781/781 [00:01<00:00, 518.73it/s]\n",
      "100%|███████████████████████████████████████████████████████████████████████████████| 517/517 [00:00<00:00, 546.80it/s]\n",
      "100%|███████████████████████████████████████████████████████████████████████████████| 343/343 [00:00<00:00, 509.67it/s]\n",
      "100%|███████████████████████████████████████████████████████████████████████████████| 227/227 [00:00<00:00, 485.74it/s]\n",
      "100%|███████████████████████████████████████████████████████████████████████████████| 150/150 [00:00<00:00, 522.94it/s]\n",
      "100%|███████████████████████████████████████████████████████████████████████████████| 100/100 [00:00<00:00, 551.44it/s]\n"
     ]
    },
    {
     "data": {
      "image/png": "[encoded data removed]",
      "text/plain": [
       "<Figure size 432x288 with 1 Axes>"
      ]
     },
     "metadata": {
      "needs_background": "light"
     },
     "output_type": "display_data"
    }
   ],
   "source": [
    "convergence_single_experiment(700,500)"
   ]
  }
 ],
 "metadata": {
  "hide_input": false,
  "kernelspec": {
   "display_name": "Python 3",
   "language": "python",
   "name": "python3"
  },
  "language_info": {
   "codemirror_mode": {
    "name": "ipython",
    "version": 3
   },
   "file_extension": ".py",
   "mimetype": "text/x-python",
   "name": "python",
   "nbconvert_exporter": "python",
   "pygments_lexer": "ipython3",
   "version": "3.6.5"
  },
  "toc": {
   "base_numbering": 1,
   "nav_menu": {},
   "number_sections": true,
   "sideBar": true,
   "skip_h1_title": false,
   "title_cell": "Table of Contents",
   "title_sidebar": "Contents",
   "toc_cell": false,
   "toc_position": {},
   "toc_section_display": true,
   "toc_window_display": false
  }
 },
 "nbformat": 4,
 "nbformat_minor": 2
}
