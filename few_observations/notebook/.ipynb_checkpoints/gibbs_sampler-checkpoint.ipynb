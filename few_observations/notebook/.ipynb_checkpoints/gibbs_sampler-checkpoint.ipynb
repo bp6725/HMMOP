{
 "cells": [
  {
   "cell_type": "markdown",
   "metadata": {},
   "source": [
    "# Init"
   ]
  },
  {
   "cell_type": "code",
   "execution_count": 4,
   "metadata": {},
   "outputs": [],
   "source": [
    "import sys\n",
    "sys.path.append(r\"C:\\Repos\\pomegranate\")"
   ]
  },
  {
   "cell_type": "code",
   "execution_count": 5,
   "metadata": {},
   "outputs": [],
   "source": [
    "import pomegranate\n",
    "from pomegranate import *\n",
    "import numpy as np\n",
    "import math \n",
    "import matplotlib.pyplot as plt\n",
    "from functools import partial \n",
    "import itertools\n",
    "import random\n",
    "import copy\n",
    "import pandas as pd\n",
    "import itertools\n",
    "\n",
    "from numba import jit\n",
    "import numba\n",
    "\n",
    "from tqdm import tqdm\n",
    "import snakeviz\n",
    "%load_ext snakeviz\n"
   ]
  },
  {
   "cell_type": "markdown",
   "metadata": {},
   "source": [
    "## build Markov model "
   ]
  },
  {
   "cell_type": "code",
   "execution_count": 38,
   "metadata": {
    "code_folding": []
   },
   "outputs": [],
   "source": [
    "def build_pome_model(N,d,mues,sigmas) : \n",
    "    model = HiddenMarkovModel()\n",
    "\n",
    "    all_pome_distrbutions = {}\n",
    "    for m,s in itertools.product(range(N),range(d)) : \n",
    "        state = State(NormalDistribution(mues[m,s], sigmas[m,s]))\n",
    "        all_pome_distrbutions[(m,s)] = state\n",
    "\n",
    "        model.add_state(state)\n",
    "        \n",
    "    for l in range(N-1) : \n",
    "        for s in range(d) :\n",
    "            n_of_out_trans = np.random.randint(2,d-1)\n",
    "            out_trans = np.random.randint(0,5,n_of_out_trans)\n",
    "\n",
    "            for out_t in out_trans : \n",
    "                model.add_transition(all_pome_distrbutions[l,s],all_pome_distrbutions[l+1,out_t],1/n_of_out_trans)\n",
    "\n",
    "    for s in range(d) : \n",
    "        model.add_transition(model.start,all_pome_distrbutions[0,s],1)\n",
    "        model.add_transition(model.start,all_pome_distrbutions[N-1,s],1)\n",
    "\n",
    "    model.bake(None)\n",
    "\n",
    "    return model,all_pome_distrbutions"
   ]
  },
  {
   "cell_type": "code",
   "execution_count": 6,
   "metadata": {},
   "outputs": [
    {
     "ename": "NameError",
     "evalue": "name 'build_pome_model' is not defined",
     "output_type": "error",
     "traceback": [
      "\u001b[1;31m---------------------------------------------------------------------------\u001b[0m",
      "\u001b[1;31mNameError\u001b[0m                                 Traceback (most recent call last)",
      "\u001b[1;32m<ipython-input-6-287466f5d8c8>\u001b[0m in \u001b[0;36m<module>\u001b[1;34m()\u001b[0m\n\u001b[0;32m      5\u001b[0m \u001b[0msigmas\u001b[0m \u001b[1;33m=\u001b[0m \u001b[0mnp\u001b[0m\u001b[1;33m.\u001b[0m\u001b[0mones_like\u001b[0m\u001b[1;33m(\u001b[0m\u001b[0mmues\u001b[0m\u001b[1;33m)\u001b[0m\u001b[1;33m\u001b[0m\u001b[0m\n\u001b[0;32m      6\u001b[0m \u001b[1;33m\u001b[0m\u001b[0m\n\u001b[1;32m----> 7\u001b[1;33m \u001b[0mpome_model\u001b[0m\u001b[1;33m,\u001b[0m\u001b[0mall_pome_distrbutions\u001b[0m \u001b[1;33m=\u001b[0m\u001b[0mbuild_pome_model\u001b[0m\u001b[1;33m(\u001b[0m\u001b[0mN\u001b[0m\u001b[1;33m,\u001b[0m\u001b[0md\u001b[0m\u001b[1;33m,\u001b[0m\u001b[0mmues\u001b[0m\u001b[1;33m,\u001b[0m\u001b[0msigmas\u001b[0m\u001b[1;33m)\u001b[0m\u001b[1;33m\u001b[0m\u001b[0m\n\u001b[0m\u001b[0;32m      8\u001b[0m \u001b[1;33m\u001b[0m\u001b[0m\n",
      "\u001b[1;31mNameError\u001b[0m: name 'build_pome_model' is not defined"
     ]
    }
   ],
   "source": [
    "N = 5 # chain length\n",
    "d = 5 # possible states\n",
    "\n",
    "mues = np.round(np.random.rand(N,d)*10,2)\n",
    "sigmas = np.ones_like(mues)\n",
    "\n",
    "pome_model,all_pome_distrbutions =build_pome_model(N,d,mues,sigmas)\n",
    "\n",
    "\n"
   ]
  },
  {
   "cell_type": "code",
   "execution_count": 54,
   "metadata": {},
   "outputs": [],
   "source": [
    "# pome_model.dense_transition_matrix()"
   ]
  },
  {
   "cell_type": "markdown",
   "metadata": {},
   "source": [
    "# build gibbs sampler"
   ]
  },
  {
   "cell_type": "markdown",
   "metadata": {},
   "source": [
    "how do we pick initial values ? \n",
    "from the paper  : ξ = (min yk +max yk)/2 and κ = 1/R2. because we cant match observations:\n",
    "we will transfer yk into - ykl(yk for time l) where : ykl =  mean_j{ykj*bin(j,l)*bin(K-j,N-l)}; p=argmax_p(bin(K,N))"
   ]
  },
  {
   "cell_type": "code",
   "execution_count": null,
   "metadata": {
    "code_folding": [
     0
    ]
   },
   "outputs": [],
   "source": [
    "def calc_weighted_obs_for_init(sampled_trajs,N):\n",
    "    weighted_obs_matrix_for_initial_conditions = np.zeros((sampled_trajs.shape[0],N))\n",
    "    for l in range(N):\n",
    "        for traj_ind,traj in enumerate(sampled_trajs) : \n",
    "            weighted_obs = 0 \n",
    "            for obs_ind,obs in enumerate(traj) :\n",
    "                weighted_obs += obs * prob_for_assigment(l,obs_ind,N,len(traj))\n",
    "\n",
    "            weighted_obs_matrix_for_initial_conditions[traj_ind,l] = weighted_obs/len(traj)\n",
    "    return weighted_obs_matrix_for_initial_conditions\n",
    "\n",
    "weighted_obs = calc_weighted_obs_for_init(sampled_trajs,N)\n",
    "ξ = (weighted_obs.max(axis=0)+weighted_obs.min(axis=0))/2\n",
    "κ = 1/((weighted_obs.max(axis=0)+weighted_obs.min(axis=0))**2)"
   ]
  },
  {
   "cell_type": "code",
   "execution_count": null,
   "metadata": {
    "code_folding": [
     1,
     20,
     26
    ]
   },
   "outputs": [],
   "source": [
    "@jit\n",
    "def _msf_creator(y_from_x_probs,not_y_from_x_probs,w) : \n",
    "    prob = 1\n",
    "    i = 0 \n",
    "    i_w = 0\n",
    "    while (i < len(y_from_x_probs)) : \n",
    "        if i_w > len(y_from_x_probs) :\n",
    "            raise Exception() \n",
    "        \n",
    "        if i_w >= len(w) : \n",
    "            prob = prob*not_y_from_x_probs[i]\n",
    "        else : \n",
    "            if i < w[i_w] : \n",
    "                prob = prob*not_y_from_x_probs[i]\n",
    "            if i == w[i_w] : \n",
    "                prob = prob*y_from_x_probs[i]\n",
    "                i_w += 1\n",
    "        i+= 1\n",
    "    return prob\n",
    "\n",
    "def msf_creator(y_from_x_probs,not_y_from_x_probs,is_rec = False) : \n",
    "    if not is_rec : \n",
    "        return partial(_msf_creator,y_from_x_probs,not_y_from_x_probs)\n",
    "    else : \n",
    "        return partial(_rec_msf_creator,y_from_x_probs,not_y_from_x_probs)\n",
    "    \n",
    "def sample_cond_prob_single_dim(dims_vector,ind_dim_for_sample,msf,recursion_msf) : \n",
    "    _pre_value = dims_vector[(ind_dim_for_sample - 1)] if ind_dim_for_sample !=0 else -1\n",
    "    _post_value = dims_vector[(ind_dim_for_sample + 1)] if (ind_dim_for_sample != (k-1)) else N\n",
    "\n",
    "    possible_options_for_dim = range(_pre_value+1,_post_value)\n",
    "    \n",
    "    _dims_vector = copy.copy(dims_vector)\n",
    "    probs_of_opts = []\n",
    "    for poss_opt in possible_options_for_dim : \n",
    "        _dims_vector[ind_dim_for_sample] = poss_opt\n",
    "        if recursion_msf : \n",
    "            prob_of_opt = msf(np.array(_dims_vector))\n",
    "        else : \n",
    "            prob_of_opt = msf(np.array(_dims_vector))\n",
    "        probs_of_opts.append(prob_of_opt)\n",
    "    \n",
    "    probs_of_opts = np.array(probs_of_opts)/sum(probs_of_opts)\n",
    "    \n",
    "    return np.random.choice(possible_options_for_dim,p=probs_of_opts)\n",
    "\n",
    "def sample_msf_using_sim(msf,n_iter,recursion_msf = False) : \n",
    "    initial_vector = sorted(random.sample(range(N),k))\n",
    "    all_sampled_full_dims = []\n",
    "    \n",
    "    res_samples_per_dim = np.zeros((N,k))\n",
    "    _curr_dim_vector = copy.copy(initial_vector)\n",
    "    with tqdm(total=n_iter) as pbar:\n",
    "        for _ in range(n_iter):\n",
    "            for dim in range(k) : \n",
    "                _sample = sample_cond_prob_single_dim(_curr_dim_vector,dim,msf,recursion_msf)\n",
    "                _curr_dim_vector[dim] = _sample\n",
    "                res_samples_per_dim[_sample,dim] += 1\n",
    "                all_sampled_full_dims.append(_curr_dim_vector)\n",
    "            pbar.update(1)\n",
    "\n",
    "    res_samples_per_dim = res_samples_per_dim/n_iter\n",
    "    return res_samples_per_dim,all_sampled_full_dims\n",
    "    "
   ]
  },
  {
   "cell_type": "code",
   "execution_count": null,
   "metadata": {
    "code_folding": [
     0,
     9,
     12,
     29,
     35,
     55,
     60,
     104
    ]
   },
   "outputs": [],
   "source": [
    "def sample_mus_from_params(all_sampled_states,sum_relvent_observations,ξ,κ,N,d,sigmas):\n",
    "    Sis = sum_relvent_observations\n",
    "    nis = all_sampled_states\n",
    "    \n",
    "    _mues = (Sis+ ξ*κ*sigmas)/(κ*sigmas+nis)\n",
    "    _sigs = (sigmas)/(κ*sigmas+nis)\n",
    "    \n",
    "    return np.random.normal(_mues,_sigs)\n",
    "\n",
    "def sample_trans_from_params(all_transitions,N,d) : \n",
    "    return np.random.dirichlet(all_transitions + np.ones_like(all_transitions))\n",
    "    \n",
    "def sample_ws_from_params(sampled_trajs,curr_walk,curr_mu,curr_trans,curr_walk,N,d) : \n",
    "    result_per_traj = [] \n",
    "    for traj_ind,traj in enumerate(sampled_trajs) : \n",
    "        _states_from_walk = extract_relevent_state_from_walk(curr_walk[traj_ind])\n",
    "        \n",
    "        y_from_x_probs = map(lambda sample_state:sample_state[1](sample_state[0]),zip(traj,_states_from_walk))\n",
    "        not_y_from_x_probs = 1- y_from_x_probs\n",
    "        msf = msf_creator(y_from_x_probs,not_y_from_x_probs)\n",
    "        \n",
    "        _,all_simulted_w = sample_msf_using_sim(msf,500,False)\n",
    "        probs_per_sim_sample = list(map(lambda x:msf(x),all_simulted_w))\n",
    "        \n",
    "        ind_of_sample = np.random.choice(range(len(probs_per_sim_sample)),p=probs_per_sim_sample)\n",
    "        \n",
    "        result_per_traj.appen(all_simulted_w[ind_of_sample])\n",
    "    return result_per_traj\n",
    "\n",
    "def _build_states(curr_mu,sigmas) : \n",
    "    states = {}\n",
    "    for i,j in itertools.product(range(curr_mu.shape[0]),range(curr_mu.shape[1])) : \n",
    "        states[(i,j)] = pomegranate.distributions.NormalDistribution(curr_mu[i,j],sigmas[i,j])\n",
    "    return states\n",
    "\n",
    "def _build_emmisions_for_sample(sample,w,states,d,N) :\n",
    "    emmisions = {}\n",
    "    ind_obs = 0 \n",
    "    for time_ind in range(N)  : \n",
    "        if time_ind in w :\n",
    "            observation = sample[ind_obs]\n",
    "            ind_obs += 1\n",
    "        else :\n",
    "            observation = None\n",
    "        _sum =0\n",
    "        for state_ind in range(d) : \n",
    "            _emm = states[(state_ind,time_ind)](observation) if(observation is not None) else 1\n",
    "            emmisions[(state_ind,time_ind)] = _emm\n",
    "            _sum +=_emm \n",
    "            \n",
    "        for state_ind in range(d) : \n",
    "            emmisions[(state_ind,time_ind)] = emmisions[(state_ind,time_ind)] /  _sum\n",
    "    \n",
    "    return emmisions\n",
    "\n",
    "def _build_start_prob(states,N,d):\n",
    "    _start_prob = {}\n",
    "    for state in states.keys():\n",
    "        _start_prob[state] = 1/d if state[1] == 0 else 0\n",
    "    \n",
    "def _fwd_bkw(observations, states, start_prob, trans_prob, emm_prob,N,d):\n",
    "    \"\"\"Forward–backward algorithm.\"\"\"\n",
    "    # Forward part of the algorithm\n",
    "    fwd = []\n",
    "    for i, observation_i in enumerate(observations):\n",
    "        f_curr = {}\n",
    "        for st in states:\n",
    "            if i == 0:\n",
    "                # base case for the forward part\n",
    "                prev_f_sum = start_prob[st]\n",
    "            else:\n",
    "                prev_f_sum = sum(f_prev[k] * trans_prob[k][st] for k in states)\n",
    "\n",
    "            f_curr[st] = emm_prob[st][observation_i] * prev_f_sum\n",
    "\n",
    "        fwd.append(f_curr)\n",
    "        f_prev = f_curr\n",
    "\n",
    "    p_fwd = sum(f_curr[k] * (1/d if k[1]==(N-1) else 0) for k in states)\n",
    "\n",
    "    # Backward part of the algorithm\n",
    "    bkw = []\n",
    "    for i, observation_i_plus in enumerate(reversed(observations[1:] + (None,))):\n",
    "        b_curr = {}\n",
    "        for st in states:\n",
    "            if i == 0:\n",
    "                # base case for backward part\n",
    "                b_curr[st] = (1/d if k[1]==(N-1) else 0)\n",
    "            else:\n",
    "                b_curr[st] = sum(trans_prob[st][l] * emm_prob[l][observation_i_plus] * b_prev[l] for l in states)\n",
    "\n",
    "        bkw.insert(0,b_curr)\n",
    "        b_prev = b_curr\n",
    "\n",
    "    p_bkw = sum(start_prob[l] * emm_prob[l][observations[0]] * b_curr[l] for l in states)\n",
    "\n",
    "    # Merging the two parts\n",
    "    posterior = []\n",
    "    for i in range(len(observations)):\n",
    "        posterior.append({st: fwd[i][st] * bkw[i][st] / p_fwd for st in states})\n",
    "\n",
    "    assert p_fwd == p_bkw\n",
    "    return fwd, bkw, posteriors\n",
    "\n",
    "def sample_walk_from_params(sampled_trajs,curr_ws,curr_mu,sigmas,curr_trans,N,d) : \n",
    "    states = _build_states(curr_mu,sigmas)\n",
    "    trans = _build_transitions(curr_trans)\n",
    "    start_prob = _build_start_prob(states,N,d) \n",
    "    \n",
    "    posteriors = [] \n",
    "    for i,sample in enumerate(sampled_trajs) : \n",
    "        emmisions = _build_emmisions_for_sample(sample,curr_w[i],states,N)\n",
    "        posterior = _fwd_bkw(sample,states,start_prob,trans,emmisions,N,d)\n",
    "        posteriors.append(posterior)\n",
    "    \n",
    "    return posteriors    \n",
    "\n",
    "\n",
    "    "
   ]
  },
  {
   "cell_type": "code",
   "execution_count": 9,
   "metadata": {
    "code_folding": [
     0
    ]
   },
   "outputs": [],
   "source": [
    "def build_initial_transitions(N,d) : \n",
    "    initial_transitions = {(i,j): {} for (i,j) in itertools.product(range(N),range(d))}\n",
    "    \n",
    "    for _s1 in initial_transitions.keys() : \n",
    "        for _s2 in initial_transitions.keys() : \n",
    "            initial_transitions[_s1][_s2] = 1 if ((_s2[1] - _s1[1]) == 1) else 0\n",
    "    return initial_transitions"
   ]
  },
  {
   "cell_type": "code",
   "execution_count": null,
   "metadata": {},
   "outputs": [],
   "source": [
    "curr_mus = initial_mus\n",
    "curr_trans = build_initial_transitions(N,d)\n",
    "curr_w = initial_w\n",
    "curr_walk = sample_walk_from_params(curr_mu,curr_trans,curr_w,N,d)\n",
    "\n",
    "all_walks = []\n",
    "for i in Ng_iters : \n",
    "    curr_mus = sample_mus_from_params(all_sampled_states,all_relvent_observations,ξ,κ,N,d,sigmas)\n",
    "    curr_trans = sample_trans_from_params(all_transitions,N,d)\n",
    "    curr_ws = sample_ws_from_params(sampled_trajs,curr_walk,curr_mu,curr_trans,curr_walk,N,d) #this supossed to heppen to each traj\n",
    "    curr_walk = sample_walk_from_params(sampled_trajs,curr_w,curr_mu,curr_trans,N,d)\n",
    "    \n",
    "    all_transitions += exrect_transitions_from_walk(curr_walk)\n",
    "    all_sampled_states += exrect_samples_from_walk(curr_walk)\n",
    "    all_relvent_observations += exrect_relvent_observations_given_walk(all_sampled_states,sampled_trajs)\n",
    "\n",
    "curr_w = sample_from_pw_given_params(curr_mu,curr_trans,N,d)"
   ]
  },
  {
   "cell_type": "code",
   "execution_count": null,
   "metadata": {},
   "outputs": [],
   "source": []
  },
  {
   "cell_type": "code",
   "execution_count": null,
   "metadata": {},
   "outputs": [],
   "source": []
  },
  {
   "cell_type": "code",
   "execution_count": null,
   "metadata": {},
   "outputs": [],
   "source": []
  },
  {
   "cell_type": "code",
   "execution_count": null,
   "metadata": {},
   "outputs": [],
   "source": []
  },
  {
   "cell_type": "code",
   "execution_count": null,
   "metadata": {},
   "outputs": [],
   "source": []
  }
 ],
 "metadata": {
  "hide_input": false,
  "kernelspec": {
   "display_name": "Python 3",
   "language": "python",
   "name": "python3"
  },
  "language_info": {
   "codemirror_mode": {
    "name": "ipython",
    "version": 3
   },
   "file_extension": ".py",
   "mimetype": "text/x-python",
   "name": "python",
   "nbconvert_exporter": "python",
   "pygments_lexer": "ipython3",
   "version": "3.6.5"
  },
  "toc": {
   "base_numbering": 1,
   "nav_menu": {},
   "number_sections": true,
   "sideBar": true,
   "skip_h1_title": false,
   "title_cell": "Table of Contents",
   "title_sidebar": "Contents",
   "toc_cell": false,
   "toc_position": {},
   "toc_section_display": true,
   "toc_window_display": false
  }
 },
 "nbformat": 4,
 "nbformat_minor": 2
}
