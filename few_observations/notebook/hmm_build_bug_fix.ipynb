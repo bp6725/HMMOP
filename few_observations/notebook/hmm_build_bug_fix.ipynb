{
 "cells": [
  {
   "cell_type": "code",
   "execution_count": 1,
   "metadata": {},
   "outputs": [],
   "source": [
    "import sys\n",
    "import numpy as np"
   ]
  },
  {
   "cell_type": "code",
   "execution_count": 2,
   "metadata": {},
   "outputs": [],
   "source": [
    "sys.path.append('C:\\Repos\\WhoCell\\who_cell')\n",
    "sys.path.append('C:\\Repos\\WhoCell')\n",
    "sys.path.append('C:\\Repos\\WhoCell\\who_cell\\experiments')\n",
    "sys.path.append('C:/Repos/WhoCell/who_cell/models')\n",
    "sys.path.append('C:\\Repos\\pomegranate')\n",
    "\n",
    "from pomegranate import *"
   ]
  },
  {
   "cell_type": "code",
   "execution_count": 3,
   "metadata": {},
   "outputs": [],
   "source": [
    "number_of_state = 8\n",
    "N = 12  \n",
    "d =6\n",
    "mues = list(range(number_of_state))\n",
    "sigmas = [m/10 for m in mues]\n",
    "is_mutual_distrbutions = True"
   ]
  },
  {
   "cell_type": "code",
   "execution_count": 10,
   "metadata": {},
   "outputs": [
    {
     "name": "stdout",
     "output_type": "stream",
     "text": [
      "Orphan state None-start removed due to no edges                             leading to it\n",
      "Orphan state None-end removed due to no edges                             leaving it\n",
      "None : None-start summed to 0, normalized to 1.0\n",
      "None : (0,0) summed to 6.0, normalized to 1.0\n",
      "None : (1,0) summed to 6.0, normalized to 1.0\n",
      "None : (2,0) summed to 6.0, normalized to 1.0\n",
      "None : (3,0) summed to 6.0, normalized to 1.0\n",
      "None : (4,0) summed to 6.0, normalized to 1.0\n",
      "None : (5,0) summed to 6.0, normalized to 1.0\n",
      "None : (0,1) summed to 6.0, normalized to 1.0\n",
      "None : (1,1) summed to 6.0, normalized to 1.0\n",
      "None : (2,1) summed to 6.0, normalized to 1.0\n",
      "None : (3,1) summed to 6.0, normalized to 1.0\n",
      "None : (4,1) summed to 6.0, normalized to 1.0\n",
      "None : (5,1) summed to 6.0, normalized to 1.0\n",
      "None : (0,2) summed to 6.0, normalized to 1.0\n",
      "None : (1,2) summed to 6.0, normalized to 1.0\n",
      "None : (2,2) summed to 6.0, normalized to 1.0\n",
      "None : (3,2) summed to 6.0, normalized to 1.0\n",
      "None : (4,2) summed to 6.0, normalized to 1.0\n",
      "None : (5,2) summed to 6.0, normalized to 1.0\n",
      "None : (0,3) summed to 6.0, normalized to 1.0\n",
      "None : (1,3) summed to 6.0, normalized to 1.0\n",
      "None : (2,3) summed to 6.0, normalized to 1.0\n",
      "None : (3,3) summed to 6.0, normalized to 1.0\n",
      "None : (4,3) summed to 6.0, normalized to 1.0\n",
      "None : (5,3) summed to 6.0, normalized to 1.0\n",
      "None : (0,4) summed to 6.0, normalized to 1.0\n",
      "None : (1,4) summed to 6.0, normalized to 1.0\n",
      "None : (2,4) summed to 6.0, normalized to 1.0\n",
      "None : (3,4) summed to 6.0, normalized to 1.0\n",
      "None : (4,4) summed to 6.0, normalized to 1.0\n",
      "None : (5,4) summed to 6.0, normalized to 1.0\n",
      "None : (0,5) summed to 6.0, normalized to 1.0\n",
      "None : (1,5) summed to 6.0, normalized to 1.0\n",
      "None : (2,5) summed to 6.0, normalized to 1.0\n",
      "None : (3,5) summed to 6.0, normalized to 1.0\n",
      "None : (4,5) summed to 6.0, normalized to 1.0\n",
      "None : (5,5) summed to 6.0, normalized to 1.0\n",
      "None : (0,6) summed to 6.0, normalized to 1.0\n",
      "None : (1,6) summed to 6.0, normalized to 1.0\n",
      "None : (2,6) summed to 6.0, normalized to 1.0\n",
      "None : (3,6) summed to 6.0, normalized to 1.0\n",
      "None : (4,6) summed to 6.0, normalized to 1.0\n",
      "None : (5,6) summed to 6.0, normalized to 1.0\n",
      "None : (0,7) summed to 6.0, normalized to 1.0\n",
      "None : (1,7) summed to 6.0, normalized to 1.0\n",
      "None : (2,7) summed to 6.0, normalized to 1.0\n",
      "None : (3,7) summed to 6.0, normalized to 1.0\n",
      "None : (4,7) summed to 6.0, normalized to 1.0\n",
      "None : (5,7) summed to 6.0, normalized to 1.0\n",
      "None : (0,8) summed to 6.0, normalized to 1.0\n",
      "None : (1,8) summed to 6.0, normalized to 1.0\n",
      "None : (2,8) summed to 6.0, normalized to 1.0\n",
      "None : (3,8) summed to 6.0, normalized to 1.0\n",
      "None : (4,8) summed to 6.0, normalized to 1.0\n",
      "None : (5,8) summed to 6.0, normalized to 1.0\n",
      "None : (0,9) summed to 6.0, normalized to 1.0\n",
      "None : (1,9) summed to 6.0, normalized to 1.0\n",
      "None : (2,9) summed to 6.0, normalized to 1.0\n",
      "None : (3,9) summed to 6.0, normalized to 1.0\n",
      "None : (4,9) summed to 6.0, normalized to 1.0\n",
      "None : (5,9) summed to 6.0, normalized to 1.0\n",
      "None : (0,10) summed to 6.0, normalized to 1.0\n",
      "None : (1,10) summed to 6.0, normalized to 1.0\n",
      "None : (2,10) summed to 6.0, normalized to 1.0\n",
      "None : (3,10) summed to 6.0, normalized to 1.0\n",
      "None : (4,10) summed to 6.0, normalized to 1.0\n",
      "None : (5,10) summed to 6.0, normalized to 1.0\n",
      "None : (0,11) summed to 0, normalized to 1.0\n",
      "None : (1,11) summed to 0, normalized to 1.0\n",
      "None : (2,11) summed to 0, normalized to 1.0\n",
      "None : (3,11) summed to 0, normalized to 1.0\n",
      "None : (4,11) summed to 0, normalized to 1.0\n",
      "None : (5,11) summed to 0, normalized to 1.0\n"
     ]
    }
   ],
   "source": []
  },
  {
   "cell_type": "code",
   "execution_count": 11,
   "metadata": {},
   "outputs": [
    {
     "data": {
      "text/plain": [
       "[11, 13, 17, 10, 14, 12]"
      ]
     },
     "execution_count": 11,
     "metadata": {},
     "output_type": "execute_result"
    }
   ],
   "source": [
    "reindex = lambda vec,ridx : [vec[ni] for ni in ridx]\n",
    "\n",
    "a = list(range(10,20))\n",
    "b = np.random.choice(range(len(a)), size=d, replace=False)\n",
    "reindex(a,b)"
   ]
  },
  {
   "cell_type": "code",
   "execution_count": null,
   "metadata": {},
   "outputs": [],
   "source": [
    "model.dense_transition_matrix().sum(axis=1)"
   ]
  }
 ],
 "metadata": {
  "hide_input": false,
  "kernelspec": {
   "display_name": "Python 3",
   "language": "python",
   "name": "python3"
  },
  "language_info": {
   "codemirror_mode": {
    "name": "ipython",
    "version": 3
   },
   "file_extension": ".py",
   "mimetype": "text/x-python",
   "name": "python",
   "nbconvert_exporter": "python",
   "pygments_lexer": "ipython3",
   "version": "3.6.5"
  },
  "toc": {
   "base_numbering": 1,
   "nav_menu": {},
   "number_sections": true,
   "sideBar": true,
   "skip_h1_title": false,
   "title_cell": "Table of Contents",
   "title_sidebar": "Contents",
   "toc_cell": false,
   "toc_position": {},
   "toc_section_display": true,
   "toc_window_display": false
  }
 },
 "nbformat": 4,
 "nbformat_minor": 2
}
