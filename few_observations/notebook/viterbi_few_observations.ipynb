{
 "cells": [
  {
   "cell_type": "code",
   "execution_count": 1,
   "metadata": {},
   "outputs": [],
   "source": [
    "import sys\n",
    "\n",
    "sys.path.append(r\"C:\\Repos\\pomegranate\")\n",
    "sys.path.append(r\"C:/Repos/WhoCell/\")\n",
    "sys.path.append(r\"C:/Repos/WhoCell/who_cell/\")\n",
    "sys.path.append(r\"C:/Repos/WhoCell/who_cell/models/\")\n",
    "sys.path.append(r\"C:/Repos/WhoCell/who_cell/simulation/\")"
   ]
  },
  {
   "cell_type": "code",
   "execution_count": 2,
   "metadata": {},
   "outputs": [],
   "source": [
    "import numpy as np\n",
    "import pandas as pd\n",
    "import itertools\n",
    "from collections import Counter\n",
    "from scipy.stats import binom\n",
    "\n",
    "import pomegranate\n",
    "from pomegranate import *\n",
    "\n",
    "\n",
    "from simulation_for_gibbs import Simulator_for_Gibbs\n"
   ]
  },
  {
   "cell_type": "markdown",
   "metadata": {},
   "source": [
    "## build datasets for test"
   ]
  },
  {
   "cell_type": "markdown",
   "metadata": {},
   "source": [
    "### build model"
   ]
  },
  {
   "cell_type": "code",
   "execution_count": 3,
   "metadata": {},
   "outputs": [],
   "source": [
    "n_of_states = 10\n",
    "sigma = 0.1\n",
    "N=20\n",
    "d = 5\n",
    "P_C = 1"
   ]
  },
  {
   "cell_type": "code",
   "execution_count": 4,
   "metadata": {},
   "outputs": [],
   "source": [
    "sfg = Simulator_for_Gibbs(N,d,n_of_states)\n",
    "pome_res = sfg.build_pome_model(N, d, list(range(n_of_states)), [sigma for i in range(n_of_states)],is_acyclic = True)"
   ]
  },
  {
   "cell_type": "markdown",
   "metadata": {},
   "source": [
    "### sample exmp"
   ]
  },
  {
   "cell_type": "code",
   "execution_count": 5,
   "metadata": {},
   "outputs": [],
   "source": [
    "full_seq_res = pome_res['model'].sample(length =N,path=True)\n",
    "\n",
    "full_seq_obs = full_seq_res[0]\n",
    "full_seq_states = [s.name for s in full_seq_res[1]][1:]"
   ]
  },
  {
   "cell_type": "code",
   "execution_count": 6,
   "metadata": {},
   "outputs": [],
   "source": [
    "binom_dist = binom(len(full_seq_obs), P_C)\n",
    "n_of_obs = binom_dist.rvs(1)\n",
    "n_of_obs = n_of_obs if n_of_obs > 2 else 2\n",
    "\n",
    "few_seq_res = sfg._sample_n_points_from_traj(full_seq_obs, n_of_obs)\n",
    "\n",
    "few_seq_obs = few_seq_res[0]\n",
    "W = few_seq_res[1]\n",
    "few_seq_states = [full_seq_states[w] for w in W]"
   ]
  },
  {
   "cell_type": "markdown",
   "metadata": {},
   "source": [
    "## build algo"
   ]
  },
  {
   "cell_type": "code",
   "execution_count": 7,
   "metadata": {},
   "outputs": [],
   "source": [
    "states = list(pome_res['start_probabilites'].keys()) \n",
    "state_to_distrbution_mapping = pome_res['state_to_distrbution_mapping']\n",
    "\n",
    "start_p = pome_res['start_probabilites']\n",
    "trans_p_sparse = pome_res['transition_matrix_sparse']"
   ]
  },
  {
   "cell_type": "code",
   "execution_count": 21,
   "metadata": {
    "code_folding": []
   },
   "outputs": [
    {
     "name": "stdout",
     "output_type": "stream",
     "text": [
      " with highest probability of 3.1305270702913908\n"
     ]
    },
    {
     "data": {
      "text/plain": [
       "['(1, 0.1)',\n",
       " '(3, 0.1)',\n",
       " '(4, 0.1)',\n",
       " '(9, 0.1)',\n",
       " '(7, 0.1)',\n",
       " '(1, 0.1)',\n",
       " '(2, 0.1)',\n",
       " '(3, 0.1)',\n",
       " '(9, 0.1)',\n",
       " '(3, 0.1)',\n",
       " '(9, 0.1)',\n",
       " '(3, 0.1)',\n",
       " '(0, 0.1)',\n",
       " '(5, 0.1)',\n",
       " '(7, 0.1)',\n",
       " '(1, 0.1)',\n",
       " '(3, 0.1)',\n",
       " '(0, 0.1)',\n",
       " '(3, 0.1)',\n",
       " '(0, 0.1)']"
      ]
     },
     "execution_count": 21,
     "metadata": {},
     "output_type": "execute_result"
    }
   ],
   "source": [
    "def calc_emission_probability(st,obs) : \n",
    "    return state_to_distrbution_mapping[st].probability(obs)\n",
    "\n",
    "def calc_transition_probability(_f,_t,transitions_matrix,P_C) : \n",
    "    #we need to adjust the transitions for the prior of seen observation - P_C\n",
    "    new_transition\n",
    "    \n",
    "    if _t in transitions_matrix[_f].keys() : \n",
    "        return transitions_matrix[_f][_t]\n",
    "    return 0 \n",
    "\n",
    "def extrect_best_path(V,observed_length) : \n",
    "    opt = []\n",
    "    max_prob = 0.0\n",
    "    best_st = None\n",
    "    # Get most probable state and its backtrack\n",
    "    for st, data in V[-1].items():\n",
    "        if data[\"prob\"] > max_prob:\n",
    "            max_prob = data[\"prob\"]\n",
    "            best_st = st\n",
    "    opt.append(best_st)\n",
    "    previous = best_st\n",
    "\n",
    "    # Follow the backtrack till the first observation\n",
    "    for t in range(len(V) - 2, -1, -1):\n",
    "        opt.insert(0, V[t + 1][previous][\"prev\"])\n",
    "        previous = V[t + 1][previous][\"prev\"]\n",
    "\n",
    "    print(\" with highest probability of %s\" % max_prob)\n",
    "    return opt\n",
    "\n",
    "def update_first_step(start_p,few_seq_obs) : \n",
    "    V = [{}]\n",
    "    for st in states:    \n",
    "        V[0][st] = {\"prob\": start_p[st] * calc_emission_probability(st,few_seq_obs[0]), \"prev\": None}\n",
    "    return V\n",
    "\n",
    "def calculate_transition_cost(st,prev_st,_V,obs):\n",
    "    tr_prob = _V[prev_st][\"prob\"] * calc_transition_probability(prev_st,st,transitions_matrix,P_C)*calc_emission_probability(st,obs)\n",
    "    \n",
    "    return tr_prob\n",
    "        \n",
    "def return_optimal_transition(st,_V,states,obs):\n",
    "    optimal_path_cost = 0.0\n",
    "    optimal_path = states[0]\n",
    "    for prev_st in states:\n",
    "        _transition_cost = calculate_transition_cost(st,prev_st,_V,obs)\n",
    "        \n",
    "        if _transition_cost > optimal_path_cost : \n",
    "            optimal_path_cost = _transition_cost\n",
    "            optimal_path = prev_st\n",
    "    return optimal_path,optimal_path_cost\n",
    "\n",
    "def ml_path_viterbi(start_p,seq,states):\n",
    "    #initial probabiltes\n",
    "    V = update_first_step(start_p,seq)\n",
    "\n",
    "    # Run Viterbi when t > 0\n",
    "    for t,obs in enumerate(seq):\n",
    "        if t==0 : continue\n",
    "        V.append({})\n",
    "        for st in states:\n",
    "            opt_state,opt_state_cost =  return_optimal_transition(st,V[t-1],states,obs)\n",
    "            V[t][st] = {\"prob\": opt_state_cost, \"prev\": opt_state}\n",
    "\n",
    "    return extrect_best_path(V,len(seq))\n",
    "\n",
    "ml_path_viterbi(start_p,few_seq_obs,states)"
   ]
  },
  {
   "cell_type": "code",
   "execution_count": 22,
   "metadata": {},
   "outputs": [
    {
     "data": {
      "text/plain": [
       "['(1, 0.1)',\n",
       " '(3, 0.1)',\n",
       " '(4, 0.1)',\n",
       " '(9, 0.1)',\n",
       " '(7, 0.1)',\n",
       " '(1, 0.1)',\n",
       " '(2, 0.1)',\n",
       " '(3, 0.1)',\n",
       " '(9, 0.1)',\n",
       " '(3, 0.1)',\n",
       " '(9, 0.1)',\n",
       " '(3, 0.1)',\n",
       " '(0, 0.1)',\n",
       " '(5, 0.1)',\n",
       " '(7, 0.1)',\n",
       " '(1, 0.1)',\n",
       " '(3, 0.1)',\n",
       " '(0, 0.1)',\n",
       " '(3, 0.1)',\n",
       " '(0, 0.1)']"
      ]
     },
     "execution_count": 22,
     "metadata": {},
     "output_type": "execute_result"
    }
   ],
   "source": [
    "full_seq_states"
   ]
  },
  {
   "cell_type": "code",
   "execution_count": null,
   "metadata": {},
   "outputs": [],
   "source": [
    "results_list = [] \n",
    "for i,predicted_state in enumerate(opt):\n",
    "    obs = full_seq_obs[i]\n",
    "    state = full_seq_states[i]\n",
    "    w = 'obs' if i in W else 'not'\n",
    "    sucsses = ((w == 'obs') and ('_wc0' not in predicted_state)) or ((w == 'not') and ('_wc0' in predicted_state))\n",
    "    \n",
    "    _res = (i,predicted_state,state,w,obs,sucsses)\n",
    "    results_list.append(_res)\n",
    "\n",
    "results_df = pd.DataFrame(columns=['idx',\"predicted_state\",'known_state','W','obs','sucsses'],data = results_list).set_index('idx')\n",
    "results_df\n",
    "    \n",
    "    "
   ]
  },
  {
   "cell_type": "code",
   "execution_count": null,
   "metadata": {},
   "outputs": [],
   "source": [
    "[s[1].name for s in pome_res['model'].viterbi(full_seq_obs)[1]]"
   ]
  },
  {
   "cell_type": "code",
   "execution_count": null,
   "metadata": {},
   "outputs": [],
   "source": [
    "for i in range(len(few_seq_obs)) : \n",
    "    print((few_seq_obs[i],W[i],few_seq_states[i]))"
   ]
  },
  {
   "cell_type": "code",
   "execution_count": null,
   "metadata": {},
   "outputs": [],
   "source": [
    "pr_v['k'] == len(few_seq_obs)"
   ]
  },
  {
   "cell_type": "code",
   "execution_count": 29,
   "metadata": {},
   "outputs": [],
   "source": [
    "p=0.01"
   ]
  },
  {
   "cell_type": "code",
   "execution_count": 31,
   "metadata": {
    "scrolled": false
   },
   "outputs": [
    {
     "name": "stdout",
     "output_type": "stream",
     "text": [
      "0.01\n",
      "0.0099\n",
      "0.009801\n",
      "0.00970299\n",
      "0.0096059601\n"
     ]
    }
   ],
   "source": [
    "for x in range(5) :\n",
    "    print(p*((1-p)**(x)))\n",
    "    "
   ]
  },
  {
   "cell_type": "code",
   "execution_count": null,
   "metadata": {},
   "outputs": [],
   "source": []
  }
 ],
 "metadata": {
  "hide_input": false,
  "kernelspec": {
   "display_name": "Python 3",
   "language": "python",
   "name": "python3"
  },
  "language_info": {
   "codemirror_mode": {
    "name": "ipython",
    "version": 3
   },
   "file_extension": ".py",
   "mimetype": "text/x-python",
   "name": "python",
   "nbconvert_exporter": "python",
   "pygments_lexer": "ipython3",
   "version": "3.6.5"
  },
  "toc": {
   "base_numbering": 1,
   "nav_menu": {},
   "number_sections": true,
   "sideBar": true,
   "skip_h1_title": false,
   "title_cell": "Table of Contents",
   "title_sidebar": "Contents",
   "toc_cell": false,
   "toc_position": {},
   "toc_section_display": true,
   "toc_window_display": false
  }
 },
 "nbformat": 4,
 "nbformat_minor": 2
}
