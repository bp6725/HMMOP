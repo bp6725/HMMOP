{
 "cells": [
  {
   "cell_type": "markdown",
   "metadata": {},
   "source": [
    "# init"
   ]
  },
  {
   "cell_type": "code",
   "execution_count": 1,
   "metadata": {},
   "outputs": [],
   "source": [
    "import pandas  as pd\n",
    "import pickle\n",
    "import matplotlib.pyplot\n",
    "import sys\n",
    "import numpy as np\n",
    "from sklearn.tree import DecisionTreeClassifier \n",
    "from sklearn import tree\n",
    "import matplotlib.pyplot as plt\n",
    "from functools import reduce\n",
    "from tqdm import tqdm\n",
    "import  snakeviz\n",
    "\n",
    "import itertools"
   ]
  },
  {
   "cell_type": "code",
   "execution_count": 2,
   "metadata": {},
   "outputs": [],
   "source": [
    "sys.path.append('C:\\Repos\\WhoCell\\who_cell')\n",
    "sys.path.append('C:\\Repos\\WhoCell')\n",
    "sys.path.append('C:\\Repos\\WhoCell\\who_cell\\experiments')\n",
    "sys.path.append('C:/Repos/WhoCell/who_cell/models')\n",
    "sys.path.append('C:\\Repos\\pomegranate')\n",
    "\n",
    "from pomegranate import *\n",
    "import transitions_dict\n",
    "import who_cell\n",
    "from gibbs_experiments import GibbsExperiment\n",
    "from gibbs_sampler import GibbsSampler"
   ]
  },
  {
   "cell_type": "code",
   "execution_count": 3,
   "metadata": {},
   "outputs": [],
   "source": [
    "%load_ext snakeviz"
   ]
  },
  {
   "cell_type": "code",
   "execution_count": 4,
   "metadata": {},
   "outputs": [
    {
     "name": "stderr",
     "output_type": "stream",
     "text": [
      "C:\\Repos\\WhoCell\\who_cell\\models\\gibbs_sampler.py:249: RuntimeWarning: invalid value encountered in double_scalars\n",
      "  _res = emmisions[((state_ind, time_ind), time_ind)] / _sum\n",
      "100%|██████████████████████████████████████████████████████████████████████████████████| 50/50 [00:23<00:00,  2.17it/s]\n",
      "100%|██████████████████████████████████████████████████████████████████████████████████| 50/50 [00:29<00:00,  1.72it/s]\n"
     ]
    }
   ],
   "source": [
    " params_dict = {\n",
    "            'N' : [12],\n",
    "            'd' : [6],\n",
    "            'n_states' : [20],\n",
    "            'number_of_smapled_traj' : [50],\n",
    "            'p_prob_of_observation' : [0.7,1],\n",
    "            'N_itres': [50],\n",
    "            'w_smapler_n_iter': [10]}\n",
    "    \n",
    "all_results = GibbsExperiment.run_multi_params_and_return_results(params_dict)"
   ]
  },
  {
   "cell_type": "code",
   "execution_count": 5,
   "metadata": {
    "code_folding": [
     0,
     1
    ]
   },
   "outputs": [],
   "source": [
    "def is_transition_exist(_from,_to,trans) : \n",
    "    if _from in trans.keys() :\n",
    "        return _to in trans[_from].keys() \n",
    "    return False\n",
    "\n",
    "def build_pome_model_from_collections(_mues,_trans,_params) :\n",
    "    _params = {k:v for k,v in _params}\n",
    "    states_track = {}\n",
    "    _model = HiddenMarkovModel(\"test\")\n",
    "    for _d,_t in itertools.product(list(range(_params['d'])),\n",
    "                                   list(range(_params['N']))) : \n",
    "        mu = _mues[_d,_t]\n",
    "        _dist = NormalDistribution(mu, mu/10)\n",
    "        _state = State(_dist, name=f\"({_d},{_t})\")\n",
    "        _model.add_state(_state)\n",
    "        states_track[f\"({_d},{_t})\"]=_state\n",
    "\n",
    "    _model.add_state(_model.start)\n",
    "    _model.add_state(_model.end)\n",
    "\n",
    "    for _d,_t in itertools.product(list(range(_params['d'])),\n",
    "                                   list(range(_params['N']))) :\n",
    "        for _dd,_tt in itertools.product(list(range(_params['d'])),\n",
    "                                   list(range(_params['N']))) :\n",
    "            if (_tt - _t) != 1 : \n",
    "                continue\n",
    "            \n",
    "            if is_transition_exist((_d,_t),(_dd,_tt),_trans) : \n",
    "                _from = states_track[f\"({_d},{_t})\"]\n",
    "                _to = states_track[f\"({_dd},{_tt})\"]\n",
    "                _weight = _trans[(_d,_t)][(_dd,_tt)]\n",
    "    #             print(f\"({_d},{_t})\" + '==>' + f\"({_dd},{_tt})\")\n",
    "                _model.add_transition(_from,_to,_weight)\n",
    "\n",
    "\n",
    "    for _d,_t in itertools.product(list(range(_params['d'])),\n",
    "                                   list(range(_params['N']))) :\n",
    "\n",
    "        if _t == 0 :\n",
    "            _model.add_transition(_model.start,states_track[f\"({_d},{_t})\"],1)\n",
    "        if _t == _params['N']-1 : \n",
    "            _model.add_transition(states_track[f\"({_d},{_t})\"],_model.end,1)\n",
    "\n",
    "    _model.bake(merge = None)\n",
    "    \n",
    "    return _model"
   ]
  },
  {
   "cell_type": "code",
   "execution_count": 6,
   "metadata": {
    "code_folding": []
   },
   "outputs": [],
   "source": [
    "def extrect_states_transitions_dict_from_pome_model(model,states = None) : \n",
    "    if states is None : \n",
    "        states = model.get_params()['states']\n",
    "    \n",
    "    edges = model.get_params()['edges']\n",
    "    transition_dict = {}\n",
    "    final_states = [] \n",
    "    for e in edges : \n",
    "        if ('start' in  states[e[0]].name)   :\n",
    "            continue\n",
    "        if ('end' in  states[e[1]].name) : \n",
    "            final_states.append(eval(states[e[0]].name))\n",
    "            continue\n",
    "\n",
    "        _from = eval(states[e[0]].name)\n",
    "        _to = eval(states[e[1]].name)\n",
    "        _weight = e[2]\n",
    "\n",
    "        if _from not in transition_dict.keys() : \n",
    "            transition_dict[_from] = {_to : _weight}\n",
    "        else : \n",
    "            transition_dict[_from][_to] = _weight\n",
    "    return transition_dict, final_states \n",
    "\n",
    "def build_states_from_mues_matrix(mues,N,d) : \n",
    "    print(\"warning : this code assumes std = mu/10\")\n",
    "    states = {}\n",
    "    for _d,_t in itertools.product(list(range(d)),list(range(N))) : \n",
    "        mu = mues[_d,_t]\n",
    "        dist = NormalDistribution(mu, mu/10)\n",
    "        _state = State(_dist, name=f\"({_d},{_t})\")\n",
    "        states[(_d,_t)] = _state\n",
    "    return states\n",
    "            \n",
    "def calculate_prob_of_sample(model,samples,param):\n",
    "    _params = {k:v for k,v in param}\n",
    "    if type(model) is HiddenMarkovModel : \n",
    "        states = model.get_params()['states']\n",
    "        transition_dict, final_states = extrect_states_transitions_dict_from_pome_model(model,states)\n",
    "        \n",
    "        _states_dict = {eval(s.name):s for s in states if not (('start' in s.name) or ('end' in s.name))}\n",
    "        _states = list(transition_dict.keys()) + final_states\n",
    "    \n",
    "    else :\n",
    "        print('hello')\n",
    "        transition_dict = model[1] \n",
    "        states = build_states_from_mues_matrix(model[0],_params['N'],_params['d'])\n",
    "    \n",
    "    gs = GibbsSampler(_params['N'],_params['d'])    \n",
    "    start_prob = gs._build_start_prob(transition_dict,_params['N'],_params['d'])\n",
    "    results = []\n",
    "    for sample in samples : \n",
    "        emm = gs._build_emmisions_for_sample(sample,list(range(_params['N'])),_states_dict,_params['d'],_params['N'],normalized_emm = True)\n",
    "        prior = gs._fwd_bkw(_states, start_prob, transition_dict, emm, _params['N'],_params['d'], only_forward = True)\n",
    "        res = sum(prior[-1].values())\n",
    "        results.append(res)\n",
    "    return results\n",
    "\n",
    "def kl_distances_over_original(original_model,sampled_models,params):\n",
    "    samples_for_comperison = original_model.sample(1000)\n",
    "    _org_prob = calculate_prob_of_sample(original_model,samples_for_comperison,params)\n",
    "    \n",
    "    results = [] \n",
    "    for _model_for_compr in sampled_models:\n",
    "        _comp_prob = calculate_prob_of_sample(_model_for_compr,samples_for_comperison,params)\n",
    "        _org_prob_log = np.log(_org_prob)\n",
    "        _comp_prob_log = np.log(_comp_prob)\n",
    "        \n",
    "        kl_distnace = sum((_org_prob_log - _comp_prob_log)*_org_prob)/(len(samples_for_comperison)*len(samples_for_comperison[0]))\n",
    "        results.append(kl_distnace)\n",
    "    return results"
   ]
  },
  {
   "cell_type": "code",
   "execution_count": 7,
   "metadata": {},
   "outputs": [],
   "source": [
    "def calculate_measure_over_all_permuts(all_results):\n",
    "    measure_results = {} \n",
    "    with tqdm(total=len(all_results.keys())) as pbar:\n",
    "        for single_permut in all_results.values() : \n",
    "            original_model = single_permut['original_pome_model']\n",
    "            sampled_models = [build_pome_model_from_collections(mues,trans,single_permut['params']) for mues,trans in zip(single_permut['all_mues'],single_permut['all_transitions'])]\n",
    "            params = single_permut['params']\n",
    "            measures_over_iters = kl_distances_over_original(original_model,sampled_models,params)\n",
    "            \n",
    "            exp_name = reduce(lambda x,y:str(x)+str(y),params)\n",
    "            measure_results[exp_name] = measures_over_iters\n",
    "            pbar.update(1)\n",
    "            print(exp_name)\n",
    "    return measure_results\n",
    "    "
   ]
  },
  {
   "cell_type": "code",
   "execution_count": 8,
   "metadata": {},
   "outputs": [
    {
     "name": "stderr",
     "output_type": "stream",
     "text": [
      "  0%|                                                                                            | 0/2 [00:00<?, ?it/s]C:\\ProgramData\\Anaconda3\\lib\\site-packages\\ipykernel_launcher.py:13: RuntimeWarning: divide by zero encountered in double_scalars\n",
      "  del sys.path[0]\n",
      " 50%|█████████████████████████████████████████▌                                         | 1/2 [03:29<03:29, 209.16s/it]"
     ]
    },
    {
     "name": "stdout",
     "output_type": "stream",
     "text": [
      "('N', 12)('d', 6)('n_states', 20)('number_of_smapled_traj', 50)('p_prob_of_observation', 0.7)('N_itres', 50)('w_smapler_n_iter', 10)\n"
     ]
    },
    {
     "name": "stderr",
     "output_type": "stream",
     "text": [
      "100%|███████████████████████████████████████████████████████████████████████████████████| 2/2 [06:23<00:00, 191.71s/it]\n"
     ]
    },
    {
     "name": "stdout",
     "output_type": "stream",
     "text": [
      "('N', 12)('d', 6)('n_states', 20)('number_of_smapled_traj', 50)('p_prob_of_observation', 1)('N_itres', 50)('w_smapler_n_iter', 10)\n",
      " \n",
      "*** Profile stats marshalled to file 'c:\\\\Temp\\\\tmpk48fg22e'. \n",
      "Embedding SnakeViz in this document...\n"
     ]
    },
    {
     "data": {
      "text/html": [
       "\n",
       "<iframe id='snakeviz-b7c2a874-b8df-11eb-8c62-dd077cbe41b7' frameborder=0 seamless width='100%' height='1000'></iframe>\n",
       "<script>document.getElementById(\"snakeviz-b7c2a874-b8df-11eb-8c62-dd077cbe41b7\").setAttribute(\"src\", \"http://\" + document.location.hostname + \":8080/snakeviz/c%3A%5CTemp%5Ctmpk48fg22e\")</script>\n"
      ],
      "text/plain": [
       "<IPython.core.display.HTML object>"
      ]
     },
     "metadata": {},
     "output_type": "display_data"
    }
   ],
   "source": [
    "%%snakeviz\n",
    "measure_results = calculate_measure_over_all_permuts(all_results)"
   ]
  },
  {
   "cell_type": "code",
   "execution_count": 12,
   "metadata": {},
   "outputs": [
    {
     "data": {
      "image/png": "[encoded data removed]",
      "text/plain": [
       "<Figure size 432x288 with 1 Axes>"
      ]
     },
     "metadata": {
      "needs_background": "light"
     },
     "output_type": "display_data"
    },
    {
     "data": {
      "image/png": "[encoded data removed]",
      "text/plain": [
       "<Figure size 432x288 with 1 Axes>"
      ]
     },
     "metadata": {
      "needs_background": "light"
     },
     "output_type": "display_data"
    }
   ],
   "source": [
    "import seaborn as sns\n",
    "max_length = max([len(c) for c in measure_results.values()])\n",
    "for exp_name,results_list in measure_results.items() : \n",
    "    _vec = np.ones((max_length)) * max(results_list)\n",
    "    sns.lineplot(list(range(max_length)),_vec)\n",
    "    plt.show()"
   ]
  },
  {
   "cell_type": "code",
   "execution_count": 10,
   "metadata": {},
   "outputs": [
    {
     "data": {
      "text/plain": [
       "{\"('N', 12)('d', 6)('n_states', 20)('number_of_smapled_traj', 50)('p_prob_of_observation', 0.7)('N_itres', 50)('w_smapler_n_iter', 10)\": [9.050580002370447e-06,\n",
       "  9.384818149476993e-06,\n",
       "  9.220487098859948e-06,\n",
       "  9.415970074766245e-06,\n",
       "  9.311175974424571e-06,\n",
       "  9.59467067624896e-06,\n",
       "  9.756481345322216e-06,\n",
       "  9.678488802566682e-06,\n",
       "  9.540184773873094e-06,\n",
       "  9.641724916576272e-06,\n",
       "  9.648642393968852e-06,\n",
       "  9.626060373513937e-06,\n",
       "  9.64721231600322e-06,\n",
       "  9.525780945022992e-06,\n",
       "  9.600369450598613e-06,\n",
       "  9.632393669449619e-06,\n",
       "  9.298924970456228e-06,\n",
       "  9.442814719178803e-06,\n",
       "  9.39157192368309e-06,\n",
       "  9.432291400298152e-06,\n",
       "  9.420368839041293e-06,\n",
       "  9.397983931252997e-06,\n",
       "  9.401303702379006e-06,\n",
       "  8.533326295248312e-06,\n",
       "  9.157016872603741e-06,\n",
       "  9.202262735023551e-06,\n",
       "  9.186901522446865e-06,\n",
       "  9.347428416367232e-06,\n",
       "  9.501764025408897e-06,\n",
       "  9.59820063776461e-06,\n",
       "  9.7711434667709e-06,\n",
       "  9.876023587893696e-06,\n",
       "  9.755101677300808e-06,\n",
       "  8.605227472988287e-06,\n",
       "  9.965861986787767e-06,\n",
       "  9.70924654481971e-06,\n",
       "  1.0030808371395344e-05,\n",
       "  1.041843071953352e-05,\n",
       "  9.94650334664631e-06,\n",
       "  1.059031460636029e-05,\n",
       "  1.0540097535091985e-05,\n",
       "  1.0618579711964812e-05,\n",
       "  1.05048387317599e-05,\n",
       "  1.0537274884818484e-05,\n",
       "  1.0301161209833885e-05,\n",
       "  1.0366677570311897e-05,\n",
       "  1.0369659445499416e-05,\n",
       "  1.034958957702865e-05,\n",
       "  1.0377972442632508e-05,\n",
       "  1.0285381258229386e-05],\n",
       " \"('N', 12)('d', 6)('n_states', 20)('number_of_smapled_traj', 50)('p_prob_of_observation', 1)('N_itres', 50)('w_smapler_n_iter', 10)\": [1.3404287620544087e-05,\n",
       "  1.3404287620544087e-05,\n",
       "  1.3404287620544087e-05,\n",
       "  1.3404287620544087e-05,\n",
       "  1.3404287620544087e-05,\n",
       "  1.3404287620544087e-05,\n",
       "  1.3404287620544087e-05,\n",
       "  1.3404287620544087e-05,\n",
       "  1.3404287620544087e-05,\n",
       "  1.3404287620544087e-05,\n",
       "  1.3404287620544087e-05,\n",
       "  1.3404287620544087e-05,\n",
       "  1.3404287620544087e-05,\n",
       "  1.3404287620544087e-05,\n",
       "  1.3404287620544087e-05,\n",
       "  1.3404287620544087e-05,\n",
       "  1.3404287620544087e-05,\n",
       "  1.3404287620544087e-05,\n",
       "  1.3404287620544087e-05,\n",
       "  1.3404287620544087e-05,\n",
       "  1.3404287620544087e-05,\n",
       "  1.3404287620544087e-05,\n",
       "  1.3404287620544087e-05,\n",
       "  1.3404287620544087e-05,\n",
       "  1.3404287620544087e-05,\n",
       "  1.3404287620544087e-05,\n",
       "  1.3404287620544087e-05,\n",
       "  1.3404287620544087e-05,\n",
       "  1.3404287620544087e-05,\n",
       "  1.3404287620544087e-05,\n",
       "  1.3404287620544087e-05,\n",
       "  1.3404287620544087e-05,\n",
       "  1.3404287620544087e-05,\n",
       "  1.3404287620544087e-05,\n",
       "  1.3404287620544087e-05,\n",
       "  1.3404287620544087e-05,\n",
       "  1.3404287620544087e-05,\n",
       "  1.3404287620544087e-05,\n",
       "  1.3404287620544087e-05,\n",
       "  1.3404287620544087e-05,\n",
       "  1.3404287620544087e-05,\n",
       "  1.3404287620544087e-05,\n",
       "  1.3404287620544087e-05,\n",
       "  1.3404287620544087e-05,\n",
       "  1.3404287620544087e-05,\n",
       "  1.3404287620544087e-05,\n",
       "  1.3404287620544087e-05,\n",
       "  1.3404287620544087e-05,\n",
       "  1.3404287620544087e-05,\n",
       "  1.3404287620544087e-05]}"
      ]
     },
     "execution_count": 10,
     "metadata": {},
     "output_type": "execute_result"
    }
   ],
   "source": [
    "measure_results"
   ]
  },
  {
   "cell_type": "code",
   "execution_count": 21,
   "metadata": {},
   "outputs": [
    {
     "data": {
      "text/plain": [
       "0.25093268092449983"
      ]
     },
     "execution_count": 21,
     "metadata": {},
     "output_type": "execute_result"
    }
   ],
   "source": []
  },
  {
   "cell_type": "markdown",
   "metadata": {},
   "source": [
    "## results"
   ]
  },
  {
   "cell_type": "markdown",
   "metadata": {},
   "source": [
    "all transitions"
   ]
  },
  {
   "cell_type": "code",
   "execution_count": null,
   "metadata": {
    "scrolled": true
   },
   "outputs": [],
   "source": [
    "simulator = results[\"simulator\"]\n",
    "sampler = results[\"sampler\"]\n",
    "\n",
    "all_normalized_sampled_transitions, all_sampled_transitions = exp.build_final_transitions_compr(\n",
    "    results[\"sampled_transitions_dict\"],simulator.build_transition_prob_from_known(results[\"original_pome_model\"]),False)\n",
    "\n",
    "all_transitions_prob_to_count = sampler.compare_transitions_prob_to_count(\n",
    "                                          transitions_prob=all_normalized_sampled_transitions,\n",
    "                                          transitions_count=all_sampled_transitions,\n",
    "                                          n_traj = number_of_smapled_traj,N = N,d = d)\n"
   ]
  }
 ],
 "metadata": {
  "hide_input": false,
  "kernelspec": {
   "display_name": "Python 3",
   "language": "python",
   "name": "python3"
  },
  "language_info": {
   "codemirror_mode": {
    "name": "ipython",
    "version": 3
   },
   "file_extension": ".py",
   "mimetype": "text/x-python",
   "name": "python",
   "nbconvert_exporter": "python",
   "pygments_lexer": "ipython3",
   "version": "3.6.5"
  },
  "toc": {
   "base_numbering": 1,
   "nav_menu": {},
   "number_sections": true,
   "sideBar": true,
   "skip_h1_title": false,
   "title_cell": "Table of Contents",
   "title_sidebar": "Contents",
   "toc_cell": false,
   "toc_position": {},
   "toc_section_display": true,
   "toc_window_display": false
  }
 },
 "nbformat": 4,
 "nbformat_minor": 2
}
