{
 "cells": [
  {
   "cell_type": "markdown",
   "metadata": {},
   "source": [
    "# Init"
   ]
  },
  {
   "cell_type": "code",
   "execution_count": 1,
   "metadata": {},
   "outputs": [],
   "source": [
    "import pandas  as pd\n",
    "import pickle\n",
    "import matplotlib.pyplot\n",
    "import sys\n",
    "import numpy as np\n",
    "from sklearn.tree import DecisionTreeClassifier \n",
    "from sklearn import tree\n",
    "import matplotlib.pyplot as plt\n",
    "from functools import reduce\n",
    "from tqdm import tqdm\n",
    "import  snakeviz\n",
    "\n",
    "import itertools"
   ]
  },
  {
   "cell_type": "code",
   "execution_count": 2,
   "metadata": {},
   "outputs": [],
   "source": [
    "sys.path.append('C:\\Repos\\WhoCell\\who_cell')\n",
    "sys.path.append('C:\\Repos\\WhoCell')\n",
    "sys.path.append('C:/Repos/WhoCell/who_cell/simulation/')\n",
    "sys.path.append('C:\\Repos\\WhoCell\\who_cell\\experiments')\n",
    "sys.path.append('C:/Repos/WhoCell/who_cell/models')\n",
    "sys.path.append('C:\\Repos\\pomegranate')\n",
    "\n",
    "\n",
    "from pomegranate import *\n",
    "import transitions_dict\n",
    "import who_cell\n",
    "from gibbs_experiments import GibbsExperiment\n",
    "from gibbs_sampler import GibbsSampler\n",
    "from simulation_for_gibbs import Simulator_for_Gibbs"
   ]
  },
  {
   "cell_type": "code",
   "execution_count": 3,
   "metadata": {},
   "outputs": [],
   "source": [
    "from hmmlearn import hmm"
   ]
  },
  {
   "cell_type": "markdown",
   "metadata": {},
   "source": [
    "# Utils"
   ]
  },
  {
   "cell_type": "code",
   "execution_count": 4,
   "metadata": {},
   "outputs": [],
   "source": [
    "def extrect_states_transitions_dict_from_pome_model(model,states = None) : \n",
    "    if states is None : \n",
    "        states = model.get_params()['states']\n",
    "    \n",
    "    edges = model.get_params()['edges']\n",
    "    transition_dict = {}\n",
    "    final_states = [] \n",
    "    for e in edges : \n",
    "        if ('start' in  states[e[0]].name)   :\n",
    "            continue\n",
    "        if ('end' in  states[e[1]].name) : \n",
    "            final_states.append(eval(states[e[0]].name))\n",
    "            continue\n",
    "\n",
    "        _from = eval(states[e[0]].name)\n",
    "        _to = eval(states[e[1]].name)\n",
    "        _weight = e[2]\n",
    "\n",
    "        if _from not in transition_dict.keys() : \n",
    "            transition_dict[_from] = {_to : _weight}\n",
    "        else : \n",
    "            transition_dict[_from][_to] = _weight\n",
    "    return transition_dict, final_states \n",
    "\n",
    "def get_transition(_f,_t,trans_dict):\n",
    "    if _f in trans_dict.keys():\n",
    "        if _t in trans_dict[_f].keys():\n",
    "            return trans_dict[_f][_t]\n",
    "    return 0"
   ]
  },
  {
   "cell_type": "markdown",
   "metadata": {},
   "source": [
    "# validation"
   ]
  },
  {
   "cell_type": "code",
   "execution_count": 5,
   "metadata": {},
   "outputs": [],
   "source": [
    "N=5\n",
    "d = 4\n",
    "number_of_states = 8\n",
    "mues = list(range(1,number_of_states+1))\n",
    "sigmas = [m/10 for m in mues]"
   ]
  },
  {
   "cell_type": "code",
   "execution_count": 6,
   "metadata": {},
   "outputs": [],
   "source": [
    "# build pome model for test\n",
    "_simulator = Simulator_for_Gibbs(N,d,number_of_states,500,1,True)\n",
    "pome_meta =  _simulator.build_pome_model(N, d, mues, sigmas,True)\n",
    "states_name_to_mue = pome_meta[-1]\n",
    "\n",
    "\n",
    "pome_model = pome_meta[0]\n",
    "transitions  = extrect_states_transitions_dict_from_pome_model(pome_model)[0]\n"
   ]
  },
  {
   "cell_type": "code",
   "execution_count": 7,
   "metadata": {},
   "outputs": [
    {
     "data": {
      "text/plain": [
       "-8.227331054411664"
      ]
     },
     "execution_count": 7,
     "metadata": {},
     "output_type": "execute_result"
    }
   ],
   "source": [
    "pome_model.log_probability(pome_model.sample())"
   ]
  },
  {
   "cell_type": "code",
   "execution_count": 85,
   "metadata": {
    "code_folding": []
   },
   "outputs": [],
   "source": [
    "# build hmmlearn model\n",
    "_mues_hlearn = np.zeros((N*d,1))\n",
    "_trans_hlearn = np.zeros((N*d,N*d))\n",
    "_inital_hlearn = np.zeros(N*d)\n",
    "\n",
    "_inital_hlearn[:d] = 1/d\n",
    "for _d,_t in itertools.product(range(d),range(N)) : \n",
    "    _loc = _t*(N-1) + _d\n",
    "    _mues_hlearn[_loc] = states_name_to_mue[((_d,_t))] +1 \n",
    "\n",
    "# _cov_hlearn = _mues_hlearn/10\n",
    "_cov_hlearn = np.array([np.array([mu/10]) for mu in _mues_hlearn])\n",
    "\n",
    "for _d,_t in itertools.product(range(d),range(N)) : \n",
    "    for _dd,_tt in itertools.product(range(d),range(N)) :\n",
    "        _from_loc = _t*(N-1) + _d\n",
    "        _to_loc = _tt*(N-1) + _dd\n",
    "        \n",
    "        _trans_hlearn[_from_loc,_to_loc] = get_transition((_d,_t),(_dd,_tt),transitions)\n"
   ]
  },
  {
   "cell_type": "code",
   "execution_count": 86,
   "metadata": {},
   "outputs": [
    {
     "data": {
      "text/plain": [
       "array([[[0.7]],\n",
       "\n",
       "       [[0.3]],\n",
       "\n",
       "       [[0.6]],\n",
       "\n",
       "       [[0.1]],\n",
       "\n",
       "       [[0.2]],\n",
       "\n",
       "       [[0.6]],\n",
       "\n",
       "       [[0.7]],\n",
       "\n",
       "       [[0.5]],\n",
       "\n",
       "       [[0.4]],\n",
       "\n",
       "       [[0.6]],\n",
       "\n",
       "       [[0.7]],\n",
       "\n",
       "       [[0.5]],\n",
       "\n",
       "       [[0.6]],\n",
       "\n",
       "       [[0.7]],\n",
       "\n",
       "       [[0.1]],\n",
       "\n",
       "       [[0.3]],\n",
       "\n",
       "       [[0.8]],\n",
       "\n",
       "       [[0.1]],\n",
       "\n",
       "       [[0.2]],\n",
       "\n",
       "       [[0.4]]])"
      ]
     },
     "execution_count": 86,
     "metadata": {},
     "output_type": "execute_result"
    }
   ],
   "source": [
    "_cov_hlearn"
   ]
  },
  {
   "cell_type": "code",
   "execution_count": 87,
   "metadata": {},
   "outputs": [],
   "source": [
    "\n",
    "model = hmm.GaussianHMM(n_components=N*d,covariance_type='spherical', startprob_prior = _inital_hlearn,\n",
    "                        transmat_prior= _trans_hlearn,\n",
    "                     init_params=\"\", params=\"\")\n",
    "model.means_ = _mues_hlearn\n",
    "model.covars_ = _cov_hlearn"
   ]
  },
  {
   "cell_type": "code",
   "execution_count": 88,
   "metadata": {},
   "outputs": [],
   "source": [
    "# ?hmm.GaussianHMM"
   ]
  },
  {
   "cell_type": "code",
   "execution_count": 89,
   "metadata": {},
   "outputs": [
    {
     "ename": "NotFittedError",
     "evalue": "This GaussianHMM instance is not fitted yet. Call 'fit' with appropriate arguments before using this method.",
     "output_type": "error",
     "traceback": [
      "\u001b[1;31m---------------------------------------------------------------------------\u001b[0m",
      "\u001b[1;31mNotFittedError\u001b[0m                            Traceback (most recent call last)",
      "\u001b[1;32m<ipython-input-89-a9ae4fc70809>\u001b[0m in \u001b[0;36m<module>\u001b[1;34m()\u001b[0m\n\u001b[1;32m----> 1\u001b[1;33m \u001b[0mmodel\u001b[0m\u001b[1;33m.\u001b[0m\u001b[0msample\u001b[0m\u001b[1;33m(\u001b[0m\u001b[1;36m10\u001b[0m\u001b[1;33m)\u001b[0m\u001b[1;33m\u001b[0m\u001b[0m\n\u001b[0m",
      "\u001b[1;32mC:\\ProgramData\\Anaconda3\\lib\\site-packages\\hmmlearn\\base.py\u001b[0m in \u001b[0;36msample\u001b[1;34m(self, n_samples, random_state)\u001b[0m\n\u001b[0;32m    413\u001b[0m             \u001b[0mState\u001b[0m \u001b[0msequence\u001b[0m \u001b[0mproduced\u001b[0m \u001b[0mby\u001b[0m \u001b[0mthe\u001b[0m \u001b[0mmodel\u001b[0m\u001b[1;33m.\u001b[0m\u001b[1;33m\u001b[0m\u001b[0m\n\u001b[0;32m    414\u001b[0m         \"\"\"\n\u001b[1;32m--> 415\u001b[1;33m         \u001b[0m_utils\u001b[0m\u001b[1;33m.\u001b[0m\u001b[0mcheck_is_fitted\u001b[0m\u001b[1;33m(\u001b[0m\u001b[0mself\u001b[0m\u001b[1;33m,\u001b[0m \u001b[1;34m\"startprob_\"\u001b[0m\u001b[1;33m)\u001b[0m\u001b[1;33m\u001b[0m\u001b[0m\n\u001b[0m\u001b[0;32m    416\u001b[0m         \u001b[0mself\u001b[0m\u001b[1;33m.\u001b[0m\u001b[0m_check\u001b[0m\u001b[1;33m(\u001b[0m\u001b[1;33m)\u001b[0m\u001b[1;33m\u001b[0m\u001b[0m\n\u001b[0;32m    417\u001b[0m \u001b[1;33m\u001b[0m\u001b[0m\n",
      "\u001b[1;32mC:\\ProgramData\\Anaconda3\\lib\\site-packages\\hmmlearn\\_utils.py\u001b[0m in \u001b[0;36mcheck_is_fitted\u001b[1;34m(estimator, attribute)\u001b[0m\n\u001b[0;32m     69\u001b[0m             \u001b[1;34m\"This %s instance is not fitted yet. Call 'fit' with \"\u001b[0m\u001b[1;33m\u001b[0m\u001b[0m\n\u001b[0;32m     70\u001b[0m             \u001b[1;34m\"appropriate arguments before using this method.\"\u001b[0m\u001b[1;33m\u001b[0m\u001b[0m\n\u001b[1;32m---> 71\u001b[1;33m             % type(estimator).__name__)\n\u001b[0m",
      "\u001b[1;31mNotFittedError\u001b[0m: This GaussianHMM instance is not fitted yet. Call 'fit' with appropriate arguments before using this method."
     ]
    }
   ],
   "source": [
    "model.sample(10)"
   ]
  },
  {
   "cell_type": "code",
   "execution_count": 75,
   "metadata": {},
   "outputs": [
    {
     "data": {
      "text/plain": [
       "1"
      ]
     },
     "execution_count": 75,
     "metadata": {},
     "output_type": "execute_result"
    }
   ],
   "source": [
    "_mues_hlearn.shape[1]"
   ]
  },
  {
   "cell_type": "code",
   "execution_count": null,
   "metadata": {},
   "outputs": [],
   "source": []
  }
 ],
 "metadata": {
  "hide_input": false,
  "kernelspec": {
   "display_name": "Python 3",
   "language": "python",
   "name": "python3"
  },
  "language_info": {
   "codemirror_mode": {
    "name": "ipython",
    "version": 3
   },
   "file_extension": ".py",
   "mimetype": "text/x-python",
   "name": "python",
   "nbconvert_exporter": "python",
   "pygments_lexer": "ipython3",
   "version": "3.6.5"
  },
  "toc": {
   "base_numbering": 1,
   "nav_menu": {},
   "number_sections": true,
   "sideBar": true,
   "skip_h1_title": false,
   "title_cell": "Table of Contents",
   "title_sidebar": "Contents",
   "toc_cell": false,
   "toc_position": {},
   "toc_section_display": true,
   "toc_window_display": false
  }
 },
 "nbformat": 4,
 "nbformat_minor": 2
}
