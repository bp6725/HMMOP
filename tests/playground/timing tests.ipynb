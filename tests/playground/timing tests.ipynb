{
 "cells": [
  {
   "cell_type": "code",
   "execution_count": 18,
   "metadata": {},
   "outputs": [],
   "source": [
    "# INIT"
   ]
  },
  {
   "cell_type": "code",
   "execution_count": 1,
   "metadata": {},
   "outputs": [],
   "source": [
    "import pandas  as pd\n",
    "import pickle\n",
    "import matplotlib.pyplot\n",
    "import sys\n",
    "import numpy as np\n",
    "from sklearn.tree import DecisionTreeClassifier \n",
    "from sklearn import tree\n",
    "import matplotlib.pyplot as plt\n",
    "from functools import reduce\n",
    "from tqdm import tqdm\n",
    "import  snakeviz\n",
    "\n",
    "import itertools\n",
    "from scipy.stats import binom\n"
   ]
  },
  {
   "cell_type": "code",
   "execution_count": 2,
   "metadata": {},
   "outputs": [],
   "source": [
    "sys.path.append('C:\\Repos\\WhoCell\\who_cell')\n",
    "sys.path.append('C:\\Repos\\WhoCell')\n",
    "sys.path.append('C:/Repos/WhoCell/who_cell/simulation/')\n",
    "sys.path.append('C:\\Repos\\WhoCell\\who_cell\\experiments')\n",
    "sys.path.append('C:/Repos/WhoCell/who_cell/models')\n",
    "sys.path.append('C:\\Repos\\pomegranate')\n",
    "\n",
    "\n",
    "from pomegranate import *\n",
    "import pomegranate as pome\n",
    "import transitions_dict\n",
    "import who_cell\n",
    "from gibbs_experiments import GibbsExperiment\n",
    "from gibbs_sampler import GibbsSampler\n",
    "from simulation_for_gibbs import Simulator_for_Gibbs"
   ]
  },
  {
   "cell_type": "markdown",
   "metadata": {
    "heading_collapsed": true
   },
   "source": [
    "# test sample_traj_for_few_obs times"
   ]
  },
  {
   "cell_type": "code",
   "execution_count": 3,
   "metadata": {
    "hidden": true
   },
   "outputs": [],
   "source": [
    "number_of_inputs = 1000\n",
    "N_max = 12\n",
    "p_prob_of_observation = 0.7"
   ]
  },
  {
   "cell_type": "code",
   "execution_count": 4,
   "metadata": {
    "hidden": true
   },
   "outputs": [],
   "source": [
    "long_vectors = [list(np.random.randn(np.random.randint(2,N_max))) for i in range(number_of_inputs)]\n",
    "# long_vectors = [list(np.random.randn(N_max)) for i in range(number_of_inputs)]"
   ]
  },
  {
   "cell_type": "code",
   "execution_count": 5,
   "metadata": {
    "hidden": true
   },
   "outputs": [],
   "source": [
    "def _sample_n_points_from_traj(full_sample,_n):\n",
    "    ws = sorted(np.random.choice(range(len(full_sample)), _n, replace=False))\n",
    "    return ([full_sample[i] for i in ws],ws)"
   ]
  },
  {
   "cell_type": "code",
   "execution_count": 6,
   "metadata": {
    "hidden": true
   },
   "outputs": [],
   "source": [
    "results = [] \n",
    "\n",
    "for vec in long_vectors :\n",
    "    binom_dist = binom(len(vec), p_prob_of_observation)\n",
    "    n_of_obs = binom_dist.rvs(1)\n",
    "    n_of_obs = n_of_obs if n_of_obs > 2 else 2\n",
    "    _new_vec = _sample_n_points_from_traj(vec,n_of_obs)\n",
    "    results.append(_new_vec)"
   ]
  },
  {
   "cell_type": "code",
   "execution_count": 7,
   "metadata": {
    "hidden": true
   },
   "outputs": [
    {
     "data": {
      "text/plain": [
       "([-0.7880353474101042,\n",
       "  -0.7599086302825049,\n",
       "  1.7427133881488195,\n",
       "  -0.7028320334672464],\n",
       " [0, 1, 2, 4])"
      ]
     },
     "execution_count": 7,
     "metadata": {},
     "output_type": "execute_result"
    }
   ],
   "source": [
    "results[1]"
   ]
  },
  {
   "cell_type": "markdown",
   "metadata": {
    "heading_collapsed": true
   },
   "source": [
    "# create pome distrbution or update"
   ]
  },
  {
   "cell_type": "code",
   "execution_count": 8,
   "metadata": {
    "hidden": true
   },
   "outputs": [],
   "source": [
    "# %%timeit\n",
    "res_0 = [] \n",
    "for i in range(1000) : \n",
    "    dist = pome.NormalDistribution(i,0.1)\n",
    "    res_0.append(dist.probability(i))\n",
    "# print(res_0)"
   ]
  },
  {
   "cell_type": "code",
   "execution_count": 9,
   "metadata": {
    "hidden": true
   },
   "outputs": [],
   "source": [
    "# %%timeit\n",
    "res_1 = [] \n",
    "dist = pome.NormalDistribution(1,0.1)\n",
    "for i in range(1000) : \n",
    "    dist.parameters = [i,0.1]\n",
    "    res_1.append(dist.probability(i))\n",
    "# print(res_1)"
   ]
  },
  {
   "cell_type": "code",
   "execution_count": 10,
   "metadata": {
    "hidden": true
   },
   "outputs": [],
   "source": [
    "# %%timeit\n",
    "res_2 = [] \n",
    "dist = pome.NormalDistribution(1,0.1)\n",
    "for i in range(1000) : \n",
    "    res_2.append(dist.probability(1))\n",
    "# print(res_1)"
   ]
  },
  {
   "cell_type": "code",
   "execution_count": 11,
   "metadata": {
    "hidden": true
   },
   "outputs": [],
   "source": [
    "a = set(range(-3,5))\n",
    "b = set(range(9))"
   ]
  },
  {
   "cell_type": "code",
   "execution_count": 12,
   "metadata": {
    "hidden": true
   },
   "outputs": [],
   "source": [
    "a = np.random.randint(0,100,1000)\n",
    "b = np.random.randint(0,100,1000)\n",
    "\n",
    "c = np.random.randint(0,100,1000)\n",
    "d = np.random.randint(0,100,1000)\n",
    "\n",
    "froms = list(map(lambda x:(x[0],x[1]),zip(a,b)))\n",
    "tos = list(map(lambda x:(x[0],x[1]),zip(c,d)))\n"
   ]
  },
  {
   "cell_type": "code",
   "execution_count": 13,
   "metadata": {
    "hidden": true
   },
   "outputs": [],
   "source": [
    "# %%timeit\n",
    "def _sample_trans_matrix( trans_prob, from_state, to_state,is_acyclic):\n",
    "    if ((not is_acyclic) and ((to_state[1] - from_state[1]) != 1)) : return 0\n",
    "    if from_state not in trans_prob.keys() : return 0\n",
    "    if to_state not in trans_prob[from_state].keys() : return 0\n",
    "\n",
    "    return trans_prob[from_state][to_state]\n",
    "\n",
    "_d = {(i,i):{(j,j):j for j in range(100)} for i in range(100)}\n",
    "res = [_sample_trans_matrix( _d, _f, _t,True) for _f,_t in zip(froms,tos)]\n",
    "res = [_sample_trans_matrix( _d, _f, _t,False) for _f,_t in zip(froms,tos)]\n"
   ]
  },
  {
   "cell_type": "code",
   "execution_count": 14,
   "metadata": {
    "hidden": true
   },
   "outputs": [],
   "source": [
    "# %%timeit\n",
    "def _sample_trans_matrix( trans_prob, from_state, to_state,is_acyclic):\n",
    "    if from_state not in trans_prob.keys() : return 0\n",
    "    if to_state not in trans_prob[from_state].keys() : return 0\n",
    "    if ((not is_acyclic) and ((to_state[1] - from_state[1]) != 1)) : return 0\n",
    "\n",
    "    return trans_prob[from_state][to_state]\n",
    "\n",
    "_d = {(i,i):{(j,j):j for j in range(100)} for i in range(100)}\n",
    "res = [_sample_trans_matrix( _d, _f, _t,True) for _f,_t in zip(froms,tos)]\n",
    "res = [_sample_trans_matrix( _d, _f, _t,False) for _f,_t in zip(froms,tos)]\n"
   ]
  },
  {
   "cell_type": "code",
   "execution_count": 15,
   "metadata": {
    "hidden": true
   },
   "outputs": [],
   "source": [
    "# %%timeit\n",
    "def _sample_trans_matrix( trans_prob, from_state, to_state,is_acyclic,kes):\n",
    "    if from_state not in kes : return 0\n",
    "    if to_state not in trans_prob[from_state].keys() : return 0\n",
    "    if ((not is_acyclic) and ((to_state[1] - from_state[1]) != 1)) : return 0\n",
    "\n",
    "    return trans_prob[from_state][to_state]\n",
    "\n",
    "_d = {(i,i):{(j,j):j for j in range(100)} for i in range(100)}\n",
    "_d_keys = set(_d.keys())\n",
    "res = [_sample_trans_matrix( _d, _f, _t,True,_d_keys) for _f,_t in zip(froms,tos)]\n",
    "res = [_sample_trans_matrix( _d, _f, _t,False,_d_keys) for _f,_t in zip(froms,tos)]\n"
   ]
  },
  {
   "cell_type": "code",
   "execution_count": 16,
   "metadata": {
    "hidden": true
   },
   "outputs": [],
   "source": [
    "l = list(range(100))"
   ]
  },
  {
   "cell_type": "code",
   "execution_count": 17,
   "metadata": {
    "hidden": true
   },
   "outputs": [
    {
     "data": {
      "text/plain": [
       "[0,\n",
       " 4,\n",
       " 8,\n",
       " 12,\n",
       " 16,\n",
       " 20,\n",
       " 24,\n",
       " 28,\n",
       " 32,\n",
       " 36,\n",
       " 40,\n",
       " 44,\n",
       " 48,\n",
       " 52,\n",
       " 56,\n",
       " 60,\n",
       " 64,\n",
       " 68,\n",
       " 72,\n",
       " 76,\n",
       " 80,\n",
       " 84,\n",
       " 88,\n",
       " 92,\n",
       " 96]"
      ]
     },
     "execution_count": 17,
     "metadata": {},
     "output_type": "execute_result"
    }
   ],
   "source": [
    "l[::4]"
   ]
  },
  {
   "cell_type": "markdown",
   "metadata": {},
   "source": [
    "# compare transitions matrixes"
   ]
  },
  {
   "cell_type": "code",
   "execution_count": 19,
   "metadata": {},
   "outputs": [
    {
     "data": {
      "image/png": "[encoded data removed]",
      "text/plain": [
       "<Figure size 432x288 with 4 Axes>"
      ]
     },
     "metadata": {
      "needs_background": "light"
     },
     "output_type": "display_data"
    }
   ],
   "source": [
    "import matplotlib.pyplot as plt\n",
    "import numpy as np\n",
    "import pandas as pd\n",
    "import seaborn as sns\n",
    "\n",
    "df =  pd.DataFrame(np.random.rand(25,4), columns=list(\"ABCD\"))\n",
    "df2 = pd.DataFrame(np.random.rand(25,4), columns=list(\"WXYZ\"))\n",
    "\n",
    "fig, (ax,ax2) = plt.subplots(ncols=2)\n",
    "fig.subplots_adjust(wspace=0.01)\n",
    "sns.heatmap(df, cmap=\"rocket\", ax=ax, cbar=False)\n",
    "fig.colorbar(ax.collections[0], ax=ax,location=\"left\", use_gridspec=False, pad=0.2)\n",
    "sns.heatmap(df2, cmap=\"icefire\", ax=ax2, cbar=False)\n",
    "fig.colorbar(ax2.collections[0], ax=ax2,location=\"right\", use_gridspec=False, pad=0.2)\n",
    "ax2.yaxis.tick_right()\n",
    "ax2.tick_params(rotation=0)\n",
    "plt.show()"
   ]
  }
 ],
 "metadata": {
  "hide_input": false,
  "kernelspec": {
   "display_name": "Python 3",
   "language": "python",
   "name": "python3"
  },
  "language_info": {
   "codemirror_mode": {
    "name": "ipython",
    "version": 3
   },
   "file_extension": ".py",
   "mimetype": "text/x-python",
   "name": "python",
   "nbconvert_exporter": "python",
   "pygments_lexer": "ipython3",
   "version": "3.6.5"
  },
  "toc": {
   "base_numbering": 1,
   "nav_menu": {},
   "number_sections": true,
   "sideBar": true,
   "skip_h1_title": false,
   "title_cell": "Table of Contents",
   "title_sidebar": "Contents",
   "toc_cell": false,
   "toc_position": {},
   "toc_section_display": true,
   "toc_window_display": false
  }
 },
 "nbformat": 4,
 "nbformat_minor": 2
}
