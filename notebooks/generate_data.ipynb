{
 "cells": [
  {
   "cell_type": "code",
   "execution_count": 7,
   "metadata": {},
   "outputs": [],
   "source": [
    "import pandas as pd\n",
    "import numpy as np\n",
    "import itertools\n",
    "from tqdm import tqdm\n",
    "import random\n",
    "import functools\n",
    "\n",
    "import pomegranate\n",
    "from pomegranate import HiddenMarkovModel ,State\n",
    "from pomegranate.distributions import IndependentComponentsDistribution\n",
    "from pomegranate.distributions import NormalDistribution\n",
    "\n",
    "import copy"
   ]
  },
  {
   "cell_type": "code",
   "execution_count": 2,
   "metadata": {},
   "outputs": [],
   "source": [
    "n_dim_of_chain=8\n",
    "n_of_chains = 5\n"
   ]
  },
  {
   "cell_type": "markdown",
   "metadata": {},
   "source": [
    "# reload the meta network"
   ]
  },
  {
   "cell_type": "code",
   "execution_count": 3,
   "metadata": {},
   "outputs": [],
   "source": [
    "import pickle as pkl\n",
    "with open(\"markov_network\",'rb') as f : \n",
    "    state_comb_to_walks_comb_dict = pkl.load(f)"
   ]
  },
  {
   "cell_type": "markdown",
   "metadata": {},
   "source": [
    "# generate_data"
   ]
  },
  {
   "cell_type": "code",
   "execution_count": 4,
   "metadata": {},
   "outputs": [],
   "source": [
    "n_of_states_in_meta_network = len(state_comb_to_walks_comb_dict.keys())\n",
    "size_of_possible_rw = 30\n",
    "number_of_seqs = 500"
   ]
  },
  {
   "cell_type": "code",
   "execution_count": 5,
   "metadata": {},
   "outputs": [],
   "source": [
    "def pick_random_next_stage(_possible_next_steps,state_comb_to_walks_comb_dict) : \n",
    "    if len(_possible_next_steps) == 0 :\n",
    "        return None\n",
    "    \n",
    "    first_pick = random.choice(_possible_next_steps)\n",
    "    if first_pick in all_possible_states :\n",
    "        return first_pick\n",
    "    _possible_next_steps.remove(first_pick)\n",
    "    return pick_random_next_stage(_possible_next_steps,state_comb_to_walks_comb_dict)\n",
    "    "
   ]
  },
  {
   "cell_type": "code",
   "execution_count": 8,
   "metadata": {},
   "outputs": [
    {
     "ename": "KeyboardInterrupt",
     "evalue": "",
     "output_type": "error",
     "traceback": [
      "\u001b[1;31m---------------------------------------------------------------------------\u001b[0m",
      "\u001b[1;31mKeyboardInterrupt\u001b[0m                         Traceback (most recent call last)",
      "\u001b[1;32m<ipython-input-8-c51b5c1f8327>\u001b[0m in \u001b[0;36m<module>\u001b[1;34m()\u001b[0m\n\u001b[0;32m      9\u001b[0m     \u001b[1;32mfor\u001b[0m \u001b[0mj\u001b[0m \u001b[1;32min\u001b[0m \u001b[0mrange\u001b[0m\u001b[1;33m(\u001b[0m\u001b[0msize_of_possible_rw\u001b[0m\u001b[1;33m)\u001b[0m \u001b[1;33m:\u001b[0m\u001b[1;33m\u001b[0m\u001b[0m\n\u001b[0;32m     10\u001b[0m         \u001b[0mpossible_next_steps\u001b[0m \u001b[1;33m=\u001b[0m \u001b[0mcopy\u001b[0m\u001b[1;33m.\u001b[0m\u001b[0mcopy\u001b[0m\u001b[1;33m(\u001b[0m\u001b[0mstate_comb_to_walks_comb_dict\u001b[0m\u001b[1;33m[\u001b[0m\u001b[0mcurr_random_state\u001b[0m\u001b[1;33m]\u001b[0m\u001b[1;33m)\u001b[0m\u001b[1;33m\u001b[0m\u001b[0m\n\u001b[1;32m---> 11\u001b[1;33m         \u001b[0mcurr_random_state\u001b[0m \u001b[1;33m=\u001b[0m \u001b[0mpick_random_next_stage\u001b[0m\u001b[1;33m(\u001b[0m\u001b[0mpossible_next_steps\u001b[0m\u001b[1;33m,\u001b[0m\u001b[0mstate_comb_to_walks_comb_dict\u001b[0m\u001b[1;33m)\u001b[0m\u001b[1;33m\u001b[0m\u001b[0m\n\u001b[0m\u001b[0;32m     12\u001b[0m \u001b[1;33m\u001b[0m\u001b[0m\n\u001b[0;32m     13\u001b[0m         \u001b[1;32mif\u001b[0m \u001b[0mcurr_random_state\u001b[0m \u001b[1;32mis\u001b[0m \u001b[1;32mNone\u001b[0m \u001b[1;33m:\u001b[0m\u001b[1;33m\u001b[0m\u001b[0m\n",
      "\u001b[1;32m<ipython-input-5-640ae8a26d7c>\u001b[0m in \u001b[0;36mpick_random_next_stage\u001b[1;34m(_possible_next_steps, state_comb_to_walks_comb_dict)\u001b[0m\n\u001b[0;32m      7\u001b[0m         \u001b[1;32mreturn\u001b[0m \u001b[0mfirst_pick\u001b[0m\u001b[1;33m\u001b[0m\u001b[0m\n\u001b[0;32m      8\u001b[0m     \u001b[0m_possible_next_steps\u001b[0m\u001b[1;33m.\u001b[0m\u001b[0mremove\u001b[0m\u001b[1;33m(\u001b[0m\u001b[0mfirst_pick\u001b[0m\u001b[1;33m)\u001b[0m\u001b[1;33m\u001b[0m\u001b[0m\n\u001b[1;32m----> 9\u001b[1;33m     \u001b[1;32mreturn\u001b[0m \u001b[0mpick_random_next_stage\u001b[0m\u001b[1;33m(\u001b[0m\u001b[0m_possible_next_steps\u001b[0m\u001b[1;33m,\u001b[0m\u001b[0mstate_comb_to_walks_comb_dict\u001b[0m\u001b[1;33m)\u001b[0m\u001b[1;33m\u001b[0m\u001b[0m\n\u001b[0m\u001b[0;32m     10\u001b[0m \u001b[1;33m\u001b[0m\u001b[0m\n",
      "\u001b[1;32m<ipython-input-5-640ae8a26d7c>\u001b[0m in \u001b[0;36mpick_random_next_stage\u001b[1;34m(_possible_next_steps, state_comb_to_walks_comb_dict)\u001b[0m\n\u001b[0;32m      7\u001b[0m         \u001b[1;32mreturn\u001b[0m \u001b[0mfirst_pick\u001b[0m\u001b[1;33m\u001b[0m\u001b[0m\n\u001b[0;32m      8\u001b[0m     \u001b[0m_possible_next_steps\u001b[0m\u001b[1;33m.\u001b[0m\u001b[0mremove\u001b[0m\u001b[1;33m(\u001b[0m\u001b[0mfirst_pick\u001b[0m\u001b[1;33m)\u001b[0m\u001b[1;33m\u001b[0m\u001b[0m\n\u001b[1;32m----> 9\u001b[1;33m     \u001b[1;32mreturn\u001b[0m \u001b[0mpick_random_next_stage\u001b[0m\u001b[1;33m(\u001b[0m\u001b[0m_possible_next_steps\u001b[0m\u001b[1;33m,\u001b[0m\u001b[0mstate_comb_to_walks_comb_dict\u001b[0m\u001b[1;33m)\u001b[0m\u001b[1;33m\u001b[0m\u001b[0m\n\u001b[0m\u001b[0;32m     10\u001b[0m \u001b[1;33m\u001b[0m\u001b[0m\n",
      "\u001b[1;32m<ipython-input-5-640ae8a26d7c>\u001b[0m in \u001b[0;36mpick_random_next_stage\u001b[1;34m(_possible_next_steps, state_comb_to_walks_comb_dict)\u001b[0m\n\u001b[0;32m      7\u001b[0m         \u001b[1;32mreturn\u001b[0m \u001b[0mfirst_pick\u001b[0m\u001b[1;33m\u001b[0m\u001b[0m\n\u001b[0;32m      8\u001b[0m     \u001b[0m_possible_next_steps\u001b[0m\u001b[1;33m.\u001b[0m\u001b[0mremove\u001b[0m\u001b[1;33m(\u001b[0m\u001b[0mfirst_pick\u001b[0m\u001b[1;33m)\u001b[0m\u001b[1;33m\u001b[0m\u001b[0m\n\u001b[1;32m----> 9\u001b[1;33m     \u001b[1;32mreturn\u001b[0m \u001b[0mpick_random_next_stage\u001b[0m\u001b[1;33m(\u001b[0m\u001b[0m_possible_next_steps\u001b[0m\u001b[1;33m,\u001b[0m\u001b[0mstate_comb_to_walks_comb_dict\u001b[0m\u001b[1;33m)\u001b[0m\u001b[1;33m\u001b[0m\u001b[0m\n\u001b[0m\u001b[0;32m     10\u001b[0m \u001b[1;33m\u001b[0m\u001b[0m\n",
      "\u001b[1;32m<ipython-input-5-640ae8a26d7c>\u001b[0m in \u001b[0;36mpick_random_next_stage\u001b[1;34m(_possible_next_steps, state_comb_to_walks_comb_dict)\u001b[0m\n\u001b[0;32m      7\u001b[0m         \u001b[1;32mreturn\u001b[0m \u001b[0mfirst_pick\u001b[0m\u001b[1;33m\u001b[0m\u001b[0m\n\u001b[0;32m      8\u001b[0m     \u001b[0m_possible_next_steps\u001b[0m\u001b[1;33m.\u001b[0m\u001b[0mremove\u001b[0m\u001b[1;33m(\u001b[0m\u001b[0mfirst_pick\u001b[0m\u001b[1;33m)\u001b[0m\u001b[1;33m\u001b[0m\u001b[0m\n\u001b[1;32m----> 9\u001b[1;33m     \u001b[1;32mreturn\u001b[0m \u001b[0mpick_random_next_stage\u001b[0m\u001b[1;33m(\u001b[0m\u001b[0m_possible_next_steps\u001b[0m\u001b[1;33m,\u001b[0m\u001b[0mstate_comb_to_walks_comb_dict\u001b[0m\u001b[1;33m)\u001b[0m\u001b[1;33m\u001b[0m\u001b[0m\n\u001b[0m\u001b[0;32m     10\u001b[0m \u001b[1;33m\u001b[0m\u001b[0m\n",
      "\u001b[1;32m<ipython-input-5-640ae8a26d7c>\u001b[0m in \u001b[0;36mpick_random_next_stage\u001b[1;34m(_possible_next_steps, state_comb_to_walks_comb_dict)\u001b[0m\n\u001b[0;32m      7\u001b[0m         \u001b[1;32mreturn\u001b[0m \u001b[0mfirst_pick\u001b[0m\u001b[1;33m\u001b[0m\u001b[0m\n\u001b[0;32m      8\u001b[0m     \u001b[0m_possible_next_steps\u001b[0m\u001b[1;33m.\u001b[0m\u001b[0mremove\u001b[0m\u001b[1;33m(\u001b[0m\u001b[0mfirst_pick\u001b[0m\u001b[1;33m)\u001b[0m\u001b[1;33m\u001b[0m\u001b[0m\n\u001b[1;32m----> 9\u001b[1;33m     \u001b[1;32mreturn\u001b[0m \u001b[0mpick_random_next_stage\u001b[0m\u001b[1;33m(\u001b[0m\u001b[0m_possible_next_steps\u001b[0m\u001b[1;33m,\u001b[0m\u001b[0mstate_comb_to_walks_comb_dict\u001b[0m\u001b[1;33m)\u001b[0m\u001b[1;33m\u001b[0m\u001b[0m\n\u001b[0m\u001b[0;32m     10\u001b[0m \u001b[1;33m\u001b[0m\u001b[0m\n",
      "\u001b[1;32m<ipython-input-5-640ae8a26d7c>\u001b[0m in \u001b[0;36mpick_random_next_stage\u001b[1;34m(_possible_next_steps, state_comb_to_walks_comb_dict)\u001b[0m\n\u001b[0;32m      7\u001b[0m         \u001b[1;32mreturn\u001b[0m \u001b[0mfirst_pick\u001b[0m\u001b[1;33m\u001b[0m\u001b[0m\n\u001b[0;32m      8\u001b[0m     \u001b[0m_possible_next_steps\u001b[0m\u001b[1;33m.\u001b[0m\u001b[0mremove\u001b[0m\u001b[1;33m(\u001b[0m\u001b[0mfirst_pick\u001b[0m\u001b[1;33m)\u001b[0m\u001b[1;33m\u001b[0m\u001b[0m\n\u001b[1;32m----> 9\u001b[1;33m     \u001b[1;32mreturn\u001b[0m \u001b[0mpick_random_next_stage\u001b[0m\u001b[1;33m(\u001b[0m\u001b[0m_possible_next_steps\u001b[0m\u001b[1;33m,\u001b[0m\u001b[0mstate_comb_to_walks_comb_dict\u001b[0m\u001b[1;33m)\u001b[0m\u001b[1;33m\u001b[0m\u001b[0m\n\u001b[0m\u001b[0;32m     10\u001b[0m \u001b[1;33m\u001b[0m\u001b[0m\n",
      "\u001b[1;32m<ipython-input-5-640ae8a26d7c>\u001b[0m in \u001b[0;36mpick_random_next_stage\u001b[1;34m(_possible_next_steps, state_comb_to_walks_comb_dict)\u001b[0m\n\u001b[0;32m      7\u001b[0m         \u001b[1;32mreturn\u001b[0m \u001b[0mfirst_pick\u001b[0m\u001b[1;33m\u001b[0m\u001b[0m\n\u001b[0;32m      8\u001b[0m     \u001b[0m_possible_next_steps\u001b[0m\u001b[1;33m.\u001b[0m\u001b[0mremove\u001b[0m\u001b[1;33m(\u001b[0m\u001b[0mfirst_pick\u001b[0m\u001b[1;33m)\u001b[0m\u001b[1;33m\u001b[0m\u001b[0m\n\u001b[1;32m----> 9\u001b[1;33m     \u001b[1;32mreturn\u001b[0m \u001b[0mpick_random_next_stage\u001b[0m\u001b[1;33m(\u001b[0m\u001b[0m_possible_next_steps\u001b[0m\u001b[1;33m,\u001b[0m\u001b[0mstate_comb_to_walks_comb_dict\u001b[0m\u001b[1;33m)\u001b[0m\u001b[1;33m\u001b[0m\u001b[0m\n\u001b[0m\u001b[0;32m     10\u001b[0m \u001b[1;33m\u001b[0m\u001b[0m\n",
      "\u001b[1;32m<ipython-input-5-640ae8a26d7c>\u001b[0m in \u001b[0;36mpick_random_next_stage\u001b[1;34m(_possible_next_steps, state_comb_to_walks_comb_dict)\u001b[0m\n\u001b[0;32m      7\u001b[0m         \u001b[1;32mreturn\u001b[0m \u001b[0mfirst_pick\u001b[0m\u001b[1;33m\u001b[0m\u001b[0m\n\u001b[0;32m      8\u001b[0m     \u001b[0m_possible_next_steps\u001b[0m\u001b[1;33m.\u001b[0m\u001b[0mremove\u001b[0m\u001b[1;33m(\u001b[0m\u001b[0mfirst_pick\u001b[0m\u001b[1;33m)\u001b[0m\u001b[1;33m\u001b[0m\u001b[0m\n\u001b[1;32m----> 9\u001b[1;33m     \u001b[1;32mreturn\u001b[0m \u001b[0mpick_random_next_stage\u001b[0m\u001b[1;33m(\u001b[0m\u001b[0m_possible_next_steps\u001b[0m\u001b[1;33m,\u001b[0m\u001b[0mstate_comb_to_walks_comb_dict\u001b[0m\u001b[1;33m)\u001b[0m\u001b[1;33m\u001b[0m\u001b[0m\n\u001b[0m\u001b[0;32m     10\u001b[0m \u001b[1;33m\u001b[0m\u001b[0m\n",
      "\u001b[1;32m<ipython-input-5-640ae8a26d7c>\u001b[0m in \u001b[0;36mpick_random_next_stage\u001b[1;34m(_possible_next_steps, state_comb_to_walks_comb_dict)\u001b[0m\n\u001b[0;32m      7\u001b[0m         \u001b[1;32mreturn\u001b[0m \u001b[0mfirst_pick\u001b[0m\u001b[1;33m\u001b[0m\u001b[0m\n\u001b[0;32m      8\u001b[0m     \u001b[0m_possible_next_steps\u001b[0m\u001b[1;33m.\u001b[0m\u001b[0mremove\u001b[0m\u001b[1;33m(\u001b[0m\u001b[0mfirst_pick\u001b[0m\u001b[1;33m)\u001b[0m\u001b[1;33m\u001b[0m\u001b[0m\n\u001b[1;32m----> 9\u001b[1;33m     \u001b[1;32mreturn\u001b[0m \u001b[0mpick_random_next_stage\u001b[0m\u001b[1;33m(\u001b[0m\u001b[0m_possible_next_steps\u001b[0m\u001b[1;33m,\u001b[0m\u001b[0mstate_comb_to_walks_comb_dict\u001b[0m\u001b[1;33m)\u001b[0m\u001b[1;33m\u001b[0m\u001b[0m\n\u001b[0m\u001b[0;32m     10\u001b[0m \u001b[1;33m\u001b[0m\u001b[0m\n",
      "\u001b[1;32m<ipython-input-5-640ae8a26d7c>\u001b[0m in \u001b[0;36mpick_random_next_stage\u001b[1;34m(_possible_next_steps, state_comb_to_walks_comb_dict)\u001b[0m\n\u001b[0;32m      7\u001b[0m         \u001b[1;32mreturn\u001b[0m \u001b[0mfirst_pick\u001b[0m\u001b[1;33m\u001b[0m\u001b[0m\n\u001b[0;32m      8\u001b[0m     \u001b[0m_possible_next_steps\u001b[0m\u001b[1;33m.\u001b[0m\u001b[0mremove\u001b[0m\u001b[1;33m(\u001b[0m\u001b[0mfirst_pick\u001b[0m\u001b[1;33m)\u001b[0m\u001b[1;33m\u001b[0m\u001b[0m\n\u001b[1;32m----> 9\u001b[1;33m     \u001b[1;32mreturn\u001b[0m \u001b[0mpick_random_next_stage\u001b[0m\u001b[1;33m(\u001b[0m\u001b[0m_possible_next_steps\u001b[0m\u001b[1;33m,\u001b[0m\u001b[0mstate_comb_to_walks_comb_dict\u001b[0m\u001b[1;33m)\u001b[0m\u001b[1;33m\u001b[0m\u001b[0m\n\u001b[0m\u001b[0;32m     10\u001b[0m \u001b[1;33m\u001b[0m\u001b[0m\n",
      "\u001b[1;32m<ipython-input-5-640ae8a26d7c>\u001b[0m in \u001b[0;36mpick_random_next_stage\u001b[1;34m(_possible_next_steps, state_comb_to_walks_comb_dict)\u001b[0m\n\u001b[0;32m      7\u001b[0m         \u001b[1;32mreturn\u001b[0m \u001b[0mfirst_pick\u001b[0m\u001b[1;33m\u001b[0m\u001b[0m\n\u001b[0;32m      8\u001b[0m     \u001b[0m_possible_next_steps\u001b[0m\u001b[1;33m.\u001b[0m\u001b[0mremove\u001b[0m\u001b[1;33m(\u001b[0m\u001b[0mfirst_pick\u001b[0m\u001b[1;33m)\u001b[0m\u001b[1;33m\u001b[0m\u001b[0m\n\u001b[1;32m----> 9\u001b[1;33m     \u001b[1;32mreturn\u001b[0m \u001b[0mpick_random_next_stage\u001b[0m\u001b[1;33m(\u001b[0m\u001b[0m_possible_next_steps\u001b[0m\u001b[1;33m,\u001b[0m\u001b[0mstate_comb_to_walks_comb_dict\u001b[0m\u001b[1;33m)\u001b[0m\u001b[1;33m\u001b[0m\u001b[0m\n\u001b[0m\u001b[0;32m     10\u001b[0m \u001b[1;33m\u001b[0m\u001b[0m\n",
      "\u001b[1;32m<ipython-input-5-640ae8a26d7c>\u001b[0m in \u001b[0;36mpick_random_next_stage\u001b[1;34m(_possible_next_steps, state_comb_to_walks_comb_dict)\u001b[0m\n\u001b[0;32m      7\u001b[0m         \u001b[1;32mreturn\u001b[0m \u001b[0mfirst_pick\u001b[0m\u001b[1;33m\u001b[0m\u001b[0m\n\u001b[0;32m      8\u001b[0m     \u001b[0m_possible_next_steps\u001b[0m\u001b[1;33m.\u001b[0m\u001b[0mremove\u001b[0m\u001b[1;33m(\u001b[0m\u001b[0mfirst_pick\u001b[0m\u001b[1;33m)\u001b[0m\u001b[1;33m\u001b[0m\u001b[0m\n\u001b[1;32m----> 9\u001b[1;33m     \u001b[1;32mreturn\u001b[0m \u001b[0mpick_random_next_stage\u001b[0m\u001b[1;33m(\u001b[0m\u001b[0m_possible_next_steps\u001b[0m\u001b[1;33m,\u001b[0m\u001b[0mstate_comb_to_walks_comb_dict\u001b[0m\u001b[1;33m)\u001b[0m\u001b[1;33m\u001b[0m\u001b[0m\n\u001b[0m\u001b[0;32m     10\u001b[0m \u001b[1;33m\u001b[0m\u001b[0m\n",
      "\u001b[1;32m<ipython-input-5-640ae8a26d7c>\u001b[0m in \u001b[0;36mpick_random_next_stage\u001b[1;34m(_possible_next_steps, state_comb_to_walks_comb_dict)\u001b[0m\n\u001b[0;32m      7\u001b[0m         \u001b[1;32mreturn\u001b[0m \u001b[0mfirst_pick\u001b[0m\u001b[1;33m\u001b[0m\u001b[0m\n\u001b[0;32m      8\u001b[0m     \u001b[0m_possible_next_steps\u001b[0m\u001b[1;33m.\u001b[0m\u001b[0mremove\u001b[0m\u001b[1;33m(\u001b[0m\u001b[0mfirst_pick\u001b[0m\u001b[1;33m)\u001b[0m\u001b[1;33m\u001b[0m\u001b[0m\n\u001b[1;32m----> 9\u001b[1;33m     \u001b[1;32mreturn\u001b[0m \u001b[0mpick_random_next_stage\u001b[0m\u001b[1;33m(\u001b[0m\u001b[0m_possible_next_steps\u001b[0m\u001b[1;33m,\u001b[0m\u001b[0mstate_comb_to_walks_comb_dict\u001b[0m\u001b[1;33m)\u001b[0m\u001b[1;33m\u001b[0m\u001b[0m\n\u001b[0m\u001b[0;32m     10\u001b[0m \u001b[1;33m\u001b[0m\u001b[0m\n",
      "\u001b[1;32m<ipython-input-5-640ae8a26d7c>\u001b[0m in \u001b[0;36mpick_random_next_stage\u001b[1;34m(_possible_next_steps, state_comb_to_walks_comb_dict)\u001b[0m\n\u001b[0;32m      7\u001b[0m         \u001b[1;32mreturn\u001b[0m \u001b[0mfirst_pick\u001b[0m\u001b[1;33m\u001b[0m\u001b[0m\n\u001b[0;32m      8\u001b[0m     \u001b[0m_possible_next_steps\u001b[0m\u001b[1;33m.\u001b[0m\u001b[0mremove\u001b[0m\u001b[1;33m(\u001b[0m\u001b[0mfirst_pick\u001b[0m\u001b[1;33m)\u001b[0m\u001b[1;33m\u001b[0m\u001b[0m\n\u001b[1;32m----> 9\u001b[1;33m     \u001b[1;32mreturn\u001b[0m \u001b[0mpick_random_next_stage\u001b[0m\u001b[1;33m(\u001b[0m\u001b[0m_possible_next_steps\u001b[0m\u001b[1;33m,\u001b[0m\u001b[0mstate_comb_to_walks_comb_dict\u001b[0m\u001b[1;33m)\u001b[0m\u001b[1;33m\u001b[0m\u001b[0m\n\u001b[0m\u001b[0;32m     10\u001b[0m \u001b[1;33m\u001b[0m\u001b[0m\n",
      "\u001b[1;32m<ipython-input-5-640ae8a26d7c>\u001b[0m in \u001b[0;36mpick_random_next_stage\u001b[1;34m(_possible_next_steps, state_comb_to_walks_comb_dict)\u001b[0m\n\u001b[0;32m      7\u001b[0m         \u001b[1;32mreturn\u001b[0m \u001b[0mfirst_pick\u001b[0m\u001b[1;33m\u001b[0m\u001b[0m\n\u001b[0;32m      8\u001b[0m     \u001b[0m_possible_next_steps\u001b[0m\u001b[1;33m.\u001b[0m\u001b[0mremove\u001b[0m\u001b[1;33m(\u001b[0m\u001b[0mfirst_pick\u001b[0m\u001b[1;33m)\u001b[0m\u001b[1;33m\u001b[0m\u001b[0m\n\u001b[1;32m----> 9\u001b[1;33m     \u001b[1;32mreturn\u001b[0m \u001b[0mpick_random_next_stage\u001b[0m\u001b[1;33m(\u001b[0m\u001b[0m_possible_next_steps\u001b[0m\u001b[1;33m,\u001b[0m\u001b[0mstate_comb_to_walks_comb_dict\u001b[0m\u001b[1;33m)\u001b[0m\u001b[1;33m\u001b[0m\u001b[0m\n\u001b[0m\u001b[0;32m     10\u001b[0m \u001b[1;33m\u001b[0m\u001b[0m\n",
      "\u001b[1;32m<ipython-input-5-640ae8a26d7c>\u001b[0m in \u001b[0;36mpick_random_next_stage\u001b[1;34m(_possible_next_steps, state_comb_to_walks_comb_dict)\u001b[0m\n\u001b[0;32m      7\u001b[0m         \u001b[1;32mreturn\u001b[0m \u001b[0mfirst_pick\u001b[0m\u001b[1;33m\u001b[0m\u001b[0m\n\u001b[0;32m      8\u001b[0m     \u001b[0m_possible_next_steps\u001b[0m\u001b[1;33m.\u001b[0m\u001b[0mremove\u001b[0m\u001b[1;33m(\u001b[0m\u001b[0mfirst_pick\u001b[0m\u001b[1;33m)\u001b[0m\u001b[1;33m\u001b[0m\u001b[0m\n\u001b[1;32m----> 9\u001b[1;33m     \u001b[1;32mreturn\u001b[0m \u001b[0mpick_random_next_stage\u001b[0m\u001b[1;33m(\u001b[0m\u001b[0m_possible_next_steps\u001b[0m\u001b[1;33m,\u001b[0m\u001b[0mstate_comb_to_walks_comb_dict\u001b[0m\u001b[1;33m)\u001b[0m\u001b[1;33m\u001b[0m\u001b[0m\n\u001b[0m\u001b[0;32m     10\u001b[0m \u001b[1;33m\u001b[0m\u001b[0m\n",
      "\u001b[1;32m<ipython-input-5-640ae8a26d7c>\u001b[0m in \u001b[0;36mpick_random_next_stage\u001b[1;34m(_possible_next_steps, state_comb_to_walks_comb_dict)\u001b[0m\n\u001b[0;32m      7\u001b[0m         \u001b[1;32mreturn\u001b[0m \u001b[0mfirst_pick\u001b[0m\u001b[1;33m\u001b[0m\u001b[0m\n\u001b[0;32m      8\u001b[0m     \u001b[0m_possible_next_steps\u001b[0m\u001b[1;33m.\u001b[0m\u001b[0mremove\u001b[0m\u001b[1;33m(\u001b[0m\u001b[0mfirst_pick\u001b[0m\u001b[1;33m)\u001b[0m\u001b[1;33m\u001b[0m\u001b[0m\n\u001b[1;32m----> 9\u001b[1;33m     \u001b[1;32mreturn\u001b[0m \u001b[0mpick_random_next_stage\u001b[0m\u001b[1;33m(\u001b[0m\u001b[0m_possible_next_steps\u001b[0m\u001b[1;33m,\u001b[0m\u001b[0mstate_comb_to_walks_comb_dict\u001b[0m\u001b[1;33m)\u001b[0m\u001b[1;33m\u001b[0m\u001b[0m\n\u001b[0m\u001b[0;32m     10\u001b[0m \u001b[1;33m\u001b[0m\u001b[0m\n",
      "\u001b[1;32m<ipython-input-5-640ae8a26d7c>\u001b[0m in \u001b[0;36mpick_random_next_stage\u001b[1;34m(_possible_next_steps, state_comb_to_walks_comb_dict)\u001b[0m\n\u001b[0;32m      7\u001b[0m         \u001b[1;32mreturn\u001b[0m \u001b[0mfirst_pick\u001b[0m\u001b[1;33m\u001b[0m\u001b[0m\n\u001b[0;32m      8\u001b[0m     \u001b[0m_possible_next_steps\u001b[0m\u001b[1;33m.\u001b[0m\u001b[0mremove\u001b[0m\u001b[1;33m(\u001b[0m\u001b[0mfirst_pick\u001b[0m\u001b[1;33m)\u001b[0m\u001b[1;33m\u001b[0m\u001b[0m\n\u001b[1;32m----> 9\u001b[1;33m     \u001b[1;32mreturn\u001b[0m \u001b[0mpick_random_next_stage\u001b[0m\u001b[1;33m(\u001b[0m\u001b[0m_possible_next_steps\u001b[0m\u001b[1;33m,\u001b[0m\u001b[0mstate_comb_to_walks_comb_dict\u001b[0m\u001b[1;33m)\u001b[0m\u001b[1;33m\u001b[0m\u001b[0m\n\u001b[0m\u001b[0;32m     10\u001b[0m \u001b[1;33m\u001b[0m\u001b[0m\n",
      "\u001b[1;32m<ipython-input-5-640ae8a26d7c>\u001b[0m in \u001b[0;36mpick_random_next_stage\u001b[1;34m(_possible_next_steps, state_comb_to_walks_comb_dict)\u001b[0m\n\u001b[0;32m      7\u001b[0m         \u001b[1;32mreturn\u001b[0m \u001b[0mfirst_pick\u001b[0m\u001b[1;33m\u001b[0m\u001b[0m\n\u001b[0;32m      8\u001b[0m     \u001b[0m_possible_next_steps\u001b[0m\u001b[1;33m.\u001b[0m\u001b[0mremove\u001b[0m\u001b[1;33m(\u001b[0m\u001b[0mfirst_pick\u001b[0m\u001b[1;33m)\u001b[0m\u001b[1;33m\u001b[0m\u001b[0m\n\u001b[1;32m----> 9\u001b[1;33m     \u001b[1;32mreturn\u001b[0m \u001b[0mpick_random_next_stage\u001b[0m\u001b[1;33m(\u001b[0m\u001b[0m_possible_next_steps\u001b[0m\u001b[1;33m,\u001b[0m\u001b[0mstate_comb_to_walks_comb_dict\u001b[0m\u001b[1;33m)\u001b[0m\u001b[1;33m\u001b[0m\u001b[0m\n\u001b[0m\u001b[0;32m     10\u001b[0m \u001b[1;33m\u001b[0m\u001b[0m\n",
      "\u001b[1;32m<ipython-input-5-640ae8a26d7c>\u001b[0m in \u001b[0;36mpick_random_next_stage\u001b[1;34m(_possible_next_steps, state_comb_to_walks_comb_dict)\u001b[0m\n\u001b[0;32m      7\u001b[0m         \u001b[1;32mreturn\u001b[0m \u001b[0mfirst_pick\u001b[0m\u001b[1;33m\u001b[0m\u001b[0m\n\u001b[0;32m      8\u001b[0m     \u001b[0m_possible_next_steps\u001b[0m\u001b[1;33m.\u001b[0m\u001b[0mremove\u001b[0m\u001b[1;33m(\u001b[0m\u001b[0mfirst_pick\u001b[0m\u001b[1;33m)\u001b[0m\u001b[1;33m\u001b[0m\u001b[0m\n\u001b[1;32m----> 9\u001b[1;33m     \u001b[1;32mreturn\u001b[0m \u001b[0mpick_random_next_stage\u001b[0m\u001b[1;33m(\u001b[0m\u001b[0m_possible_next_steps\u001b[0m\u001b[1;33m,\u001b[0m\u001b[0mstate_comb_to_walks_comb_dict\u001b[0m\u001b[1;33m)\u001b[0m\u001b[1;33m\u001b[0m\u001b[0m\n\u001b[0m\u001b[0;32m     10\u001b[0m \u001b[1;33m\u001b[0m\u001b[0m\n",
      "\u001b[1;32m<ipython-input-5-640ae8a26d7c>\u001b[0m in \u001b[0;36mpick_random_next_stage\u001b[1;34m(_possible_next_steps, state_comb_to_walks_comb_dict)\u001b[0m\n\u001b[0;32m      7\u001b[0m         \u001b[1;32mreturn\u001b[0m \u001b[0mfirst_pick\u001b[0m\u001b[1;33m\u001b[0m\u001b[0m\n\u001b[0;32m      8\u001b[0m     \u001b[0m_possible_next_steps\u001b[0m\u001b[1;33m.\u001b[0m\u001b[0mremove\u001b[0m\u001b[1;33m(\u001b[0m\u001b[0mfirst_pick\u001b[0m\u001b[1;33m)\u001b[0m\u001b[1;33m\u001b[0m\u001b[0m\n\u001b[1;32m----> 9\u001b[1;33m     \u001b[1;32mreturn\u001b[0m \u001b[0mpick_random_next_stage\u001b[0m\u001b[1;33m(\u001b[0m\u001b[0m_possible_next_steps\u001b[0m\u001b[1;33m,\u001b[0m\u001b[0mstate_comb_to_walks_comb_dict\u001b[0m\u001b[1;33m)\u001b[0m\u001b[1;33m\u001b[0m\u001b[0m\n\u001b[0m\u001b[0;32m     10\u001b[0m \u001b[1;33m\u001b[0m\u001b[0m\n",
      "\u001b[1;32m<ipython-input-5-640ae8a26d7c>\u001b[0m in \u001b[0;36mpick_random_next_stage\u001b[1;34m(_possible_next_steps, state_comb_to_walks_comb_dict)\u001b[0m\n\u001b[0;32m      7\u001b[0m         \u001b[1;32mreturn\u001b[0m \u001b[0mfirst_pick\u001b[0m\u001b[1;33m\u001b[0m\u001b[0m\n\u001b[0;32m      8\u001b[0m     \u001b[0m_possible_next_steps\u001b[0m\u001b[1;33m.\u001b[0m\u001b[0mremove\u001b[0m\u001b[1;33m(\u001b[0m\u001b[0mfirst_pick\u001b[0m\u001b[1;33m)\u001b[0m\u001b[1;33m\u001b[0m\u001b[0m\n\u001b[1;32m----> 9\u001b[1;33m     \u001b[1;32mreturn\u001b[0m \u001b[0mpick_random_next_stage\u001b[0m\u001b[1;33m(\u001b[0m\u001b[0m_possible_next_steps\u001b[0m\u001b[1;33m,\u001b[0m\u001b[0mstate_comb_to_walks_comb_dict\u001b[0m\u001b[1;33m)\u001b[0m\u001b[1;33m\u001b[0m\u001b[0m\n\u001b[0m\u001b[0;32m     10\u001b[0m \u001b[1;33m\u001b[0m\u001b[0m\n",
      "\u001b[1;32m<ipython-input-5-640ae8a26d7c>\u001b[0m in \u001b[0;36mpick_random_next_stage\u001b[1;34m(_possible_next_steps, state_comb_to_walks_comb_dict)\u001b[0m\n\u001b[0;32m      7\u001b[0m         \u001b[1;32mreturn\u001b[0m \u001b[0mfirst_pick\u001b[0m\u001b[1;33m\u001b[0m\u001b[0m\n\u001b[0;32m      8\u001b[0m     \u001b[0m_possible_next_steps\u001b[0m\u001b[1;33m.\u001b[0m\u001b[0mremove\u001b[0m\u001b[1;33m(\u001b[0m\u001b[0mfirst_pick\u001b[0m\u001b[1;33m)\u001b[0m\u001b[1;33m\u001b[0m\u001b[0m\n\u001b[1;32m----> 9\u001b[1;33m     \u001b[1;32mreturn\u001b[0m \u001b[0mpick_random_next_stage\u001b[0m\u001b[1;33m(\u001b[0m\u001b[0m_possible_next_steps\u001b[0m\u001b[1;33m,\u001b[0m\u001b[0mstate_comb_to_walks_comb_dict\u001b[0m\u001b[1;33m)\u001b[0m\u001b[1;33m\u001b[0m\u001b[0m\n\u001b[0m\u001b[0;32m     10\u001b[0m \u001b[1;33m\u001b[0m\u001b[0m\n",
      "\u001b[1;32m<ipython-input-5-640ae8a26d7c>\u001b[0m in \u001b[0;36mpick_random_next_stage\u001b[1;34m(_possible_next_steps, state_comb_to_walks_comb_dict)\u001b[0m\n\u001b[0;32m      7\u001b[0m         \u001b[1;32mreturn\u001b[0m \u001b[0mfirst_pick\u001b[0m\u001b[1;33m\u001b[0m\u001b[0m\n\u001b[0;32m      8\u001b[0m     \u001b[0m_possible_next_steps\u001b[0m\u001b[1;33m.\u001b[0m\u001b[0mremove\u001b[0m\u001b[1;33m(\u001b[0m\u001b[0mfirst_pick\u001b[0m\u001b[1;33m)\u001b[0m\u001b[1;33m\u001b[0m\u001b[0m\n\u001b[1;32m----> 9\u001b[1;33m     \u001b[1;32mreturn\u001b[0m \u001b[0mpick_random_next_stage\u001b[0m\u001b[1;33m(\u001b[0m\u001b[0m_possible_next_steps\u001b[0m\u001b[1;33m,\u001b[0m\u001b[0mstate_comb_to_walks_comb_dict\u001b[0m\u001b[1;33m)\u001b[0m\u001b[1;33m\u001b[0m\u001b[0m\n\u001b[0m\u001b[0;32m     10\u001b[0m \u001b[1;33m\u001b[0m\u001b[0m\n",
      "\u001b[1;32m<ipython-input-5-640ae8a26d7c>\u001b[0m in \u001b[0;36mpick_random_next_stage\u001b[1;34m(_possible_next_steps, state_comb_to_walks_comb_dict)\u001b[0m\n\u001b[0;32m      7\u001b[0m         \u001b[1;32mreturn\u001b[0m \u001b[0mfirst_pick\u001b[0m\u001b[1;33m\u001b[0m\u001b[0m\n\u001b[0;32m      8\u001b[0m     \u001b[0m_possible_next_steps\u001b[0m\u001b[1;33m.\u001b[0m\u001b[0mremove\u001b[0m\u001b[1;33m(\u001b[0m\u001b[0mfirst_pick\u001b[0m\u001b[1;33m)\u001b[0m\u001b[1;33m\u001b[0m\u001b[0m\n\u001b[1;32m----> 9\u001b[1;33m     \u001b[1;32mreturn\u001b[0m \u001b[0mpick_random_next_stage\u001b[0m\u001b[1;33m(\u001b[0m\u001b[0m_possible_next_steps\u001b[0m\u001b[1;33m,\u001b[0m\u001b[0mstate_comb_to_walks_comb_dict\u001b[0m\u001b[1;33m)\u001b[0m\u001b[1;33m\u001b[0m\u001b[0m\n\u001b[0m\u001b[0;32m     10\u001b[0m \u001b[1;33m\u001b[0m\u001b[0m\n",
      "\u001b[1;32m<ipython-input-5-640ae8a26d7c>\u001b[0m in \u001b[0;36mpick_random_next_stage\u001b[1;34m(_possible_next_steps, state_comb_to_walks_comb_dict)\u001b[0m\n\u001b[0;32m      7\u001b[0m         \u001b[1;32mreturn\u001b[0m \u001b[0mfirst_pick\u001b[0m\u001b[1;33m\u001b[0m\u001b[0m\n\u001b[0;32m      8\u001b[0m     \u001b[0m_possible_next_steps\u001b[0m\u001b[1;33m.\u001b[0m\u001b[0mremove\u001b[0m\u001b[1;33m(\u001b[0m\u001b[0mfirst_pick\u001b[0m\u001b[1;33m)\u001b[0m\u001b[1;33m\u001b[0m\u001b[0m\n\u001b[1;32m----> 9\u001b[1;33m     \u001b[1;32mreturn\u001b[0m \u001b[0mpick_random_next_stage\u001b[0m\u001b[1;33m(\u001b[0m\u001b[0m_possible_next_steps\u001b[0m\u001b[1;33m,\u001b[0m\u001b[0mstate_comb_to_walks_comb_dict\u001b[0m\u001b[1;33m)\u001b[0m\u001b[1;33m\u001b[0m\u001b[0m\n\u001b[0m\u001b[0;32m     10\u001b[0m \u001b[1;33m\u001b[0m\u001b[0m\n",
      "\u001b[1;32m<ipython-input-5-640ae8a26d7c>\u001b[0m in \u001b[0;36mpick_random_next_stage\u001b[1;34m(_possible_next_steps, state_comb_to_walks_comb_dict)\u001b[0m\n\u001b[0;32m      7\u001b[0m         \u001b[1;32mreturn\u001b[0m \u001b[0mfirst_pick\u001b[0m\u001b[1;33m\u001b[0m\u001b[0m\n\u001b[0;32m      8\u001b[0m     \u001b[0m_possible_next_steps\u001b[0m\u001b[1;33m.\u001b[0m\u001b[0mremove\u001b[0m\u001b[1;33m(\u001b[0m\u001b[0mfirst_pick\u001b[0m\u001b[1;33m)\u001b[0m\u001b[1;33m\u001b[0m\u001b[0m\n\u001b[1;32m----> 9\u001b[1;33m     \u001b[1;32mreturn\u001b[0m \u001b[0mpick_random_next_stage\u001b[0m\u001b[1;33m(\u001b[0m\u001b[0m_possible_next_steps\u001b[0m\u001b[1;33m,\u001b[0m\u001b[0mstate_comb_to_walks_comb_dict\u001b[0m\u001b[1;33m)\u001b[0m\u001b[1;33m\u001b[0m\u001b[0m\n\u001b[0m\u001b[0;32m     10\u001b[0m \u001b[1;33m\u001b[0m\u001b[0m\n",
      "\u001b[1;32m<ipython-input-5-640ae8a26d7c>\u001b[0m in \u001b[0;36mpick_random_next_stage\u001b[1;34m(_possible_next_steps, state_comb_to_walks_comb_dict)\u001b[0m\n\u001b[0;32m      7\u001b[0m         \u001b[1;32mreturn\u001b[0m \u001b[0mfirst_pick\u001b[0m\u001b[1;33m\u001b[0m\u001b[0m\n\u001b[0;32m      8\u001b[0m     \u001b[0m_possible_next_steps\u001b[0m\u001b[1;33m.\u001b[0m\u001b[0mremove\u001b[0m\u001b[1;33m(\u001b[0m\u001b[0mfirst_pick\u001b[0m\u001b[1;33m)\u001b[0m\u001b[1;33m\u001b[0m\u001b[0m\n\u001b[1;32m----> 9\u001b[1;33m     \u001b[1;32mreturn\u001b[0m \u001b[0mpick_random_next_stage\u001b[0m\u001b[1;33m(\u001b[0m\u001b[0m_possible_next_steps\u001b[0m\u001b[1;33m,\u001b[0m\u001b[0mstate_comb_to_walks_comb_dict\u001b[0m\u001b[1;33m)\u001b[0m\u001b[1;33m\u001b[0m\u001b[0m\n\u001b[0m\u001b[0;32m     10\u001b[0m \u001b[1;33m\u001b[0m\u001b[0m\n",
      "\u001b[1;32m<ipython-input-5-640ae8a26d7c>\u001b[0m in \u001b[0;36mpick_random_next_stage\u001b[1;34m(_possible_next_steps, state_comb_to_walks_comb_dict)\u001b[0m\n\u001b[0;32m      7\u001b[0m         \u001b[1;32mreturn\u001b[0m \u001b[0mfirst_pick\u001b[0m\u001b[1;33m\u001b[0m\u001b[0m\n\u001b[0;32m      8\u001b[0m     \u001b[0m_possible_next_steps\u001b[0m\u001b[1;33m.\u001b[0m\u001b[0mremove\u001b[0m\u001b[1;33m(\u001b[0m\u001b[0mfirst_pick\u001b[0m\u001b[1;33m)\u001b[0m\u001b[1;33m\u001b[0m\u001b[0m\n\u001b[1;32m----> 9\u001b[1;33m     \u001b[1;32mreturn\u001b[0m \u001b[0mpick_random_next_stage\u001b[0m\u001b[1;33m(\u001b[0m\u001b[0m_possible_next_steps\u001b[0m\u001b[1;33m,\u001b[0m\u001b[0mstate_comb_to_walks_comb_dict\u001b[0m\u001b[1;33m)\u001b[0m\u001b[1;33m\u001b[0m\u001b[0m\n\u001b[0m\u001b[0;32m     10\u001b[0m \u001b[1;33m\u001b[0m\u001b[0m\n",
      "\u001b[1;32m<ipython-input-5-640ae8a26d7c>\u001b[0m in \u001b[0;36mpick_random_next_stage\u001b[1;34m(_possible_next_steps, state_comb_to_walks_comb_dict)\u001b[0m\n\u001b[0;32m      7\u001b[0m         \u001b[1;32mreturn\u001b[0m \u001b[0mfirst_pick\u001b[0m\u001b[1;33m\u001b[0m\u001b[0m\n\u001b[0;32m      8\u001b[0m     \u001b[0m_possible_next_steps\u001b[0m\u001b[1;33m.\u001b[0m\u001b[0mremove\u001b[0m\u001b[1;33m(\u001b[0m\u001b[0mfirst_pick\u001b[0m\u001b[1;33m)\u001b[0m\u001b[1;33m\u001b[0m\u001b[0m\n\u001b[1;32m----> 9\u001b[1;33m     \u001b[1;32mreturn\u001b[0m \u001b[0mpick_random_next_stage\u001b[0m\u001b[1;33m(\u001b[0m\u001b[0m_possible_next_steps\u001b[0m\u001b[1;33m,\u001b[0m\u001b[0mstate_comb_to_walks_comb_dict\u001b[0m\u001b[1;33m)\u001b[0m\u001b[1;33m\u001b[0m\u001b[0m\n\u001b[0m\u001b[0;32m     10\u001b[0m \u001b[1;33m\u001b[0m\u001b[0m\n",
      "\u001b[1;32m<ipython-input-5-640ae8a26d7c>\u001b[0m in \u001b[0;36mpick_random_next_stage\u001b[1;34m(_possible_next_steps, state_comb_to_walks_comb_dict)\u001b[0m\n\u001b[0;32m      7\u001b[0m         \u001b[1;32mreturn\u001b[0m \u001b[0mfirst_pick\u001b[0m\u001b[1;33m\u001b[0m\u001b[0m\n\u001b[0;32m      8\u001b[0m     \u001b[0m_possible_next_steps\u001b[0m\u001b[1;33m.\u001b[0m\u001b[0mremove\u001b[0m\u001b[1;33m(\u001b[0m\u001b[0mfirst_pick\u001b[0m\u001b[1;33m)\u001b[0m\u001b[1;33m\u001b[0m\u001b[0m\n\u001b[1;32m----> 9\u001b[1;33m     \u001b[1;32mreturn\u001b[0m \u001b[0mpick_random_next_stage\u001b[0m\u001b[1;33m(\u001b[0m\u001b[0m_possible_next_steps\u001b[0m\u001b[1;33m,\u001b[0m\u001b[0mstate_comb_to_walks_comb_dict\u001b[0m\u001b[1;33m)\u001b[0m\u001b[1;33m\u001b[0m\u001b[0m\n\u001b[0m\u001b[0;32m     10\u001b[0m \u001b[1;33m\u001b[0m\u001b[0m\n",
      "\u001b[1;32m<ipython-input-5-640ae8a26d7c>\u001b[0m in \u001b[0;36mpick_random_next_stage\u001b[1;34m(_possible_next_steps, state_comb_to_walks_comb_dict)\u001b[0m\n\u001b[0;32m      7\u001b[0m         \u001b[1;32mreturn\u001b[0m \u001b[0mfirst_pick\u001b[0m\u001b[1;33m\u001b[0m\u001b[0m\n\u001b[0;32m      8\u001b[0m     \u001b[0m_possible_next_steps\u001b[0m\u001b[1;33m.\u001b[0m\u001b[0mremove\u001b[0m\u001b[1;33m(\u001b[0m\u001b[0mfirst_pick\u001b[0m\u001b[1;33m)\u001b[0m\u001b[1;33m\u001b[0m\u001b[0m\n\u001b[1;32m----> 9\u001b[1;33m     \u001b[1;32mreturn\u001b[0m \u001b[0mpick_random_next_stage\u001b[0m\u001b[1;33m(\u001b[0m\u001b[0m_possible_next_steps\u001b[0m\u001b[1;33m,\u001b[0m\u001b[0mstate_comb_to_walks_comb_dict\u001b[0m\u001b[1;33m)\u001b[0m\u001b[1;33m\u001b[0m\u001b[0m\n\u001b[0m\u001b[0;32m     10\u001b[0m \u001b[1;33m\u001b[0m\u001b[0m\n",
      "\u001b[1;32m<ipython-input-5-640ae8a26d7c>\u001b[0m in \u001b[0;36mpick_random_next_stage\u001b[1;34m(_possible_next_steps, state_comb_to_walks_comb_dict)\u001b[0m\n\u001b[0;32m      7\u001b[0m         \u001b[1;32mreturn\u001b[0m \u001b[0mfirst_pick\u001b[0m\u001b[1;33m\u001b[0m\u001b[0m\n\u001b[0;32m      8\u001b[0m     \u001b[0m_possible_next_steps\u001b[0m\u001b[1;33m.\u001b[0m\u001b[0mremove\u001b[0m\u001b[1;33m(\u001b[0m\u001b[0mfirst_pick\u001b[0m\u001b[1;33m)\u001b[0m\u001b[1;33m\u001b[0m\u001b[0m\n\u001b[1;32m----> 9\u001b[1;33m     \u001b[1;32mreturn\u001b[0m \u001b[0mpick_random_next_stage\u001b[0m\u001b[1;33m(\u001b[0m\u001b[0m_possible_next_steps\u001b[0m\u001b[1;33m,\u001b[0m\u001b[0mstate_comb_to_walks_comb_dict\u001b[0m\u001b[1;33m)\u001b[0m\u001b[1;33m\u001b[0m\u001b[0m\n\u001b[0m\u001b[0;32m     10\u001b[0m \u001b[1;33m\u001b[0m\u001b[0m\n",
      "\u001b[1;32m<ipython-input-5-640ae8a26d7c>\u001b[0m in \u001b[0;36mpick_random_next_stage\u001b[1;34m(_possible_next_steps, state_comb_to_walks_comb_dict)\u001b[0m\n\u001b[0;32m      7\u001b[0m         \u001b[1;32mreturn\u001b[0m \u001b[0mfirst_pick\u001b[0m\u001b[1;33m\u001b[0m\u001b[0m\n\u001b[0;32m      8\u001b[0m     \u001b[0m_possible_next_steps\u001b[0m\u001b[1;33m.\u001b[0m\u001b[0mremove\u001b[0m\u001b[1;33m(\u001b[0m\u001b[0mfirst_pick\u001b[0m\u001b[1;33m)\u001b[0m\u001b[1;33m\u001b[0m\u001b[0m\n\u001b[1;32m----> 9\u001b[1;33m     \u001b[1;32mreturn\u001b[0m \u001b[0mpick_random_next_stage\u001b[0m\u001b[1;33m(\u001b[0m\u001b[0m_possible_next_steps\u001b[0m\u001b[1;33m,\u001b[0m\u001b[0mstate_comb_to_walks_comb_dict\u001b[0m\u001b[1;33m)\u001b[0m\u001b[1;33m\u001b[0m\u001b[0m\n\u001b[0m\u001b[0;32m     10\u001b[0m \u001b[1;33m\u001b[0m\u001b[0m\n",
      "\u001b[1;32m<ipython-input-5-640ae8a26d7c>\u001b[0m in \u001b[0;36mpick_random_next_stage\u001b[1;34m(_possible_next_steps, state_comb_to_walks_comb_dict)\u001b[0m\n\u001b[0;32m      7\u001b[0m         \u001b[1;32mreturn\u001b[0m \u001b[0mfirst_pick\u001b[0m\u001b[1;33m\u001b[0m\u001b[0m\n\u001b[0;32m      8\u001b[0m     \u001b[0m_possible_next_steps\u001b[0m\u001b[1;33m.\u001b[0m\u001b[0mremove\u001b[0m\u001b[1;33m(\u001b[0m\u001b[0mfirst_pick\u001b[0m\u001b[1;33m)\u001b[0m\u001b[1;33m\u001b[0m\u001b[0m\n\u001b[1;32m----> 9\u001b[1;33m     \u001b[1;32mreturn\u001b[0m \u001b[0mpick_random_next_stage\u001b[0m\u001b[1;33m(\u001b[0m\u001b[0m_possible_next_steps\u001b[0m\u001b[1;33m,\u001b[0m\u001b[0mstate_comb_to_walks_comb_dict\u001b[0m\u001b[1;33m)\u001b[0m\u001b[1;33m\u001b[0m\u001b[0m\n\u001b[0m\u001b[0;32m     10\u001b[0m \u001b[1;33m\u001b[0m\u001b[0m\n",
      "\u001b[1;32m<ipython-input-5-640ae8a26d7c>\u001b[0m in \u001b[0;36mpick_random_next_stage\u001b[1;34m(_possible_next_steps, state_comb_to_walks_comb_dict)\u001b[0m\n\u001b[0;32m      6\u001b[0m     \u001b[1;32mif\u001b[0m \u001b[0mfirst_pick\u001b[0m \u001b[1;32min\u001b[0m \u001b[0mall_possible_states\u001b[0m \u001b[1;33m:\u001b[0m\u001b[1;33m\u001b[0m\u001b[0m\n\u001b[0;32m      7\u001b[0m         \u001b[1;32mreturn\u001b[0m \u001b[0mfirst_pick\u001b[0m\u001b[1;33m\u001b[0m\u001b[0m\n\u001b[1;32m----> 8\u001b[1;33m     \u001b[0m_possible_next_steps\u001b[0m\u001b[1;33m.\u001b[0m\u001b[0mremove\u001b[0m\u001b[1;33m(\u001b[0m\u001b[0mfirst_pick\u001b[0m\u001b[1;33m)\u001b[0m\u001b[1;33m\u001b[0m\u001b[0m\n\u001b[0m\u001b[0;32m      9\u001b[0m     \u001b[1;32mreturn\u001b[0m \u001b[0mpick_random_next_stage\u001b[0m\u001b[1;33m(\u001b[0m\u001b[0m_possible_next_steps\u001b[0m\u001b[1;33m,\u001b[0m\u001b[0mstate_comb_to_walks_comb_dict\u001b[0m\u001b[1;33m)\u001b[0m\u001b[1;33m\u001b[0m\u001b[0m\n\u001b[0;32m     10\u001b[0m \u001b[1;33m\u001b[0m\u001b[0m\n",
      "\u001b[1;31mKeyboardInterrupt\u001b[0m: "
     ]
    }
   ],
   "source": [
    "all_possible_states = list(state_comb_to_walks_comb_dict.keys())\n",
    "seqs = [] \n",
    "for i in range(number_of_seqs):\n",
    "    seq = []\n",
    "    random_state_idx = random.randint(0,n_of_states_in_meta_network)\n",
    "    curr_random_state = all_possible_states[random_state_idx]\n",
    "    seq.append(curr_random_state)\n",
    "    \n",
    "    for j in range(size_of_possible_rw) : \n",
    "        possible_next_steps = copy.copy(state_comb_to_walks_comb_dict[curr_random_state])\n",
    "        curr_random_state = pick_random_next_stage(possible_next_steps,state_comb_to_walks_comb_dict)\n",
    "        \n",
    "        if curr_random_state is None : \n",
    "            random_state_idx = random.randint(0,n_of_states_in_meta_network)\n",
    "            curr_random_state = all_possible_states[random_state_idx]\n",
    "            \n",
    "        seq.append(curr_random_state)\n",
    "        \n",
    "    seqs.append(seq)\n",
    "    "
   ]
  },
  {
   "cell_type": "code",
   "execution_count": null,
   "metadata": {},
   "outputs": [],
   "source": [
    "def return_multi_hot(state_set) : \n",
    "    multi_hot_vector_state = np.zeros((n_of_chains*n_dim_of_chain,1))\n",
    "    multi_hot_vector_state[list(state_set)] = 1\n",
    "    return multi_hot_vector_state.T[0]\n",
    "\n",
    "def return_multi_hot_vectors(vectors) :\n",
    "    return np.array([return_multi_hot(vector) for vector in vectors])\n",
    "    \n",
    "sampled_seqs = [return_multi_hot_vectors(random.choices(s,k=4)) for s in seqs]"
   ]
  },
  {
   "cell_type": "code",
   "execution_count": null,
   "metadata": {},
   "outputs": [],
   "source": [
    "# with open(\"sampled_seqs.pkl\",'wb') as f : \n",
    "#     pkl.dump(sampled_seqs,f)"
   ]
  },
  {
   "cell_type": "code",
   "execution_count": null,
   "metadata": {},
   "outputs": [],
   "source": [
    "sampled_seqs[1].shape"
   ]
  }
 ],
 "metadata": {
  "hide_input": false,
  "kernelspec": {
   "display_name": "Python 3",
   "language": "python",
   "name": "python3"
  },
  "language_info": {
   "codemirror_mode": {
    "name": "ipython",
    "version": 3
   },
   "file_extension": ".py",
   "mimetype": "text/x-python",
   "name": "python",
   "nbconvert_exporter": "python",
   "pygments_lexer": "ipython3",
   "version": "3.6.5"
  },
  "toc": {
   "base_numbering": 1,
   "nav_menu": {},
   "number_sections": true,
   "sideBar": true,
   "skip_h1_title": false,
   "title_cell": "Table of Contents",
   "title_sidebar": "Contents",
   "toc_cell": false,
   "toc_position": {},
   "toc_section_display": true,
   "toc_window_display": false
  }
 },
 "nbformat": 4,
 "nbformat_minor": 2
}
